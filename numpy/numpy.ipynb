{
 "cells": [
  {
   "cell_type": "markdown",
   "metadata": {},
   "source": [
    "# numpy 学习笔记\n"
   ]
  },
  {
   "cell_type": "markdown",
   "metadata": {},
   "source": [
    "## numpy 基础\n",
    "\n",
    "1. numpy 初始化常用 array 函数\n",
    "   - array 可传入一个数组\n"
   ]
  },
  {
   "cell_type": "code",
   "execution_count": 39,
   "metadata": {},
   "outputs": [
    {
     "name": "stdout",
     "output_type": "stream",
     "text": [
      "[1 2 3 4 5]\n",
      "(5,)\n",
      "int64\n",
      "------\n",
      "[[1 2 3]\n",
      " [4 5 6]]\n",
      "(2, 3)\n",
      "int64\n"
     ]
    }
   ],
   "source": [
    "import numpy as np\n",
    "\n",
    "a= np.array([1, 2, 3, 4, 5])\n",
    "\n",
    "print(a)\n",
    "print(a.shape)\n",
    "print(a.dtype)\n",
    "\n",
    "print(\"------\")\n",
    "a = np.array([[1, 2, 3], [4, 5, 6]])\n",
    "print(a)\n",
    "print(a.shape)\n",
    "print(a.dtype)"
   ]
  },
  {
   "cell_type": "markdown",
   "metadata": {},
   "source": [
    "- zeros 初始化一个全零的数组，只需传入数组的形状即可\n",
    "- ones 初始化为一个全 1 的数组，只需传入数组的形状即可\n",
    "- empty 初始化一个空数组，不是全零\n",
    "- eye 初始化为一个 n 阶单位矩阵\n"
   ]
  },
  {
   "cell_type": "code",
   "execution_count": 40,
   "metadata": {},
   "outputs": [
    {
     "name": "stdout",
     "output_type": "stream",
     "text": [
      "[[0. 0. 0. 0.]\n",
      " [0. 0. 0. 0.]\n",
      " [0. 0. 0. 0.]]\n",
      "------\n",
      "[[1 1 1]\n",
      " [1 1 1]]\n",
      "------\n",
      "[[0. 0. 0.]\n",
      " [0. 0. 0.]]\n",
      "------\n",
      "[[1. 0. 0. 0.]\n",
      " [0. 1. 0. 0.]\n",
      " [0. 0. 1. 0.]\n",
      " [0. 0. 0. 1.]]\n"
     ]
    }
   ],
   "source": [
    "import numpy as np\n",
    "b = np.zeros((3,4))\n",
    "c = np.ones((2,3),dtype=np.int16)\n",
    "d = np.empty((2,3))\n",
    "e =np.eye(4)\n",
    "print(b)\n",
    "print(\"------\")\n",
    "print(c)\n",
    "print(\"------\")\n",
    "print(d)\n",
    "print(\"------\")\n",
    "print(e)"
   ]
  },
  {
   "cell_type": "markdown",
   "metadata": {},
   "source": [
    "2. arange 是 Python 内置函数 range 的数组版：\n"
   ]
  },
  {
   "cell_type": "code",
   "execution_count": 41,
   "metadata": {},
   "outputs": [
    {
     "data": {
      "text/plain": [
       "array([10, 12, 14, 16, 18])"
      ]
     },
     "execution_count": 41,
     "metadata": {},
     "output_type": "execute_result"
    }
   ],
   "source": [
    "import numpy as np\n",
    "a = np.arange(10,20,2) #10-20 步长为2\n",
    "a"
   ]
  },
  {
   "cell_type": "markdown",
   "metadata": {},
   "source": [
    "3. ndarray 的数据类型\n",
    "   - dtype 可显示数组的数据类型\n",
    "   - astype 可以将数据类型进行转换\n",
    "   - 如果字符串数组存储的是数据字符串，用 astype 转换可以变成对应数据\n"
   ]
  },
  {
   "cell_type": "code",
   "execution_count": 42,
   "metadata": {},
   "outputs": [
    {
     "name": "stdout",
     "output_type": "stream",
     "text": [
      "int64\n",
      "------\n",
      "float64\n",
      "[1. 2. 3. 4. 5.]\n",
      "------\n",
      "[ 1.25 -9.6  42.  ]\n"
     ]
    }
   ],
   "source": [
    "import numpy as np\n",
    "arr = np.array([1, 2, 3, 4, 5])\n",
    "print(arr.dtype)\n",
    "float_arr = arr.astype(np.float64)\n",
    "print(\"------\")\n",
    "print(float_arr.dtype)\n",
    "print(float_arr)\n",
    "print(\"------\")\n",
    "a = np.array(['1.25', '-9.6', '42'])\n",
    "b = a.astype(float)\n",
    "print(b)\n"
   ]
  },
  {
   "cell_type": "markdown",
   "metadata": {},
   "source": [
    "## 广播规则\n",
    "\n",
    "广播规则的核心思想是：\n",
    "\n",
    "维度对齐：如果两个数组的维度数不同，则在维度数较小的数组前面添加维度，使其维度数与另一个数组相同。\n",
    "\n",
    "形状匹配：如果两个数组在某个维度上的大小相同，或者其中一个数组在该维度上的大小为 1，则它们在该维度上是兼容的。\n",
    "\n",
    "运算执行：对于兼容的维度，NumPy 会将大小为 1 的数组“广播”到与另一个数组相同的形状，然后进行运算。"
   ]
  },
  {
   "cell_type": "code",
   "execution_count": 43,
   "metadata": {},
   "outputs": [
    {
     "name": "stdout",
     "output_type": "stream",
     "text": [
      "[[11 22 33]\n",
      " [14 25 36]]\n"
     ]
    }
   ],
   "source": [
    "import numpy as np\n",
    "\n",
    "arr1 = np.array([[1, 2, 3], [4, 5, 6]])  # 形状为 (2, 3)\n",
    "arr2 = np.array([10, 20, 30])  # 形状为 (3,)\n",
    "\n",
    "print(arr1 + arr2)"
   ]
  },
  {
   "cell_type": "markdown",
   "metadata": {},
   "source": [
    "## numpy 数组运算\n",
    "\n",
    "1. 数组与标量的算术运算（加减乘除运算）会应用到 numpy 数组的每个值\n",
    "2. 大小相同的数组之间的比较会生成布尔值数组\n"
   ]
  },
  {
   "cell_type": "code",
   "execution_count": 44,
   "metadata": {},
   "outputs": [
    {
     "name": "stdout",
     "output_type": "stream",
     "text": [
      "[[1. 2. 3.]\n",
      " [4. 5. 6.]]\n",
      "------\n",
      "[[ 1.  4.  9.]\n",
      " [16. 25. 36.]]\n",
      "------\n",
      "[[0. 0. 0.]\n",
      " [0. 0. 0.]]\n",
      "------\n",
      "[[1.         0.5        0.33333333]\n",
      " [0.25       0.2        0.16666667]]\n",
      "------\n",
      "[[False  True False]\n",
      " [ True False  True]]\n"
     ]
    }
   ],
   "source": [
    "import numpy as np\n",
    "arr = np.array([[1., 2., 3.], [4., 5., 6.]])\n",
    "print(arr)\n",
    "print(\"------\")\n",
    "b = arr * arr\n",
    "print(b)\n",
    "print(\"------\")\n",
    "c = arr - arr\n",
    "print(c)\n",
    "print(\"------\")\n",
    "d = 1 / arr\n",
    "print(d)\n",
    "print(\"------\")\n",
    "arr2 = np.array([[0., 4., 1.], [7., 2., 12.]])\n",
    "e = arr2 > arr\n",
    "print(e)"
   ]
  },
  {
   "cell_type": "markdown",
   "metadata": {},
   "source": [
    "## 切片和索引\n",
    "\n",
    "1. numpy 的索引和切片和 python 类似\n",
    "2. 对切片的操作也会应用到原数组\n"
   ]
  },
  {
   "cell_type": "code",
   "execution_count": 45,
   "metadata": {},
   "outputs": [
    {
     "name": "stdout",
     "output_type": "stream",
     "text": [
      "[5 6 7]\n",
      "------\n",
      "[ 0  1  2  3  4  5 66  7  8  9]\n"
     ]
    }
   ],
   "source": [
    "import numpy as np\n",
    "arr = np.arange(10)\n",
    "arr_slice = arr[5:8]\n",
    "\n",
    "print(arr_slice)\n",
    "print(\"------\")\n",
    "arr_slice[1] = 66 #切片的索引1是原数组索引6\n",
    "print(arr)\n"
   ]
  },
  {
   "cell_type": "code",
   "execution_count": 46,
   "metadata": {},
   "outputs": [
    {
     "name": "stdout",
     "output_type": "stream",
     "text": [
      "[[1 2 3]\n",
      " [4 5 6]\n",
      " [7 8 9]]\n",
      "------\n",
      "8\n",
      "------\n",
      "8\n"
     ]
    }
   ],
   "source": [
    "import numpy as np\n",
    "arr = np.array([[1, 2, 3], [4, 5, 6], [7, 8, 9]])\n",
    "print(arr)\n",
    "print(\"------\")\n",
    "print(arr[2,1])\n",
    "print(\"------\")\n",
    "print(arr[2][1]) #二者等价"
   ]
  },
  {
   "cell_type": "code",
   "execution_count": 47,
   "metadata": {},
   "outputs": [
    {
     "name": "stdout",
     "output_type": "stream",
     "text": [
      "[[[ 1  2  3]\n",
      "  [ 4  5  6]]\n",
      "\n",
      " [[ 7  8  9]\n",
      "  [10 11 12]]]\n",
      "(2, 2, 3)\n",
      "------\n",
      "[[ 7  8  9]\n",
      " [10 11 12]]\n",
      "(2, 3)\n"
     ]
    }
   ],
   "source": [
    "import numpy as np\n",
    "arr3d = np.array([[[1, 2, 3], [4, 5, 6]], [[7, 8, 9], [10, 11, 12]]])\n",
    "print(arr3d)\n",
    "print(arr3d.shape)\n",
    "print(\"------\")\n",
    "print(arr3d[1]) #如果对高维数组进行索引，返回的对象是一个低维数组\n",
    "print(arr3d[1].shape) #此处是对第一个维度进行索引，返回的是一个二维数组"
   ]
  },
  {
   "cell_type": "code",
   "execution_count": 48,
   "metadata": {},
   "outputs": [
    {
     "name": "stdout",
     "output_type": "stream",
     "text": [
      "[[1 2 3]\n",
      " [4 5 6]\n",
      " [7 8 9]]\n",
      "------\n",
      "[[1 2 3]\n",
      " [4 5 6]]\n",
      "------\n",
      "[[4 5 6]\n",
      " [7 8 9]]\n",
      "------\n"
     ]
    },
    {
     "data": {
      "text/plain": [
       "array([[2, 3],\n",
       "       [5, 6]])"
      ]
     },
     "execution_count": 48,
     "metadata": {},
     "output_type": "execute_result"
    }
   ],
   "source": [
    "import numpy as np\n",
    "arr = np.array([[1, 2, 3], [4, 5, 6], [7, 8, 9]])\n",
    "print(arr)\n",
    "print(\"------\")\n",
    "print(arr[:2]) #对第一个维度进行切片\n",
    "print(\"------\")\n",
    "print(arr[1:]) #对第二个维度进行切片\n",
    "print(\"------\")\n",
    "arr[:2, 1:]"
   ]
  },
  {
   "cell_type": "markdown",
   "metadata": {},
   "source": [
    "3. 布尔索引\n",
    "   * 布尔型数组可用于数据索引\n"
   ]
  },
  {
   "cell_type": "code",
   "execution_count": 49,
   "metadata": {},
   "outputs": [
    {
     "name": "stdout",
     "output_type": "stream",
     "text": [
      "大于 5 的元素是：\n",
      "[ 6  7  8  9 10 11]\n"
     ]
    }
   ],
   "source": [
    "import numpy as np \n",
    "x = np.array([[  0,  1,  2],[  3,  4,  5],[  6,  7,  8],[  9,  10,  11]]) \n",
    "print  ('大于 5 的元素是：' ) \n",
    "print (x[x >  5])"
   ]
  },
  {
   "cell_type": "markdown",
   "metadata": {},
   "source": [
    "4. 改变数组形状\n"
   ]
  },
  {
   "cell_type": "code",
   "execution_count": 50,
   "metadata": {},
   "outputs": [
    {
     "name": "stdout",
     "output_type": "stream",
     "text": [
      "[[0. 0. 0.]\n",
      " [0. 0. 0.]\n",
      " [0. 0. 0.]\n",
      " [0. 0. 0.]]\n",
      "------\n",
      "[[[0. 0. 0.]\n",
      "  [0. 0. 0.]]\n",
      "\n",
      " [[0. 0. 0.]\n",
      "  [0. 0. 0.]]]\n"
     ]
    }
   ],
   "source": [
    "import numpy as np \n",
    "b = np.zeros(shape=(3,4))\n",
    "#使用shape改变数组的形状\n",
    "b.shape=(4,3)\n",
    "print(b)\n",
    "\n",
    "#或者也可以使用reshape方法\n",
    "b = b.reshape(2,2,3)#改变为三维\n",
    "print(\"------\")\n",
    "print(b)"
   ]
  },
  {
   "cell_type": "markdown",
   "metadata": {},
   "source": [
    "## 数组迭代\n",
    "* 可以用嵌套循环进行遍历，但高维时比较麻烦\n",
    "* 使用np.nditer()函数可以更简便遍历"
   ]
  },
  {
   "cell_type": "code",
   "execution_count": 51,
   "metadata": {},
   "outputs": [
    {
     "name": "stdout",
     "output_type": "stream",
     "text": [
      "1\n",
      "2\n",
      "3\n",
      "4\n",
      "5\n",
      "6\n",
      "1\n",
      "2\n",
      "3\n",
      "4\n",
      "5\n",
      "6\n"
     ]
    }
   ],
   "source": [
    "import numpy as np\n",
    "\n",
    "arr = np.array([[1, 2, 3], [4, 5, 6]])\n",
    "\n",
    "# 使用嵌套循环\n",
    "for row in arr:\n",
    "    for element in row:\n",
    "        print(element)\n",
    "\n",
    "# 使用 np.nditer()\n",
    "for element in np.nditer(arr):\n",
    "    print(element)"
   ]
  },
  {
   "cell_type": "markdown",
   "metadata": {},
   "source": [
    "## 数组操作\n",
    "\n",
    "1. 数组转置和轴对换\n",
    "   - 使用 T 属性或者 transpose 方法获得矩阵转置\n"
   ]
  },
  {
   "cell_type": "code",
   "execution_count": 52,
   "metadata": {},
   "outputs": [
    {
     "name": "stdout",
     "output_type": "stream",
     "text": [
      "[[ 0  1  2  3  4]\n",
      " [ 5  6  7  8  9]\n",
      " [10 11 12 13 14]]\n",
      "------\n",
      "[[ 0  5 10]\n",
      " [ 1  6 11]\n",
      " [ 2  7 12]\n",
      " [ 3  8 13]\n",
      " [ 4  9 14]]\n",
      "------\n",
      "[[ 0  5 10]\n",
      " [ 1  6 11]\n",
      " [ 2  7 12]\n",
      " [ 3  8 13]\n",
      " [ 4  9 14]]\n"
     ]
    }
   ],
   "source": [
    "import numpy as np\n",
    "arr = np.arange(15).reshape((3, 5))\n",
    "print(arr)\n",
    "print(\"------\")\n",
    "print(arr.T)\n",
    "print(\"------\")\n",
    "print(arr.transpose())"
   ]
  },
  {
   "cell_type": "markdown",
   "metadata": {},
   "source": [
    "- 计算矩阵内积\n"
   ]
  },
  {
   "cell_type": "code",
   "execution_count": 53,
   "metadata": {},
   "outputs": [
    {
     "name": "stdout",
     "output_type": "stream",
     "text": [
      "[[-0.97316533  0.7776491  -0.86171963]\n",
      " [ 1.07841541  0.22712825 -0.2354005 ]\n",
      " [ 0.00702758 -0.27905377  0.94168516]\n",
      " [ 0.42946861 -0.25777466 -0.85711998]\n",
      " [-0.06503863 -1.35779486  1.61335831]\n",
      " [-1.87881495  1.7895497   0.16243384]]\n",
      "------\n",
      "[[ 5.82869885 -3.89843333 -0.18686597]\n",
      " [-3.89843333  5.84673917 -2.66534477]\n",
      " [-0.18686597 -2.66534477  5.04870949]]\n"
     ]
    }
   ],
   "source": [
    "import numpy as np\n",
    "arr = np.random.randn(6, 3)\n",
    "print(arr)\n",
    "print(\"------\")\n",
    "print(np.dot(arr.T, arr))"
   ]
  },
  {
   "cell_type": "markdown",
   "metadata": {},
   "source": [
    "- 如果使用 transpose 进行转置计算内积，在转置时要存入一个变化后的轴编号\n"
   ]
  },
  {
   "cell_type": "code",
   "execution_count": 54,
   "metadata": {},
   "outputs": [
    {
     "name": "stdout",
     "output_type": "stream",
     "text": [
      "[[[ 0  1  2  3]\n",
      "  [ 4  5  6  7]]\n",
      "\n",
      " [[ 8  9 10 11]\n",
      "  [12 13 14 15]]]\n",
      "------\n",
      "[[[ 0  1  2  3]\n",
      "  [ 8  9 10 11]]\n",
      "\n",
      " [[ 4  5  6  7]\n",
      "  [12 13 14 15]]]\n"
     ]
    }
   ],
   "source": [
    "import numpy as np\n",
    "arr = np.arange(16).reshape((2, 2, 4))\n",
    "print(arr)\n",
    "print(\"------\")\n",
    "print(arr.transpose((1, 0, 2)))\n"
   ]
  },
  {
   "cell_type": "markdown",
   "metadata": {},
   "source": [
    "## 通用函数：快速的元素级数组函数\n"
   ]
  },
  {
   "cell_type": "markdown",
   "metadata": {},
   "source": [
    "### 一元函数\n",
    "\n",
    "- abs,fabs:计算绝对值，fabs 计算非复数更快\n",
    "- sqrt:各元素的平方根\n",
    "- square:各元素平方\n",
    "- exp:各元素的指数\n",
    "- log，log10,log2,log1p:分别是 ln，lg，log2，log(1+x)\n",
    "- sign:各元素的正负号（正数为+1，负数为-1，零为 0）\n",
    "- #ceil,floor:向上向下去整\n",
    "- rint:四舍五入\n",
    "- isnan:返回哪些是\"NaN\"的布尔数组\n",
    "- cos,cosh,sin,sinh,tan,tanh,arccos,arcsin,arctan:三角函数\n"
   ]
  },
  {
   "cell_type": "code",
   "execution_count": 55,
   "metadata": {},
   "outputs": [
    {
     "name": "stdout",
     "output_type": "stream",
     "text": [
      "[1 2 3 4 5 6 7 8 9]\n",
      "------\n",
      "[1 2 3 4 5 6 7 8 9]\n",
      "------\n",
      "[1.         1.41421356 1.73205081 2.         2.23606798 2.44948974\n",
      " 2.64575131 2.82842712 3.        ]\n",
      "------\n",
      "[ 1  4  9 16 25 36 49 64 81]\n",
      "------\n",
      "[2.71828183e+00 7.38905610e+00 2.00855369e+01 5.45981500e+01\n",
      " 1.48413159e+02 4.03428793e+02 1.09663316e+03 2.98095799e+03\n",
      " 8.10308393e+03]\n",
      "------\n",
      "[0.         0.69314718 1.09861229 1.38629436 1.60943791 1.79175947\n",
      " 1.94591015 2.07944154 2.19722458]\n"
     ]
    }
   ],
   "source": [
    "import numpy as np\n",
    "arr = np.arange(1,10)\n",
    "print(arr)\n",
    "print(\"------\")\n",
    "print(np.abs(arr))\n",
    "print(\"------\")\n",
    "print(np.sqrt(arr))\n",
    "print(\"------\")\n",
    "print(np.square(arr))\n",
    "print(\"------\")\n",
    "print(np.exp(arr))\n",
    "print(\"------\")\n",
    "print(np.log(arr))\n",
    "\n",
    "\n"
   ]
  },
  {
   "cell_type": "code",
   "execution_count": 56,
   "metadata": {},
   "outputs": [
    {
     "name": "stdout",
     "output_type": "stream",
     "text": [
      "------\n",
      "[1 1 1 1 1 1 1 1 1]\n",
      "------\n",
      "[1. 2. 3. 4. 5. 6. 7. 8. 9.]\n",
      "------\n",
      "[1. 2. 3. 4. 5. 6. 7. 8. 9.]\n",
      "------\n",
      "[1. 2. 3. 4. 5. 6. 7. 8. 9.]\n",
      "------\n",
      "[ 0.84147098  0.90929743  0.14112001 -0.7568025  -0.95892427 -0.2794155\n",
      "  0.6569866   0.98935825  0.41211849]\n"
     ]
    }
   ],
   "source": [
    "import numpy as np\n",
    "arr = np.arange(1,10)\n",
    "print(\"------\")\n",
    "print(np.sign(arr))\n",
    "print(\"------\")\n",
    "print(np.ceil(arr))\n",
    "print(\"------\")\n",
    "print(np.floor(arr))\n",
    "print(\"------\")\n",
    "print(np.rint(arr))\n",
    "print(\"------\")\n",
    "print(np.sin(arr))"
   ]
  },
  {
   "cell_type": "markdown",
   "metadata": {},
   "source": [
    "### 二元函数\n",
    "\n",
    "- add：对应元素相加\n",
    "- subtract:前减后\n",
    "- multiply:乘法（不是点积，而是对应位置元素相乘，要求形状相同或者符合广播）\n",
    "- divide,floor_divide:除法，向下除法（都会丢弃余数，只保留整数）\n",
    "- power:前为 A，后为 B，计算 A^B\n",
    "- maximum,fmax:相同位置元素求最大值，fmax 会忽略 NaN\n",
    "- minimum,fmin:相同位置元素求最小值，fmin 会忽略 NaN\n",
    "- mod:求模运算（取余）\n",
    "- greater，greater_equal...:比较预算\n",
    "- logic_and,logic_or,logic_xor：& | ^\n"
   ]
  },
  {
   "cell_type": "code",
   "execution_count": 57,
   "metadata": {},
   "outputs": [
    {
     "name": "stdout",
     "output_type": "stream",
     "text": [
      "[ 1.87507422  1.95289464  3.31612129  4.92273933  6.32362315  5.07888765\n",
      "  5.99941531  8.17392111  8.03083381 10.20478436]\n",
      "------\n",
      "[-0.12492578 -2.04710536 -2.68387871 -3.07726067 -3.67637685 -6.92111235\n",
      " -8.00058469 -7.82607889 -9.96916619 -9.79521564]\n",
      "------\n",
      "[ 0.87507422 -0.09421072  0.94836387  3.6909573   6.61811573 -5.52667411\n",
      " -7.00409281  1.39136887 -8.72249569  2.04784355]\n",
      "------\n",
      "[ 0.87507422 -0.02355268  0.10537376  0.23068483  0.26472463 -0.15351873\n",
      " -0.14294067  0.02174014 -0.10768513  0.02047844]\n",
      "------\n",
      "[ 8.75074223e-01  2.21891471e-03  3.15908449e-02  7.24963462e-01\n",
      "  4.06276559e+00  6.10767104e-01 -1.00410000e+00  8.37179052e-07\n",
      " -7.54369786e-01  1.29708294e-07]\n"
     ]
    }
   ],
   "source": [
    "import numpy as np\n",
    "arr1 = np.random.randn(10)\n",
    "arr2 = np.arange(1,11)\n",
    "print(np.add(arr1, arr2))\n",
    "print(\"------\")\n",
    "print(np.subtract(arr1, arr2))\n",
    "print(\"------\")\n",
    "print(np.multiply(arr1, arr2))\n",
    "print(\"------\")\n",
    "print(np.divide(arr1, arr2))\n",
    "print(\"------\")\n",
    "print(np.power(arr1, arr2))"
   ]
  },
  {
   "cell_type": "code",
   "execution_count": 58,
   "metadata": {},
   "outputs": [
    {
     "name": "stdout",
     "output_type": "stream",
     "text": [
      "------\n",
      "[ 0.60340468  0.07415919  0.12780785  0.95017861  0.02434834  0.5528695\n",
      "  1.17057569  0.09392126  0.54968911 -0.07764537]\n",
      "------\n",
      "[-0.7186564  -0.70599444 -0.95276062 -0.58629723 -0.42241199 -1.81757513\n",
      "  0.38534414  0.01911118  0.25105412 -0.58856453]\n",
      "------\n",
      "[-0.11525171 -0.63183525 -0.82495276  0.36388138  0.01585818  0.39390288\n",
      "  0.38534414  0.01747653  0.04758088 -0.04504693]\n"
     ]
    }
   ],
   "source": [
    "import numpy as np\n",
    "arr1 = np.random.randn(10)\n",
    "arr2 = np.random.randn(10)\n",
    "print(\"------\")\n",
    "print(np.maximum(arr1, arr2))\n",
    "print(\"------\")\n",
    "print(np.minimum(arr1, arr2))\n",
    "print(\"------\")\n",
    "print(np.mod(arr1, arr2))\n",
    "\n"
   ]
  },
  {
   "cell_type": "markdown",
   "metadata": {},
   "source": [
    "## 条件逻辑用于数组运算\n",
    "\n",
    "- numpy.where 函数是三元表达式 x if condition else y 的矢量化版本。\n",
    "- np.where 的第二个和第三个参数不必是数组，它们都可以是标量值。\n"
   ]
  },
  {
   "cell_type": "code",
   "execution_count": 76,
   "metadata": {},
   "outputs": [
    {
     "name": "stdout",
     "output_type": "stream",
     "text": [
      "[1.1 2.2 1.3 1.4 2.5]\n",
      "------\n",
      "[[ 2 -2  2 -2]\n",
      " [ 2 -2  2 -2]\n",
      " [-2 -2  2  2]\n",
      " [ 2  2  2  2]]\n"
     ]
    }
   ],
   "source": [
    "import numpy as np\n",
    "xarr = np.array([1.1, 1.2, 1.3, 1.4, 1.5])\n",
    "\n",
    "yarr = np.array([2.1, 2.2, 2.3, 2.4, 2.5])\n",
    "\n",
    "cond = np.array([True, False, True, True, False])\n",
    "\n",
    "result = np.where(cond, xarr, yarr)\n",
    "\n",
    "print(result)\n",
    "\n",
    "print(\"------\")\n",
    "arr = np.random.randn(4, 4)\n",
    "carr = np.where(arr > 0, 2, -2)\n",
    "print(carr)"
   ]
  },
  {
   "cell_type": "markdown",
   "metadata": {},
   "source": [
    "## 数学统计方法\n",
    "\n",
    "- sum:对全部或轴向元素求和\n",
    "- mean:求算数平均数\n",
    "- std,var:标准差和方差\n",
    "- min,max:求最小最大值\n",
    "- argmin,argmax:最小最大值的索引\n"
   ]
  },
  {
   "cell_type": "code",
   "execution_count": 60,
   "metadata": {},
   "outputs": [
    {
     "name": "stdout",
     "output_type": "stream",
     "text": [
      "-0.3490946128795373\n",
      "------\n",
      "-0.3490946128795373\n",
      "------\n",
      "-6.981892257590746\n",
      "------\n",
      "0.8175143151434074\n",
      "------\n",
      "0.6683296554643945\n"
     ]
    }
   ],
   "source": [
    "import numpy as np\n",
    "arr = np.random.randn(5, 4)\n",
    "print(arr.mean())\n",
    "print(\"------\")\n",
    "print(np.mean(arr))#两者等价，其他函数均成立\n",
    "print(\"------\")\n",
    "print(arr.sum())\n",
    "print(\"------\")\n",
    "print(arr.std())\n",
    "print(\"------\")\n",
    "print(np.var(arr))"
   ]
  },
  {
   "cell_type": "markdown",
   "metadata": {},
   "source": [
    "- mean 和 sum 这类的函数可以接受一个 axis 选项参数，用于计算该轴向上的统计值\n"
   ]
  },
  {
   "cell_type": "code",
   "execution_count": 61,
   "metadata": {},
   "outputs": [
    {
     "name": "stdout",
     "output_type": "stream",
     "text": [
      "[ 0.12866881  0.35298683  0.39558877 -0.07450902  0.04710226]\n",
      "------\n",
      "[ 1.18475157  2.04536615 -1.11143429  1.28066721]\n"
     ]
    }
   ],
   "source": [
    "import numpy as np\n",
    "arr = np.random.randn(5, 4)\n",
    "print(arr.mean(axis=1))\n",
    "print(\"------\")\n",
    "print(arr.sum(axis=0))\n",
    "#arr.mean(1)是“计算行的平均值”，arr.sum(0)是“计算每列的和”。"
   ]
  },
  {
   "cell_type": "markdown",
   "metadata": {},
   "source": [
    "- 对于布尔型数组，sum 可以求出一共有多少个 True\n",
    "- any()可以判断是否有 1 个以上的 True\n",
    "- all()判断是否全是 True"
   ]
  },
  {
   "cell_type": "code",
   "execution_count": 62,
   "metadata": {},
   "outputs": [
    {
     "name": "stdout",
     "output_type": "stream",
     "text": [
      "[ 0.22764196  0.39575868  0.14029371  0.33559855 -0.89057027  0.76996876\n",
      " -0.67629309  2.05072962  1.27263887 -1.08077218]\n",
      "------\n",
      "[ True  True  True  True False  True False  True  True False]\n",
      "------\n",
      "7\n",
      "------\n",
      "True\n",
      "------\n",
      "False\n"
     ]
    }
   ],
   "source": [
    "import numpy as np\n",
    "arr = np.random.randn(10)\n",
    "print(arr)\n",
    "print(\"------\")\n",
    "print(arr > 0) #对numpy数组进行布尔操作，返回一个布尔值数组\n",
    "print(\"------\")\n",
    "print((arr > 0).sum())#对布尔值数组进行求和操作，True会被强制转换为1\n",
    "print(\"------\")\n",
    "print((arr > 0).any())#检查数组中是否存在True\n",
    "print(\"------\")\n",
    "print((arr > 0).all())#检查数组中是否全为True"
   ]
  },
  {
   "cell_type": "markdown",
   "metadata": {},
   "source": [
    "## 排序\n",
    "\n",
    "- 跟 Python 内置的列表类型一样，NumPy 数组也可以通过 sort 方法就地排序：\n"
   ]
  },
  {
   "cell_type": "code",
   "execution_count": 63,
   "metadata": {},
   "outputs": [
    {
     "name": "stdout",
     "output_type": "stream",
     "text": [
      "[-2.05323805 -0.42501443 -1.11453821 -1.00440051  0.62242014 -1.02180763]\n",
      "------\n",
      "[-2.05323805 -1.11453821 -1.02180763 -1.00440051 -0.42501443  0.62242014]\n"
     ]
    }
   ],
   "source": [
    "import numpy as np\n",
    "arr = np.random.randn(6)\n",
    "print(arr)\n",
    "print(\"------\")\n",
    "arr.sort()\n",
    "print(arr)"
   ]
  },
  {
   "cell_type": "markdown",
   "metadata": {},
   "source": [
    "- 多维数组可以在任何一个轴向上进行排序，只需将轴编号传给 sort 即可：\n",
    "- np.sort 返回的是数组的已排序副本\n"
   ]
  },
  {
   "cell_type": "code",
   "execution_count": 64,
   "metadata": {},
   "outputs": [
    {
     "name": "stdout",
     "output_type": "stream",
     "text": [
      "[[ 0.53670434  0.50660321 -0.53269642]\n",
      " [ 0.37217012  0.67744818  1.75282727]\n",
      " [-1.30329768 -0.55329363 -0.57238302]\n",
      " [-0.66282228  0.41620976 -0.71974694]]\n",
      "------\n",
      "[[-1.30329768 -0.55329363 -0.71974694]\n",
      " [-0.66282228  0.41620976 -0.57238302]\n",
      " [ 0.37217012  0.50660321 -0.53269642]\n",
      " [ 0.53670434  0.67744818  1.75282727]]\n",
      "------\n",
      "[[-1.30329768 -0.71974694 -0.55329363]\n",
      " [-0.66282228 -0.57238302  0.41620976]\n",
      " [-0.53269642  0.37217012  0.50660321]\n",
      " [ 0.53670434  0.67744818  1.75282727]]\n",
      "------\n"
     ]
    }
   ],
   "source": [
    "arr = np.random.randn(4, 3)\n",
    "print(arr)\n",
    "print(\"------\")\n",
    "arr.sort(0) #沿着行的方向进行排序，也就是对列排序\n",
    "print(arr)\n",
    "print(\"------\")\n",
    "print(np.sort(arr,axis=1))#沿着列的方向进行排序，也就是对行排序\n",
    "print(\"------\")\n"
   ]
  },
  {
   "cell_type": "code",
   "execution_count": 77,
   "metadata": {},
   "outputs": [
    {
     "name": "stdout",
     "output_type": "stream",
     "text": [
      "1.564102579728624\n"
     ]
    }
   ],
   "source": [
    "import numpy as np\n",
    "arr = np.random.randn(10)\n",
    "#对排好序的数组进行切片操作，可以得到指定大小的数组\n",
    "np.sort(arr)\n",
    "print(arr[int(0.05 * len(arr))]) #求5%分位数"
   ]
  },
  {
   "cell_type": "markdown",
   "metadata": {},
   "source": [
    "## 数组的集合运算\n",
    "\n",
    "- unique(x):计算 x 中的唯一元素，并返回排序结果\n",
    "- intersect1d(x,y):计算 x 和 y 中的公共元素并返回有序结果\n",
    "- union1d(x,y):计算 x 和 y 的并集，并返回有序结果\n",
    "- isin(x,y):得到一个表示 x 的元素是否存在于 y 中的布尔型数组\n",
    "- setdiff1d(x,y):集合的差：元素在 x 而不在 y 中\n",
    "- setxor1d(x,y):存在于一个数组但不同时存在于两个数组的元素\n"
   ]
  },
  {
   "cell_type": "code",
   "execution_count": 66,
   "metadata": {},
   "outputs": [
    {
     "name": "stdout",
     "output_type": "stream",
     "text": [
      "[0 1 2 3 5]\n",
      "------\n",
      "[1 2 3 5]\n",
      "------\n",
      "[0 1 2 3 4 5]\n",
      "------\n",
      "[ True False  True  True  True]\n",
      "------\n",
      "[0]\n",
      "------\n",
      "[0 4]\n"
     ]
    }
   ],
   "source": [
    "import numpy as np;\n",
    "arr1 = np.array([5, 0, 1, 3, 2])\n",
    "arr2 = np.array([1, 2, 3, 4, 5])\n",
    "print(np.unique(arr1))\n",
    "print(\"------\")\n",
    "print(np.intersect1d(arr1, arr2))\n",
    "print(\"------\")\n",
    "print(np.union1d(arr1, arr2))\n",
    "print(\"------\")\n",
    "print(np.isin(arr1, arr2))\n",
    "print(\"------\")\n",
    "print(np.setdiff1d(arr1, arr2))\n",
    "print(\"------\")\n",
    "print(np.setxor1d(arr1, arr2))"
   ]
  },
  {
   "cell_type": "markdown",
   "metadata": {},
   "source": [
    "## numpy文件输入输出\n",
    "* save函数将numpy数组保存为npy文件\n",
    "* load函数将npy文件加载为数组"
   ]
  },
  {
   "cell_type": "code",
   "execution_count": 67,
   "metadata": {},
   "outputs": [
    {
     "name": "stdout",
     "output_type": "stream",
     "text": [
      "[0 1 2 3 4 5 6 7 8 9]\n"
     ]
    }
   ],
   "source": [
    "import numpy as np\n",
    "arr = np.arange(10)\n",
    "np.save('some_array.npy', arr)\n",
    "\n",
    "print(np.load('some_array.npy'))"
   ]
  },
  {
   "cell_type": "markdown",
   "metadata": {},
   "source": [
    "* savez函数将多个数组保存到npz文件中\n",
    "* load函数加载npz时，得到字典对象，通过索引进行访问"
   ]
  },
  {
   "cell_type": "code",
   "execution_count": 68,
   "metadata": {},
   "outputs": [
    {
     "name": "stdout",
     "output_type": "stream",
     "text": [
      "[-1.06882728  0.33129865 -0.0790657  -1.73936959  0.03406827 -0.28641696\n",
      "  1.56669412 -0.1780819  -1.60527172 -2.18264323]\n"
     ]
    }
   ],
   "source": [
    "import numpy as np\n",
    "arr1 = np.arange(10)\n",
    "arr2 = np.random.randn(10)\n",
    "np.savez('array_archive.npz', a=arr1, c=arr2)\n",
    "arch = np.load('array_archive.npz')\n",
    "print(arch['c'])"
   ]
  },
  {
   "cell_type": "markdown",
   "metadata": {},
   "source": [
    "## 线性代数\n",
    "* 矩阵乘法dot函数"
   ]
  },
  {
   "cell_type": "code",
   "execution_count": 69,
   "metadata": {},
   "outputs": [
    {
     "name": "stdout",
     "output_type": "stream",
     "text": [
      "[[ 28.  64.]\n",
      " [ 67. 181.]]\n",
      "------\n",
      "[[ 28.  64.]\n",
      " [ 67. 181.]]\n",
      "------\n",
      "[ 6. 15.]\n"
     ]
    }
   ],
   "source": [
    "import numpy as np\n",
    "x= np.array([[1., 2., 3.], [4., 5., 6.]])\n",
    "y = np.array([[6., 23.], [-1, 7], [8, 9]])\n",
    "\n",
    "print(x.dot(y))\n",
    "print(\"------\")\n",
    "print(np.dot(x,y))\n",
    "\n",
    "print(\"------\")\n",
    "a = x @ np.ones(3) # at也可以进行矩阵乘法\n",
    "print(a)"
   ]
  },
  {
   "cell_type": "markdown",
   "metadata": {},
   "source": [
    "### numpy.linalg中的矩阵运算函数\n",
    "* diag:以一维数组返回方阵对角线元素，或者将一维数组转换为方阵，非对角为0\n",
    "* dot:矩阵乘法\n",
    "* trace:求对角线元素的和\n",
    "* det:求行列式\n",
    "* eig：求本征值和本征向量\n",
    "* inv:求矩阵的逆\n",
    "* qr:求矩阵的qr分解\n",
    "* svd:计算矩阵的奇异值分解\n",
    "* solve：解线性方程组Ax=b，A为方阵\n",
    "* lstsq:求Ax=b的最小二乘解"
   ]
  },
  {
   "cell_type": "code",
   "execution_count": 70,
   "metadata": {},
   "outputs": [
    {
     "name": "stdout",
     "output_type": "stream",
     "text": [
      "[-0.47538231  1.85385076  0.303248   -0.94063401 -0.93641447]\n",
      "------\n",
      "[[ 5.71249229 -7.09095524  0.65348026 -1.80990739  1.40128137]\n",
      " [-7.09095524 10.93657627  0.48137246  3.20400353  2.0345423 ]\n",
      " [ 0.65348026  0.48137246 17.08264473  0.75833376  3.13823382]\n",
      " [-1.80990739  3.20400353  0.75833376  3.13692012 -0.36693468]\n",
      " [ 1.40128137  2.0345423   3.13823382 -0.36693468  8.48929419]]\n",
      "------\n",
      "-0.19533203029498403\n",
      "------\n",
      "8.934291659461449\n",
      "------\n",
      "[[ 2.03666626  4.64785325  3.08042162  0.21629983  0.71123158]\n",
      " [ 1.6850906   3.88528466  2.17757144  0.26883973  0.72194091]\n",
      " [-0.13716855  0.1632406   0.06769635 -0.09390997  0.15032165]\n",
      " [-0.66624136 -1.31388627 -0.77370101 -0.40743723 -0.80172604]\n",
      " [-0.91139354 -1.74438504 -1.06036676  0.16679166 -0.49094717]]\n",
      "------\n",
      "q:[[-0.60695474 -0.15448022  0.10351898 -0.26198003 -0.72690584]\n",
      " [ 0.75341701 -0.28452499  0.04831439  0.06935525 -0.58674007]\n",
      " [-0.06943256 -0.30608003 -0.94920976  0.01407651 -0.01722817]\n",
      " [ 0.19230343 -0.16467229  0.02111555 -0.94250587  0.21711575]\n",
      " [-0.14888674 -0.87998832  0.29241152  0.19504064  0.28267993]]\n",
      "r:[[ -9.411727    12.82349308  -1.54146165   4.1177018   -0.87005733]\n",
      " [  0.          -4.48163949  -8.35305438  -1.05780058  -9.16595485]\n",
      " [  0.           0.         -15.19043999  -0.79343625  -0.26086589]\n",
      " [  0.           0.           0.          -2.32108405   1.81976932]\n",
      " [  0.           0.           0.           0.           0.05367262]]\n"
     ]
    }
   ],
   "source": [
    "import numpy as np\n",
    "import numpy.linalg as LA\n",
    "\n",
    "X = np.random.randn(5, 5)\n",
    "print(np.diag(X))\n",
    "print(\"------\")\n",
    "mat = X.T.dot(X)\n",
    "print(mat)\n",
    "print(\"------\")\n",
    "print(LA.trace(X))\n",
    "print(\"------\")\n",
    "print(LA.det(X))\n",
    "print(\"------\")\n",
    "print(LA.inv(X))\n",
    "print(\"------\")\n",
    "q, r = LA.qr(mat)\n",
    "print(f\"q:{q}\")\n",
    "print(f\"r:{r}\")\n"
   ]
  },
  {
   "cell_type": "markdown",
   "metadata": {},
   "source": [
    "## numpy random下的函数\n",
    "* seed:确定随机数生成器的种子\n",
    "* permutation：返回一个序列的随机排列或者随机排列范围\n",
    "* shuffle:对序列仅随机排序\n",
    "* rand:产生均匀分布的样本值\n",
    "* randint:从给定的上下限范围内随机取整数\n",
    "* randn:产生正态分布（均值为1，标准差为1）的样本值\n",
    "* binomial:产生二项分布的样本值\n",
    "* normal:产生正态分布的样本值\n",
    "* beta:产生beta分布样本值\n",
    "* chisquare:产生卡方分布的样本值\n",
    "* gamma:产生Gamma分别样本值\n",
    "* uniform:产生[0,1)中均匀分布的样本值"
   ]
  },
  {
   "cell_type": "code",
   "execution_count": 71,
   "metadata": {},
   "outputs": [
    {
     "name": "stdout",
     "output_type": "stream",
     "text": [
      "[0.5488135  0.71518937 0.60276338 0.54488318 0.4236548 ]\n",
      "------\n",
      "[0.19151945 0.62210877 0.43772774 0.78535858 0.77997581 0.27259261]\n",
      "------\n",
      "[3 1 8 7 9 0 6 4 2 5]\n",
      "------\n",
      "[5 2 3 4 1 0 9 8 7 6]\n"
     ]
    }
   ],
   "source": [
    "import numpy as np\n",
    "\n",
    "np.random.seed(0)  # 设置种子为 0 这是全局的随机数生成器\n",
    "print(np.random.rand(5))  # 每次运行结果相同\n",
    "print(\"------\")\n",
    "rng = np.random.RandomState(1234)  # 创建一个随机数生成器，隔离的随机数生成器\n",
    "print(rng.rand(6))  # 生成随机数\n",
    "print(\"------\")\n",
    "arr = np.arange(10)\n",
    "print(np.random.permutation(arr))  # 随机排列数组\n",
    "print(\"------\")\n",
    "np.random.shuffle(arr)  # 对数组进行随机排序，原地操作，不会返回新数组\n",
    "print(arr)"
   ]
  },
  {
   "cell_type": "code",
   "execution_count": 72,
   "metadata": {},
   "outputs": [
    {
     "name": "stdout",
     "output_type": "stream",
     "text": [
      "[0.33739616 0.64817187 0.36824154 0.95715516 0.14035078]\n",
      "------\n",
      "[1 3 4 9 2]\n",
      "------\n",
      "[[3 3 3]\n",
      " [0 1 1]]\n",
      "[1 0]\n",
      "------\n",
      "[-2.55298982  0.6536186   0.8644362  -0.74216502  2.26975462]\n",
      "------\n",
      "[[2 5 5]\n",
      " [5 7 6]]\n",
      "9\n"
     ]
    }
   ],
   "source": [
    "import numpy as np\n",
    "a = np.random.rand(5)  # 生成一个 5*5 的随机数组\n",
    "print(a)\n",
    "print(\"------\")\n",
    "b = np.random.randint(1, 10, 5) # 从 [1, 10) 中随机取 5 个整数\n",
    "print(b)\n",
    "print(\"------\")\n",
    "c = np.random.randint(0, 5, (2, 3))  # 从 [0, 5) 中随机取 2x3 的整数数组 形状未指定则返回单个样本值\n",
    "print(c)\n",
    "c = np.random.randint(0, 5, 2) \n",
    "print(c)\n",
    "print(\"------\")\n",
    "d = np.random.randn(5)  # 生成一个 5 个标准正态分布的随机数组\n",
    "print(d)\n",
    "print(\"------\")\n",
    "print(np.random.binomial(10, 0.5, (2,3))) # 10次试验，每次成功概率0.5, 产生 2x3 的样本值数组 形状未指定则返回单个样本值，每个值表示实验的期望\n",
    "print(np.random.binomial(100, 0.1))\n"
   ]
  },
  {
   "cell_type": "code",
   "execution_count": 73,
   "metadata": {},
   "outputs": [
    {
     "name": "stdout",
     "output_type": "stream",
     "text": [
      "[[2.09126865 8.57496809 3.86096547]\n",
      " [5.35077307 4.07498892 2.82839881]]\n",
      "------\n",
      "[0.02181378 0.04213945 0.03945283 0.18136743 0.03122086 0.06434116\n",
      " 0.23349983 0.22589519 0.07811415 0.10256618]\n",
      "------\n",
      "[0.13259479 2.35837905 1.67219509 0.61682968 1.4815179  0.19730063\n",
      " 1.71579128 5.29851185 0.76712042 2.20169184]\n",
      "------\n",
      "[5.5909002  3.33812332 4.02547279 4.78905223 2.57506077 6.89570345\n",
      " 5.74662421 2.07252225 7.70437751 4.28867572]\n",
      "------\n",
      "[0.81379782 0.39650574 0.8811032  0.58127287 0.88173536]\n",
      "[[ 0.38506318  0.45050856  0.00264876]\n",
      " [ 0.91216727  0.2879804  -0.1522899 ]]\n"
     ]
    }
   ],
   "source": [
    "import numpy as np\n",
    "\n",
    "print(np.random.normal(5, 2, (2, 3)))  # 均值为 5，标准差为 2，产生 2x3 的样本值数组 形状未指定则返回单个样本值\n",
    "print(\"------\")\n",
    "print(np.random.beta(1, 5, 10)) #参数a=1,b=5,生成10个样本\n",
    "print(\"------\")\n",
    "print(np.random.chisquare(2, 10)) #自由度为2，生成10个样本\n",
    "print(\"------\")\n",
    "print(np.random.gamma(5, 1, 10)) #形状参数为5，尺度参数为1，生成10个样本\n",
    "print(\"------\")\n",
    "print(np.random.uniform(0, 1, 5))  # 产生 5 个 [0, 1) 之间的均匀分布样本值\n",
    "print(np.random.uniform(-1, 1, (2, 3)))  # 产生 2x3 的 [-1, 1) 之间的均匀分布样本值数组"
   ]
  }
 ],
 "metadata": {
  "kernelspec": {
   "display_name": "Python 3",
   "language": "python",
   "name": "python3"
  },
  "language_info": {
   "codemirror_mode": {
    "name": "ipython",
    "version": 3
   },
   "file_extension": ".py",
   "mimetype": "text/x-python",
   "name": "python",
   "nbconvert_exporter": "python",
   "pygments_lexer": "ipython3",
   "version": "3.9.6"
  }
 },
 "nbformat": 4,
 "nbformat_minor": 2
}
