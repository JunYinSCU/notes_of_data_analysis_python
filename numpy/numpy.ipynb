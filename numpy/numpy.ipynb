{
 "cells": [
  {
   "cell_type": "markdown",
   "metadata": {},
   "source": [
    "# numpy 学习笔记\n"
   ]
  },
  {
   "cell_type": "markdown",
   "metadata": {},
   "source": [
    "## numpy 基础\n",
    "\n",
    "1. numpy 初始化常用 array 函数\n",
    "   - array 可传入一个数组\n"
   ]
  },
  {
   "cell_type": "code",
   "execution_count": null,
   "metadata": {},
   "outputs": [],
   "source": [
    "import numpy as np\n",
    "\n",
    "a= np.array([1, 2, 3, 4, 5])\n",
    "\n",
    "print(a)\n",
    "print(a.shape)\n",
    "print(a.dtype)\n",
    "\n",
    "print(\"------\")\n",
    "a = np.array([[1, 2, 3], [4, 5, 6]])\n",
    "print(a)\n",
    "print(a.shape)\n",
    "print(a.dtype)"
   ]
  },
  {
   "cell_type": "markdown",
   "metadata": {},
   "source": [
    "- zeros 初始化一个全零的数组，只需传入数组的形状即可\n",
    "- ones 初始化为一个全 1 的数组，只需传入数组的形状即可\n",
    "- empty 初始化一个空数组，不是全零\n",
    "- eye 初始化为一个 n 阶单位矩阵\n"
   ]
  },
  {
   "cell_type": "code",
   "execution_count": null,
   "metadata": {},
   "outputs": [],
   "source": [
    "import numpy as np\n",
    "b = np.zeros((3,4))\n",
    "c = np.ones((2,3),dtype=np.int16)\n",
    "d = np.empty((2,3))\n",
    "e =np.eye(4)\n",
    "print(b)\n",
    "print(\"------\")\n",
    "print(c)\n",
    "print(\"------\")\n",
    "print(d)\n",
    "print(\"------\")\n",
    "print(e)"
   ]
  },
  {
   "cell_type": "markdown",
   "metadata": {},
   "source": [
    "2. arange 是 Python 内置函数 range 的数组版：\n"
   ]
  },
  {
   "cell_type": "code",
   "execution_count": null,
   "metadata": {},
   "outputs": [],
   "source": [
    "import numpy as np\n",
    "a = np.arange(10,20,2) // 10-20 步长为2\n",
    "a"
   ]
  },
  {
   "cell_type": "markdown",
   "metadata": {},
   "source": [
    "3. ndarray 的数据类型\n",
    "   - dtype 可显示数组的数据类型\n",
    "   - astype 可以将数据类型进行转换\n",
    "   - 如果字符串数组存储的是数据字符串，用 astype 转换可以变成对应数据\n"
   ]
  },
  {
   "cell_type": "code",
   "execution_count": null,
   "metadata": {},
   "outputs": [],
   "source": [
    "import numpy as np\n",
    "arr = np.array([1, 2, 3, 4, 5])\n",
    "print(arr.dtype)\n",
    "float_arr = arr.astype(np.float64)\n",
    "print(\"------\")\n",
    "print(float_arr.dtype)\n",
    "print(float_arr)\n",
    "print(\"------\")\n",
    "a = np.array(['1.25', '-9.6', '42'])\n",
    "b = a.astype(float)\n",
    "print(b)\n"
   ]
  },
  {
   "cell_type": "markdown",
   "metadata": {},
   "source": [
    "## 广播规则\n",
    "\n",
    "广播规则的核心思想是：\n",
    "\n",
    "维度对齐：如果两个数组的维度数不同，则在维度数较小的数组前面添加维度，使其维度数与另一个数组相同。\n",
    "\n",
    "形状匹配：如果两个数组在某个维度上的大小相同，或者其中一个数组在该维度上的大小为 1，则它们在该维度上是兼容的。\n",
    "\n",
    "运算执行：对于兼容的维度，NumPy 会将大小为 1 的数组“广播”到与另一个数组相同的形状，然后进行运算。"
   ]
  },
  {
   "cell_type": "code",
   "execution_count": 112,
   "metadata": {},
   "outputs": [
    {
     "name": "stdout",
     "output_type": "stream",
     "text": [
      "[[11 22 33]\n",
      " [14 25 36]]\n"
     ]
    }
   ],
   "source": [
    "import numpy as np\n",
    "\n",
    "arr1 = np.array([[1, 2, 3], [4, 5, 6]])  # 形状为 (2, 3)\n",
    "arr2 = np.array([10, 20, 30])  # 形状为 (3,)\n",
    "\n",
    "print(arr1 + arr2)"
   ]
  },
  {
   "cell_type": "markdown",
   "metadata": {},
   "source": [
    "## numpy 数组运算\n",
    "\n",
    "1. 数组与标量的算术运算（加减乘除运算）会应用到 numpy 数组的每个值\n",
    "2. 大小相同的数组之间的比较会生成布尔值数组\n"
   ]
  },
  {
   "cell_type": "code",
   "execution_count": null,
   "metadata": {},
   "outputs": [],
   "source": [
    "import numpy as np\n",
    "arr = np.array([[1., 2., 3.], [4., 5., 6.]])\n",
    "print(arr)\n",
    "print(\"------\")\n",
    "b = arr * arr\n",
    "print(b)\n",
    "print(\"------\")\n",
    "c = arr - arr\n",
    "print(c)\n",
    "print(\"------\")\n",
    "d = 1 / arr\n",
    "print(d)\n",
    "print(\"------\")\n",
    "arr2 = np.array([[0., 4., 1.], [7., 2., 12.]])\n",
    "e = arr2 > arr\n",
    "print(e)"
   ]
  },
  {
   "cell_type": "markdown",
   "metadata": {},
   "source": [
    "## 切片和索引\n",
    "\n",
    "1. numpy 的索引和切片和 python 类似\n",
    "2. 对切片的操作也会应用到原数组\n"
   ]
  },
  {
   "cell_type": "code",
   "execution_count": null,
   "metadata": {},
   "outputs": [],
   "source": [
    "import numpy as np\n",
    "arr = np.arange(10)\n",
    "arr_slice = arr[5:8]\n",
    "\n",
    "print(arr_slice)\n",
    "print(\"------\")\n",
    "arr_slice[1] = 66 #切片的索引1是原数组索引6\n",
    "print(arr)\n"
   ]
  },
  {
   "cell_type": "code",
   "execution_count": null,
   "metadata": {},
   "outputs": [],
   "source": [
    "import numpy as np\n",
    "arr = np.array([[1, 2, 3], [4, 5, 6], [7, 8, 9]])\n",
    "print(arr)\n",
    "print(\"------\")\n",
    "print(arr[2,1])\n",
    "print(\"------\")\n",
    "print(arr[2][1]) #二者等价"
   ]
  },
  {
   "cell_type": "code",
   "execution_count": null,
   "metadata": {},
   "outputs": [],
   "source": [
    "import numpy as np\n",
    "arr3d = np.array([[[1, 2, 3], [4, 5, 6]], [[7, 8, 9], [10, 11, 12]]])\n",
    "print(arr3d)\n",
    "print(arr3d.shape)\n",
    "print(\"------\")\n",
    "print(arr3d[1]) #如果对高维数组进行索引，返回的对象是一个低维数组\n",
    "print(arr3d[1].shape) #此处是对第一个维度进行索引，返回的是一个二维数组"
   ]
  },
  {
   "cell_type": "code",
   "execution_count": null,
   "metadata": {},
   "outputs": [],
   "source": [
    "import numpy as np\n",
    "arr = np.array([[1, 2, 3], [4, 5, 6], [7, 8, 9]])\n",
    "print(arr)\n",
    "print(\"------\")\n",
    "print(arr[:2]) #对第一个维度进行切片\n",
    "print(\"------\")\n",
    "print(arr[1:]) #对第二个维度进行切片\n",
    "print(\"------\")\n",
    "arr[:2, 1:]"
   ]
  },
  {
   "cell_type": "markdown",
   "metadata": {},
   "source": [
    "3. 布尔索引\n",
    "   * 布尔型数组可用于数据索引\n"
   ]
  },
  {
   "cell_type": "code",
   "execution_count": null,
   "metadata": {},
   "outputs": [],
   "source": [
    "import numpy as np \n",
    "x = np.array([[  0,  1,  2],[  3,  4,  5],[  6,  7,  8],[  9,  10,  11]]) \n",
    "print  ('大于 5 的元素是：' ) \n",
    "print (x[x >  5])"
   ]
  },
  {
   "cell_type": "markdown",
   "metadata": {},
   "source": [
    "4. 改变数组形状\n"
   ]
  },
  {
   "cell_type": "code",
   "execution_count": null,
   "metadata": {},
   "outputs": [],
   "source": [
    "import numpy as np \n",
    "b = np.zeros(shape=(3,4))\n",
    "#使用shape改变数组的形状\n",
    "b.shape=(4,3)\n",
    "print(b)\n",
    "\n",
    "#或者也可以使用reshape方法\n",
    "b = b.reshape(2,2,3)#改变为三维\n",
    "print(\"------\")\n",
    "print(b)"
   ]
  },
  {
   "cell_type": "markdown",
   "metadata": {},
   "source": [
    "## 数组迭代\n",
    "* 可以用嵌套循环进行遍历，但高维时比较麻烦\n",
    "* 使用np.nditer()函数可以更简便遍历"
   ]
  },
  {
   "cell_type": "code",
   "execution_count": null,
   "metadata": {},
   "outputs": [],
   "source": [
    "import numpy as np\n",
    "\n",
    "arr = np.array([[1, 2, 3], [4, 5, 6]])\n",
    "\n",
    "# 使用嵌套循环\n",
    "for row in arr:\n",
    "    for element in row:\n",
    "        print(element)\n",
    "\n",
    "# 使用 np.nditer()\n",
    "for element in np.nditer(arr):\n",
    "    print(element)"
   ]
  },
  {
   "cell_type": "markdown",
   "metadata": {},
   "source": [
    "## 数组操作\n",
    "\n",
    "1. 数组转置和轴对换\n",
    "   - 使用 T 属性或者 transpose 方法获得矩阵转置\n"
   ]
  },
  {
   "cell_type": "code",
   "execution_count": null,
   "metadata": {},
   "outputs": [],
   "source": [
    "import numpy as np\n",
    "arr = np.arange(15).reshape((3, 5))\n",
    "print(arr)\n",
    "print(\"------\")\n",
    "print(arr.T)\n",
    "print(\"------\")\n",
    "print(arr.transpose())"
   ]
  },
  {
   "cell_type": "markdown",
   "metadata": {},
   "source": [
    "- 计算矩阵内积\n"
   ]
  },
  {
   "cell_type": "code",
   "execution_count": null,
   "metadata": {},
   "outputs": [],
   "source": [
    "import numpy as np\n",
    "arr = np.random.randn(6, 3)\n",
    "print(arr)\n",
    "print(\"------\")\n",
    "print(np.dot(arr.T, arr))"
   ]
  },
  {
   "cell_type": "markdown",
   "metadata": {},
   "source": [
    "- 如果使用 transpose 进行转置计算内积，在转置时要存入一个变化后的轴编号\n"
   ]
  },
  {
   "cell_type": "code",
   "execution_count": null,
   "metadata": {},
   "outputs": [],
   "source": [
    "import numpy as np\n",
    "arr = np.arange(16).reshape((2, 2, 4))\n",
    "print(arr)\n",
    "print(\"------\")\n",
    "print(arr.transpose((1, 0, 2)))\n"
   ]
  },
  {
   "cell_type": "markdown",
   "metadata": {},
   "source": [
    "## 通用函数：快速的元素级数组函数\n"
   ]
  },
  {
   "cell_type": "markdown",
   "metadata": {},
   "source": [
    "### 一元函数\n",
    "\n",
    "- abs,fabs:计算绝对值，fabs 计算非复数更快\n",
    "- sqrt:各元素的平方根\n",
    "- square:各元素平方\n",
    "- exp:各元素的指数\n",
    "- log，log10,log2,log1p:分别是 ln，lg，log2，log(1+x)\n",
    "- sign:各元素的正负号（正数为+1，负数为-1，零为 0）\n",
    "- #ceil,floor:向上向下去整\n",
    "- rint:四舍五入\n",
    "- isnan:返回哪些是\"NaN\"的布尔数组\n",
    "- cos,cosh,sin,sinh,tan,tanh,arccos,arcsin,arctan:三角函数\n"
   ]
  },
  {
   "cell_type": "code",
   "execution_count": null,
   "metadata": {},
   "outputs": [],
   "source": [
    "import numpy as np\n",
    "arr = np.arange(1,10)\n",
    "print(arr)\n",
    "print(\"------\")\n",
    "print(np.abs(arr))\n",
    "print(\"------\")\n",
    "print(np.sqrt(arr))\n",
    "print(\"------\")\n",
    "print(np.square(arr))\n",
    "print(\"------\")\n",
    "print(np.exp(arr))\n",
    "print(\"------\")\n",
    "print(np.log(arr))\n",
    "\n",
    "\n"
   ]
  },
  {
   "cell_type": "code",
   "execution_count": null,
   "metadata": {},
   "outputs": [],
   "source": [
    "import numpy as np\n",
    "arr = np.arange(1,10)\n",
    "print(\"------\")\n",
    "print(np.sign(arr))\n",
    "print(\"------\")\n",
    "print(np.ceil(arr))\n",
    "print(\"------\")\n",
    "print(np.floor(arr))\n",
    "print(\"------\")\n",
    "print(np.rint(arr))\n",
    "print(\"------\")\n",
    "print(np.sin(arr))"
   ]
  },
  {
   "cell_type": "markdown",
   "metadata": {},
   "source": [
    "### 二元函数\n",
    "\n",
    "- add：对应元素相加\n",
    "- subtract:前减后\n",
    "- multiply:乘法（不是点积，而是对应位置元素相乘，要求形状相同或者符合广播）\n",
    "- divide,floor_divide:除法，向下除法（都会丢弃余数，只保留整数）\n",
    "- power:前为 A，后为 B，计算 A^B\n",
    "- maximum,fmax:相同位置元素求最大值，fmax 会忽略 NaN\n",
    "- minimum,fmin:相同位置元素求最小值，fmin 会忽略 NaN\n",
    "- mod:求模运算（取余）\n",
    "- greater，greater_equal...:比较预算\n",
    "- logic_and,logic_or,logic_xor：& | ^\n"
   ]
  },
  {
   "cell_type": "code",
   "execution_count": null,
   "metadata": {},
   "outputs": [],
   "source": [
    "import numpy as np\n",
    "arr1 = np.random.randn(10)\n",
    "arr2 = np.arange(1,11)\n",
    "print(np.add(arr1, arr2))\n",
    "print(\"------\")\n",
    "print(np.subtract(arr1, arr2))\n",
    "print(\"------\")\n",
    "print(np.multiply(arr1, arr2))\n",
    "print(\"------\")\n",
    "print(np.divide(arr1, arr2))\n",
    "print(\"------\")\n",
    "print(np.power(arr1, arr2))"
   ]
  },
  {
   "cell_type": "code",
   "execution_count": null,
   "metadata": {},
   "outputs": [],
   "source": [
    "import numpy as np\n",
    "arr1 = np.random.randn(10)\n",
    "arr2 = np.random.randn(10)\n",
    "print(\"------\")\n",
    "print(np.maximum(arr1, arr2))\n",
    "print(\"------\")\n",
    "print(np.minimum(arr1, arr2))\n",
    "print(\"------\")\n",
    "print(np.mod(arr1, arr2))\n",
    "\n"
   ]
  },
  {
   "cell_type": "markdown",
   "metadata": {},
   "source": [
    "## 条件逻辑用于数组运算\n",
    "\n",
    "- numpy.where 函数是三元表达式 x if condition else y 的矢量化版本。\n",
    "- np.where 的第二个和第三个参数不必是数组，它们都可以是标量值。\n"
   ]
  },
  {
   "cell_type": "code",
   "execution_count": null,
   "metadata": {},
   "outputs": [],
   "source": [
    "import numpy as np\n",
    "xarr = np.array([1.1, 1.2, 1.3, 1.4, 1.5])\n",
    "\n",
    "yarr = np.array([2.1, 2.2, 2.3, 2.4, 2.5])\n",
    "\n",
    "cond = np.array([True, False, True, True, False])\n",
    "\n",
    "result = np.where(cond, xarr, yarr)\n",
    "\n",
    "print(result)\n",
    "\n",
    "print(\"------\")\n",
    "arr = np.random.randn(4, 4)\n",
    "np.where(arr > 0, 2, -2)"
   ]
  },
  {
   "cell_type": "markdown",
   "metadata": {},
   "source": [
    "## 数学统计方法\n",
    "\n",
    "- sum:对全部或轴向元素求和\n",
    "- mean:求算数平均数\n",
    "- std,var:标准差和方差\n",
    "- min,max:求最小最大值\n",
    "- argmin,argmax:最小最大值的索引\n"
   ]
  },
  {
   "cell_type": "code",
   "execution_count": null,
   "metadata": {},
   "outputs": [],
   "source": [
    "import numpy as np\n",
    "arr = np.random.randn(5, 4)\n",
    "print(arr.mean())\n",
    "print(\"------\")\n",
    "print(np.mean(arr))#两者等价，其他函数均成立\n",
    "print(\"------\")\n",
    "print(arr.sum())\n",
    "print(\"------\")\n",
    "print(arr.std())\n",
    "print(\"------\")\n",
    "print(np.var(arr))"
   ]
  },
  {
   "cell_type": "markdown",
   "metadata": {},
   "source": [
    "- mean 和 sum 这类的函数可以接受一个 axis 选项参数，用于计算该轴向上的统计值\n"
   ]
  },
  {
   "cell_type": "code",
   "execution_count": null,
   "metadata": {},
   "outputs": [],
   "source": [
    "import numpy as np\n",
    "arr = np.random.randn(5, 4)\n",
    "print(arr.mean(axis=1))\n",
    "print(\"------\")\n",
    "print(arr.sum(axis=0))\n",
    "#arr.mean(1)是“计算行的平均值”，arr.sum(0)是“计算每列的和”。"
   ]
  },
  {
   "cell_type": "markdown",
   "metadata": {},
   "source": [
    "- 对于布尔型数组，sum 可以求出一共有多少个 True\n",
    "- any()可以判断是否有 1 个以上的 True\n",
    "- all()判断是否全是 True"
   ]
  },
  {
   "cell_type": "code",
   "execution_count": null,
   "metadata": {},
   "outputs": [],
   "source": [
    "import numpy as np\n",
    "arr = np.random.randn(10)\n",
    "print(arr)\n",
    "print(\"------\")\n",
    "print(arr > 0) #对numpy数组进行布尔操作，返回一个布尔值数组\n",
    "print(\"------\")\n",
    "print((arr > 0).sum())#对布尔值数组进行求和操作，True会被强制转换为1\n",
    "print(\"------\")\n",
    "print((arr > 0).any())#检查数组中是否存在True\n",
    "print(\"------\")\n",
    "print((arr > 0).all())#检查数组中是否全为True"
   ]
  },
  {
   "cell_type": "markdown",
   "metadata": {},
   "source": [
    "## 排序\n",
    "\n",
    "- 跟 Python 内置的列表类型一样，NumPy 数组也可以通过 sort 方法就地排序：\n"
   ]
  },
  {
   "cell_type": "code",
   "execution_count": null,
   "metadata": {},
   "outputs": [],
   "source": [
    "import numpy as np\n",
    "arr = np.random.randn(6)\n",
    "print(arr)\n",
    "print(\"------\")\n",
    "arr.sort()\n",
    "print(arr)"
   ]
  },
  {
   "cell_type": "markdown",
   "metadata": {},
   "source": [
    "- 多维数组可以在任何一个轴向上进行排序，只需将轴编号传给 sort 即可：\n",
    "- np.sort 返回的是数组的已排序副本\n"
   ]
  },
  {
   "cell_type": "code",
   "execution_count": null,
   "metadata": {},
   "outputs": [],
   "source": [
    "arr = np.random.randn(4, 3)\n",
    "print(arr)\n",
    "print(\"------\")\n",
    "arr.sort(0) #沿着行的方向进行排序，也就是对列排序\n",
    "print(arr)\n",
    "print(\"------\")\n",
    "print(np.sort(arr,axis=1))#沿着列的方向进行排序，也就是对行排序\n",
    "print(\"------\")\n"
   ]
  },
  {
   "cell_type": "code",
   "execution_count": null,
   "metadata": {},
   "outputs": [],
   "source": [
    "import numpy as np\n",
    "arr = np.random.randn(10)\n",
    "#对排好序的数组进行切片操作，可以得到指定大小的数组\n",
    "print(arr[int(0.05 * len(arr))]) #求5%分位数"
   ]
  },
  {
   "cell_type": "markdown",
   "metadata": {},
   "source": [
    "## 数组的集合运算\n",
    "\n",
    "- unique(x):计算 x 中的唯一元素，并返回排序结果\n",
    "- intersect1d(x,y):计算 x 和 y 中的公共元素并返回有序结果\n",
    "- union1d(x,y):计算 x 和 y 的并集，并返回有序结果\n",
    "- isin(x,y):得到一个表示 x 的元素是否存在于 y 中的布尔型数组\n",
    "- setdiff1d(x,y):集合的差：元素在 x 而不在 y 中\n",
    "- setxor1d(x,y):存在于一个数组但不同时存在于两个数组的元素\n"
   ]
  },
  {
   "cell_type": "code",
   "execution_count": null,
   "metadata": {},
   "outputs": [],
   "source": [
    "import numpy as np;\n",
    "arr1 = np.array([5, 0, 1, 3, 2])\n",
    "arr2 = np.array([1, 2, 3, 4, 5])\n",
    "print(np.unique(arr1))\n",
    "print(\"------\")\n",
    "print(np.intersect1d(arr1, arr2))\n",
    "print(\"------\")\n",
    "print(np.union1d(arr1, arr2))\n",
    "print(\"------\")\n",
    "print(np.isin(arr1, arr2))\n",
    "print(\"------\")\n",
    "print(np.setdiff1d(arr1, arr2))\n",
    "print(\"------\")\n",
    "print(np.setxor1d(arr1, arr2))"
   ]
  },
  {
   "cell_type": "markdown",
   "metadata": {},
   "source": [
    "## numpy文件输入输出\n",
    "* save函数将numpy数组保存为npy文件\n",
    "* load函数将npy文件加载为数组"
   ]
  },
  {
   "cell_type": "code",
   "execution_count": null,
   "metadata": {},
   "outputs": [],
   "source": [
    "import numpy as np\n",
    "arr = np.arange(10)\n",
    "np.save('some_array.npy', arr)\n",
    "\n",
    "print(np.load('some_array.npy'))"
   ]
  },
  {
   "cell_type": "markdown",
   "metadata": {},
   "source": [
    "* savez函数将多个数组保存到npz文件中\n",
    "* load函数加载npz时，得到字典对象，通过索引进行访问"
   ]
  },
  {
   "cell_type": "code",
   "execution_count": null,
   "metadata": {},
   "outputs": [],
   "source": [
    "import numpy as np\n",
    "arr1 = np.arange(10)\n",
    "arr2 = np.random.randn(10)\n",
    "#np.savez('array_archive.npz', a=arr1, c=arr2)\n",
    "arch = np.load('array_archive.npz')\n",
    "print(arch['c'])"
   ]
  },
  {
   "cell_type": "markdown",
   "metadata": {},
   "source": [
    "## 线性代数\n",
    "* 矩阵乘法dot函数"
   ]
  },
  {
   "cell_type": "code",
   "execution_count": null,
   "metadata": {},
   "outputs": [],
   "source": [
    "import numpy as np\n",
    "x= np.array([[1., 2., 3.], [4., 5., 6.]])\n",
    "y = np.array([[6., 23.], [-1, 7], [8, 9]])\n",
    "\n",
    "print(x.dot(y))\n",
    "print(\"------\")\n",
    "print(np.dot(x,y))\n",
    "\n",
    "print(\"------\")\n",
    "a = x @ np.ones(3) # at也可以进行矩阵乘法\n",
    "print(a)"
   ]
  },
  {
   "cell_type": "markdown",
   "metadata": {},
   "source": [
    "### numpy.linalg中的矩阵运算函数\n",
    "* diag:以一维数组返回方阵对角线元素，或者将一维数组转换为方阵，非对角为0\n",
    "* dot:矩阵乘法\n",
    "* trace:求对角线元素的和\n",
    "* det:求行列式\n",
    "* eig：求本征值和本征向量\n",
    "* inv:求矩阵的逆\n",
    "* qr:求矩阵的qr分解\n",
    "* svd:计算矩阵的奇异值分解\n",
    "* solve：解线性方程组Ax=b，A为方阵\n",
    "* lstsq:求Ax=b的最小二乘解"
   ]
  },
  {
   "cell_type": "code",
   "execution_count": null,
   "metadata": {},
   "outputs": [],
   "source": [
    "import numpy as np\n",
    "import numpy.linalg as LA\n",
    "\n",
    "X = np.random.randn(5, 5)\n",
    "print(np.diag(X))\n",
    "print(\"------\")\n",
    "mat = X.T.dot(X)\n",
    "print(mat)\n",
    "print(\"------\")\n",
    "print(LA.trace(X))\n",
    "print(\"------\")\n",
    "print(LA.det(X))\n",
    "print(\"------\")\n",
    "print(LA.inv(X))\n",
    "print(\"------\")\n",
    "q, r = LA.qr(mat)\n",
    "print(f\"q:{q}\")\n",
    "print(f\"r:{r}\")\n"
   ]
  },
  {
   "cell_type": "markdown",
   "metadata": {},
   "source": [
    "## numpy random下的函数\n",
    "* seed:确定随机数生成器的种子\n",
    "* permutation：返回一个序列的随机排列或者随机排列范围\n",
    "* shuffle:对序列仅随机排序\n",
    "* rand:产生均匀分布的样本值\n",
    "* randint:从给定的上下限范围内随机取整数\n",
    "* randn:产生正态分布（均值为1，标准差为1）的样本值\n",
    "* binomial:产生二项分布的样本值\n",
    "* normal:产生正态分布的样本值\n",
    "* beta:产生beta分布样本值\n",
    "* chisquare:产生卡方分布的样本值\n",
    "* gamma:产生Gamma分别样本值\n",
    "* uniform:产生[0,1)中均匀分布的样本值"
   ]
  },
  {
   "cell_type": "code",
   "execution_count": null,
   "metadata": {},
   "outputs": [],
   "source": [
    "import numpy as np\n",
    "\n",
    "np.random.seed(0)  # 设置种子为 0 这是全局的随机数生成器\n",
    "print(np.random.rand(5))  # 每次运行结果相同\n",
    "print(\"------\")\n",
    "rng = np.random.RandomState(1234)  # 创建一个随机数生成器，隔离的随机数生成器\n",
    "print(rng.rand(6))  # 生成随机数\n",
    "print(\"------\")\n",
    "arr = np.arange(10)\n",
    "print(np.random.permutation(arr))  # 随机排列数组\n",
    "print(\"------\")\n",
    "np.random.shuffle(arr)  # 对数组进行随机排序，原地操作，不会返回新数组\n",
    "print(arr)"
   ]
  },
  {
   "cell_type": "code",
   "execution_count": 111,
   "metadata": {},
   "outputs": [
    {
     "name": "stdout",
     "output_type": "stream",
     "text": [
      "[0.0355818  0.38816908 0.55567904 0.35643989 0.63171853]\n",
      "------\n",
      "[3 9 9 7 5]\n",
      "------\n",
      "[[1 0 4]\n",
      " [3 3 4]]\n",
      "[2 3]\n",
      "------\n",
      "[-0.11734316 -0.03502282  0.65449199  0.24056433  0.41709786]\n",
      "------\n",
      "[[4 3 4]\n",
      " [9 5 9]]\n",
      "11\n"
     ]
    }
   ],
   "source": [
    "import numpy as np\n",
    "a = np.random.rand(5)  # 生成一个 5*5 的随机数组\n",
    "print(a)\n",
    "print(\"------\")\n",
    "b = np.random.randint(1, 10, 5) # 从 [1, 10) 中随机取 5 个整数\n",
    "print(b)\n",
    "print(\"------\")\n",
    "c = np.random.randint(0, 5, (2, 3))  # 从 [0, 5) 中随机取 2x3 的整数数组 形状未指定则返回单个样本值\n",
    "print(c)\n",
    "c = np.random.randint(0, 5, 2) \n",
    "print(c)\n",
    "print(\"------\")\n",
    "d = np.random.randn(5)  # 生成一个 5 个标准正态分布的随机数组\n",
    "print(d)\n",
    "print(\"------\")\n",
    "print(np.random.binomial(10, 0.5, (2,3))) # 10次试验，每次成功概率0.5, 产生 2x3 的样本值数组 形状未指定则返回单个样本值，每个值表示实验的期望\n",
    "print(np.random.binomial(100, 0.1))\n"
   ]
  },
  {
   "cell_type": "code",
   "execution_count": null,
   "metadata": {},
   "outputs": [],
   "source": [
    "import numpy as np\n",
    "\n",
    "print(np.random.normal(5, 2, (2, 3)))  # 均值为 5，标准差为 2，产生 2x3 的样本值数组 形状未指定则返回单个样本值\n",
    "print(\"------\")\n",
    "print(np.random.beta(1, 5, 10)) #参数a=1,b=5,生成10个样本\n",
    "print(\"------\")\n",
    "print(np.random.chisquare(2, 10)) #自由度为2，生成10个样本\n",
    "print(\"------\")\n",
    "print(np.random.gamma(5, 1, 10)) #形状参数为5，尺度参数为1，生成10个样本\n",
    "print(\"------\")\n",
    "print(np.random.uniform(0, 1, 5))  # 产生 5 个 [0, 1) 之间的均匀分布样本值\n",
    "print(np.random.uniform(-1, 1, (2, 3)))  # 产生 2x3 的 [-1, 1) 之间的均匀分布样本值数组"
   ]
  }
 ],
 "metadata": {
  "kernelspec": {
   "display_name": "Python 3",
   "language": "python",
   "name": "python3"
  },
  "language_info": {
   "codemirror_mode": {
    "name": "ipython",
    "version": 3
   },
   "file_extension": ".py",
   "mimetype": "text/x-python",
   "name": "python",
   "nbconvert_exporter": "python",
   "pygments_lexer": "ipython3",
   "version": "3.9.6"
  }
 },
 "nbformat": 4,
 "nbformat_minor": 2
}
