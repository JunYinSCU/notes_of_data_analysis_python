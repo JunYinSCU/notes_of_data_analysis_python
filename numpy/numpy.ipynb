{
 "cells": [
  {
   "cell_type": "markdown",
   "metadata": {},
   "source": [
    "# numpy 学习笔记\n"
   ]
  },
  {
   "cell_type": "markdown",
   "metadata": {},
   "source": [
    "## numpy 基础\n",
    "\n",
    "1. numpy 初始化常用 array 函数\n",
    "   - array 可传入一个数组\n"
   ]
  },
  {
   "cell_type": "code",
   "execution_count": 35,
   "metadata": {},
   "outputs": [
    {
     "name": "stdout",
     "output_type": "stream",
     "text": [
      "[1 2 3 4 5]\n",
      "(5,)\n",
      "int64\n",
      "------\n",
      "[[1 2 3]\n",
      " [4 5 6]]\n",
      "(2, 3)\n",
      "int64\n"
     ]
    }
   ],
   "source": [
    "import numpy as np\n",
    "\n",
    "a= np.array([1, 2, 3, 4, 5])\n",
    "\n",
    "print(a)\n",
    "print(a.shape)\n",
    "print(a.dtype)\n",
    "\n",
    "print(\"------\")\n",
    "a = np.array([[1, 2, 3], [4, 5, 6]])\n",
    "print(a)\n",
    "print(a.shape)\n",
    "print(a.dtype)"
   ]
  },
  {
   "cell_type": "markdown",
   "metadata": {},
   "source": [
    "- zeros 初始化一个全零的数组，只需传入数组的形状即可\n",
    "- ones 初始化为一个全 1 的数组，只需传入数组的形状即可\n",
    "- empty 初始化一个空数组，不是全零\n",
    "- eye 初始化为一个 n 阶单位矩阵\n"
   ]
  },
  {
   "cell_type": "code",
   "execution_count": 1,
   "metadata": {},
   "outputs": [
    {
     "name": "stdout",
     "output_type": "stream",
     "text": [
      "[[0. 0. 0. 0.]\n",
      " [0. 0. 0. 0.]\n",
      " [0. 0. 0. 0.]]\n",
      "------\n",
      "[[1 1 1]\n",
      " [1 1 1]]\n",
      "------\n",
      "[[0. 0. 0.]\n",
      " [0. 0. 0.]]\n",
      "------\n",
      "[[1. 0. 0. 0.]\n",
      " [0. 1. 0. 0.]\n",
      " [0. 0. 1. 0.]\n",
      " [0. 0. 0. 1.]]\n"
     ]
    }
   ],
   "source": [
    "import numpy as np\n",
    "b = np.zeros((3,4))\n",
    "c = np.ones((2,3),dtype=np.int16)\n",
    "d = np.empty((2,3))\n",
    "e =np.eye(4)\n",
    "print(b)\n",
    "print(\"------\")\n",
    "print(c)\n",
    "print(\"------\")\n",
    "print(d)\n",
    "print(\"------\")\n",
    "print(e)"
   ]
  },
  {
   "cell_type": "markdown",
   "metadata": {},
   "source": [
    "2. arange 是 Python 内置函数 range 的数组版：\n"
   ]
  },
  {
   "cell_type": "code",
   "execution_count": 2,
   "metadata": {},
   "outputs": [
    {
     "data": {
      "text/plain": [
       "array([10, 12, 14, 16, 18])"
      ]
     },
     "execution_count": 2,
     "metadata": {},
     "output_type": "execute_result"
    }
   ],
   "source": [
    "import numpy as np\n",
    "a = np.arange(10,20,2) #10-20 步长为2\n",
    "a"
   ]
  },
  {
   "cell_type": "markdown",
   "metadata": {},
   "source": [
    "3. ndarray 的数据类型\n",
    "   - dtype 可显示数组的数据类型\n",
    "   - astype 可以将数据类型进行转换\n",
    "   - 如果字符串数组存储的是数据字符串，用 astype 转换可以变成对应数据\n"
   ]
  },
  {
   "cell_type": "code",
   "execution_count": 3,
   "metadata": {},
   "outputs": [
    {
     "name": "stdout",
     "output_type": "stream",
     "text": [
      "int64\n",
      "------\n",
      "float64\n",
      "[1. 2. 3. 4. 5.]\n",
      "------\n",
      "[ 1.25 -9.6  42.  ]\n"
     ]
    }
   ],
   "source": [
    "import numpy as np\n",
    "arr = np.array([1, 2, 3, 4, 5])\n",
    "print(arr.dtype)\n",
    "float_arr = arr.astype(np.float64)\n",
    "print(\"------\")\n",
    "print(float_arr.dtype)\n",
    "print(float_arr)\n",
    "print(\"------\")\n",
    "a = np.array(['1.25', '-9.6', '42'])\n",
    "b = a.astype(float)\n",
    "print(b)\n"
   ]
  },
  {
   "cell_type": "markdown",
   "metadata": {},
   "source": [
    "## 广播规则\n",
    "\n",
    "广播规则的核心思想是：\n",
    "\n",
    "维度对齐：如果两个数组的维度数不同，则在维度数较小的数组前面添加维度，使其维度数与另一个数组相同。\n",
    "\n",
    "形状匹配：如果两个数组在某个维度上的大小相同，或者其中一个数组在该维度上的大小为 1，则它们在该维度上是兼容的。\n",
    "\n",
    "运算执行：对于兼容的维度，NumPy 会将大小为 1 的数组“广播”到与另一个数组相同的形状，然后进行运算。"
   ]
  },
  {
   "cell_type": "code",
   "execution_count": 4,
   "metadata": {},
   "outputs": [
    {
     "name": "stdout",
     "output_type": "stream",
     "text": [
      "[[11 22 33]\n",
      " [14 25 36]]\n"
     ]
    }
   ],
   "source": [
    "import numpy as np\n",
    "\n",
    "arr1 = np.array([[1, 2, 3], [4, 5, 6]])  # 形状为 (2, 3)\n",
    "arr2 = np.array([10, 20, 30])  # 形状为 (3,)\n",
    "\n",
    "print(arr1 + arr2)"
   ]
  },
  {
   "cell_type": "markdown",
   "metadata": {},
   "source": [
    "## numpy 数组运算\n",
    "\n",
    "1. 数组与标量的算术运算（加减乘除运算）会应用到 numpy 数组的每个值\n",
    "2. 大小相同的数组之间的比较会生成布尔值数组\n"
   ]
  },
  {
   "cell_type": "code",
   "execution_count": 5,
   "metadata": {},
   "outputs": [
    {
     "name": "stdout",
     "output_type": "stream",
     "text": [
      "[[1. 2. 3.]\n",
      " [4. 5. 6.]]\n",
      "------\n",
      "[[ 1.  4.  9.]\n",
      " [16. 25. 36.]]\n",
      "------\n",
      "[[0. 0. 0.]\n",
      " [0. 0. 0.]]\n",
      "------\n",
      "[[1.         0.5        0.33333333]\n",
      " [0.25       0.2        0.16666667]]\n",
      "------\n",
      "[[False  True False]\n",
      " [ True False  True]]\n"
     ]
    }
   ],
   "source": [
    "import numpy as np\n",
    "arr = np.array([[1., 2., 3.], [4., 5., 6.]])\n",
    "print(arr)\n",
    "print(\"------\")\n",
    "b = arr * arr\n",
    "print(b)\n",
    "print(\"------\")\n",
    "c = arr - arr\n",
    "print(c)\n",
    "print(\"------\")\n",
    "d = 1 / arr\n",
    "print(d)\n",
    "print(\"------\")\n",
    "arr2 = np.array([[0., 4., 1.], [7., 2., 12.]])\n",
    "e = arr2 > arr\n",
    "print(e)"
   ]
  },
  {
   "cell_type": "markdown",
   "metadata": {},
   "source": [
    "## 切片和索引\n",
    "\n",
    "1. numpy 的索引和切片和 python 类似\n",
    "2. 对切片的操作也会应用到原数组\n"
   ]
  },
  {
   "cell_type": "code",
   "execution_count": 6,
   "metadata": {},
   "outputs": [
    {
     "name": "stdout",
     "output_type": "stream",
     "text": [
      "[5 6 7]\n",
      "------\n",
      "[ 0  1  2  3  4  5 66  7  8  9]\n"
     ]
    }
   ],
   "source": [
    "import numpy as np\n",
    "arr = np.arange(10)\n",
    "arr_slice = arr[5:8]\n",
    "\n",
    "print(arr_slice)\n",
    "print(\"------\")\n",
    "arr_slice[1] = 66 #切片的索引1是原数组索引6\n",
    "print(arr)\n"
   ]
  },
  {
   "cell_type": "code",
   "execution_count": 7,
   "metadata": {},
   "outputs": [
    {
     "name": "stdout",
     "output_type": "stream",
     "text": [
      "[[1 2 3]\n",
      " [4 5 6]\n",
      " [7 8 9]]\n",
      "------\n",
      "8\n",
      "------\n",
      "8\n"
     ]
    }
   ],
   "source": [
    "import numpy as np\n",
    "arr = np.array([[1, 2, 3], [4, 5, 6], [7, 8, 9]])\n",
    "print(arr)\n",
    "print(\"------\")\n",
    "print(arr[2,1])\n",
    "print(\"------\")\n",
    "print(arr[2][1]) #二者等价"
   ]
  },
  {
   "cell_type": "code",
   "execution_count": 8,
   "metadata": {},
   "outputs": [
    {
     "name": "stdout",
     "output_type": "stream",
     "text": [
      "[[[ 1  2  3]\n",
      "  [ 4  5  6]]\n",
      "\n",
      " [[ 7  8  9]\n",
      "  [10 11 12]]]\n",
      "(2, 2, 3)\n",
      "------\n",
      "[[ 7  8  9]\n",
      " [10 11 12]]\n",
      "(2, 3)\n"
     ]
    }
   ],
   "source": [
    "import numpy as np\n",
    "arr3d = np.array([[[1, 2, 3], [4, 5, 6]], [[7, 8, 9], [10, 11, 12]]])\n",
    "print(arr3d)\n",
    "print(arr3d.shape)\n",
    "print(\"------\")\n",
    "print(arr3d[1]) #如果对高维数组进行索引，返回的对象是一个低维数组\n",
    "print(arr3d[1].shape) #此处是对第一个维度进行索引，返回的是一个二维数组"
   ]
  },
  {
   "cell_type": "code",
   "execution_count": 9,
   "metadata": {},
   "outputs": [
    {
     "name": "stdout",
     "output_type": "stream",
     "text": [
      "[[1 2 3]\n",
      " [4 5 6]\n",
      " [7 8 9]]\n",
      "------\n",
      "[[1 2 3]\n",
      " [4 5 6]]\n",
      "------\n",
      "[[4 5 6]\n",
      " [7 8 9]]\n",
      "------\n"
     ]
    },
    {
     "data": {
      "text/plain": [
       "array([[2, 3],\n",
       "       [5, 6]])"
      ]
     },
     "execution_count": 9,
     "metadata": {},
     "output_type": "execute_result"
    }
   ],
   "source": [
    "import numpy as np\n",
    "arr = np.array([[1, 2, 3], [4, 5, 6], [7, 8, 9]])\n",
    "print(arr)\n",
    "print(\"------\")\n",
    "print(arr[:2]) #对第一个维度进行切片\n",
    "print(\"------\")\n",
    "print(arr[1:]) #对第二个维度进行切片\n",
    "print(\"------\")\n",
    "arr[:2, 1:]"
   ]
  },
  {
   "cell_type": "markdown",
   "metadata": {},
   "source": [
    "3. 布尔索引\n",
    "   * 布尔型数组可用于数据索引\n"
   ]
  },
  {
   "cell_type": "code",
   "execution_count": 10,
   "metadata": {},
   "outputs": [
    {
     "name": "stdout",
     "output_type": "stream",
     "text": [
      "大于 5 的元素是：\n",
      "[ 6  7  8  9 10 11]\n"
     ]
    }
   ],
   "source": [
    "import numpy as np \n",
    "x = np.array([[  0,  1,  2],[  3,  4,  5],[  6,  7,  8],[  9,  10,  11]]) \n",
    "print  ('大于 5 的元素是：' ) \n",
    "print (x[x >  5])"
   ]
  },
  {
   "cell_type": "markdown",
   "metadata": {},
   "source": [
    "4. 改变数组形状\n"
   ]
  },
  {
   "cell_type": "code",
   "execution_count": 11,
   "metadata": {},
   "outputs": [
    {
     "name": "stdout",
     "output_type": "stream",
     "text": [
      "[[0. 0. 0.]\n",
      " [0. 0. 0.]\n",
      " [0. 0. 0.]\n",
      " [0. 0. 0.]]\n",
      "------\n",
      "[[[0. 0. 0.]\n",
      "  [0. 0. 0.]]\n",
      "\n",
      " [[0. 0. 0.]\n",
      "  [0. 0. 0.]]]\n"
     ]
    }
   ],
   "source": [
    "import numpy as np \n",
    "b = np.zeros(shape=(3,4))\n",
    "#使用shape改变数组的形状\n",
    "b.shape=(4,3)\n",
    "print(b)\n",
    "\n",
    "#或者也可以使用reshape方法\n",
    "b = b.reshape(2,2,3)#改变为三维\n",
    "print(\"------\")\n",
    "print(b)"
   ]
  },
  {
   "cell_type": "markdown",
   "metadata": {},
   "source": [
    "## 数组迭代\n",
    "* 可以用嵌套循环进行遍历，但高维时比较麻烦\n",
    "* 使用np.nditer()函数可以更简便遍历"
   ]
  },
  {
   "cell_type": "code",
   "execution_count": 12,
   "metadata": {},
   "outputs": [
    {
     "name": "stdout",
     "output_type": "stream",
     "text": [
      "1\n",
      "2\n",
      "3\n",
      "4\n",
      "5\n",
      "6\n",
      "1\n",
      "2\n",
      "3\n",
      "4\n",
      "5\n",
      "6\n"
     ]
    }
   ],
   "source": [
    "import numpy as np\n",
    "\n",
    "arr = np.array([[1, 2, 3], [4, 5, 6]])\n",
    "\n",
    "# 使用嵌套循环\n",
    "for row in arr:\n",
    "    for element in row:\n",
    "        print(element)\n",
    "\n",
    "# 使用 np.nditer()\n",
    "for element in np.nditer(arr):\n",
    "    print(element)"
   ]
  },
  {
   "cell_type": "markdown",
   "metadata": {},
   "source": [
    "## 数组操作\n",
    "\n",
    "1. 数组转置和轴对换\n",
    "   - 使用 T 属性或者 transpose 方法获得矩阵转置\n"
   ]
  },
  {
   "cell_type": "code",
   "execution_count": 13,
   "metadata": {},
   "outputs": [
    {
     "name": "stdout",
     "output_type": "stream",
     "text": [
      "[[ 0  1  2  3  4]\n",
      " [ 5  6  7  8  9]\n",
      " [10 11 12 13 14]]\n",
      "------\n",
      "[[ 0  5 10]\n",
      " [ 1  6 11]\n",
      " [ 2  7 12]\n",
      " [ 3  8 13]\n",
      " [ 4  9 14]]\n",
      "------\n",
      "[[ 0  5 10]\n",
      " [ 1  6 11]\n",
      " [ 2  7 12]\n",
      " [ 3  8 13]\n",
      " [ 4  9 14]]\n"
     ]
    }
   ],
   "source": [
    "import numpy as np\n",
    "arr = np.arange(15).reshape((3, 5))\n",
    "print(arr)\n",
    "print(\"------\")\n",
    "print(arr.T)\n",
    "print(\"------\")\n",
    "print(arr.transpose())"
   ]
  },
  {
   "cell_type": "markdown",
   "metadata": {},
   "source": [
    "- 计算矩阵内积\n"
   ]
  },
  {
   "cell_type": "code",
   "execution_count": 14,
   "metadata": {},
   "outputs": [
    {
     "name": "stdout",
     "output_type": "stream",
     "text": [
      "[[ 1.01940024  1.06655233 -1.6844076 ]\n",
      " [-0.35620735 -2.17627736 -0.38486516]\n",
      " [ 0.01148888 -0.75484829  2.27486449]\n",
      " [-0.14335801 -0.7960384  -1.2879908 ]\n",
      " [-0.0090938  -1.73615038 -1.11272768]\n",
      " [ 1.07674345 -0.11645347 -0.36303796]]\n",
      "------\n",
      "[[ 2.34620319  1.8582935  -1.74999409]\n",
      " [ 1.8582935  10.10496966  0.32331665]\n",
      " [-1.74999409  0.32331665 11.18923839]]\n"
     ]
    }
   ],
   "source": [
    "import numpy as np\n",
    "arr = np.random.randn(6, 3)\n",
    "print(arr)\n",
    "print(\"------\")\n",
    "print(np.dot(arr.T, arr))"
   ]
  },
  {
   "cell_type": "markdown",
   "metadata": {},
   "source": [
    "- 如果使用 transpose 进行转置计算内积，在转置时要存入一个变化后的轴编号\n"
   ]
  },
  {
   "cell_type": "code",
   "execution_count": 15,
   "metadata": {},
   "outputs": [
    {
     "name": "stdout",
     "output_type": "stream",
     "text": [
      "[[[ 0  1  2  3]\n",
      "  [ 4  5  6  7]]\n",
      "\n",
      " [[ 8  9 10 11]\n",
      "  [12 13 14 15]]]\n",
      "------\n",
      "[[[ 0  1  2  3]\n",
      "  [ 8  9 10 11]]\n",
      "\n",
      " [[ 4  5  6  7]\n",
      "  [12 13 14 15]]]\n"
     ]
    }
   ],
   "source": [
    "import numpy as np\n",
    "arr = np.arange(16).reshape((2, 2, 4))\n",
    "print(arr)\n",
    "print(\"------\")\n",
    "print(arr.transpose((1, 0, 2)))\n"
   ]
  },
  {
   "cell_type": "markdown",
   "metadata": {},
   "source": [
    "## 通用函数：快速的元素级数组函数\n"
   ]
  },
  {
   "cell_type": "markdown",
   "metadata": {},
   "source": [
    "### 一元函数\n",
    "\n",
    "- abs,fabs:计算绝对值，fabs 计算非复数更快\n",
    "- sqrt:各元素的平方根\n",
    "- square:各元素平方\n",
    "- exp:各元素的指数\n",
    "- log，log10,log2,log1p:分别是 ln，lg，log2，log(1+x)\n",
    "- sign:各元素的正负号（正数为+1，负数为-1，零为 0）\n",
    "- #ceil,floor:向上向下去整\n",
    "- rint:四舍五入\n",
    "- isnan:返回哪些是\"NaN\"的布尔数组\n",
    "- cos,cosh,sin,sinh,tan,tanh,arccos,arcsin,arctan:三角函数\n"
   ]
  },
  {
   "cell_type": "code",
   "execution_count": 16,
   "metadata": {},
   "outputs": [
    {
     "name": "stdout",
     "output_type": "stream",
     "text": [
      "[1 2 3 4 5 6 7 8 9]\n",
      "------\n",
      "[1 2 3 4 5 6 7 8 9]\n",
      "------\n",
      "[1.         1.41421356 1.73205081 2.         2.23606798 2.44948974\n",
      " 2.64575131 2.82842712 3.        ]\n",
      "------\n",
      "[ 1  4  9 16 25 36 49 64 81]\n",
      "------\n",
      "[2.71828183e+00 7.38905610e+00 2.00855369e+01 5.45981500e+01\n",
      " 1.48413159e+02 4.03428793e+02 1.09663316e+03 2.98095799e+03\n",
      " 8.10308393e+03]\n",
      "------\n",
      "[0.         0.69314718 1.09861229 1.38629436 1.60943791 1.79175947\n",
      " 1.94591015 2.07944154 2.19722458]\n"
     ]
    }
   ],
   "source": [
    "import numpy as np\n",
    "arr = np.arange(1,10)\n",
    "print(arr)\n",
    "print(\"------\")\n",
    "print(np.abs(arr))\n",
    "print(\"------\")\n",
    "print(np.sqrt(arr))\n",
    "print(\"------\")\n",
    "print(np.square(arr))\n",
    "print(\"------\")\n",
    "print(np.exp(arr))\n",
    "print(\"------\")\n",
    "print(np.log(arr))\n",
    "\n",
    "\n"
   ]
  },
  {
   "cell_type": "code",
   "execution_count": 17,
   "metadata": {},
   "outputs": [
    {
     "name": "stdout",
     "output_type": "stream",
     "text": [
      "------\n",
      "[1 1 1 1 1 1 1 1 1]\n",
      "------\n",
      "[1. 2. 3. 4. 5. 6. 7. 8. 9.]\n",
      "------\n",
      "[1. 2. 3. 4. 5. 6. 7. 8. 9.]\n",
      "------\n",
      "[1. 2. 3. 4. 5. 6. 7. 8. 9.]\n",
      "------\n",
      "[ 0.84147098  0.90929743  0.14112001 -0.7568025  -0.95892427 -0.2794155\n",
      "  0.6569866   0.98935825  0.41211849]\n"
     ]
    }
   ],
   "source": [
    "import numpy as np\n",
    "arr = np.arange(1,10)\n",
    "print(\"------\")\n",
    "print(np.sign(arr))\n",
    "print(\"------\")\n",
    "print(np.ceil(arr))\n",
    "print(\"------\")\n",
    "print(np.floor(arr))\n",
    "print(\"------\")\n",
    "print(np.rint(arr))\n",
    "print(\"------\")\n",
    "print(np.sin(arr))"
   ]
  },
  {
   "cell_type": "markdown",
   "metadata": {},
   "source": [
    "### 二元函数\n",
    "\n",
    "- add：对应元素相加\n",
    "- subtract:前减后\n",
    "- multiply:乘法（不是点积，而是对应位置元素相乘，要求形状相同或者符合广播）\n",
    "- divide,floor_divide:除法，向下除法（都会丢弃余数，只保留整数）\n",
    "- power:前为 A，后为 B，计算 A^B\n",
    "- maximum,fmax:相同位置元素求最大值，fmax 会忽略 NaN\n",
    "- minimum,fmin:相同位置元素求最小值，fmin 会忽略 NaN\n",
    "- mod:求模运算（取余）\n",
    "- greater，greater_equal...:比较预算\n",
    "- logic_and,logic_or,logic_xor：& | ^\n"
   ]
  },
  {
   "cell_type": "code",
   "execution_count": 18,
   "metadata": {},
   "outputs": [
    {
     "name": "stdout",
     "output_type": "stream",
     "text": [
      "[2.77429968 1.41081229 1.30244113 4.00291007 6.30873501 7.01883146\n",
      " 8.62247427 7.81310359 8.11062293 8.06975873]\n",
      "------\n",
      "[  0.77429968  -2.58918771  -4.69755887  -3.99708993  -3.69126499\n",
      "  -4.98116854  -5.37752573  -8.18689641  -9.88937707 -11.93024127]\n",
      "------\n",
      "[ 1.77429968e+00 -1.17837542e+00 -5.09267662e+00  1.16402846e-02\n",
      "  6.54367504e+00  6.11298877e+00  1.13573199e+01 -1.49517125e+00\n",
      " -8.00439361e+00 -1.93024127e+01]\n",
      "------\n",
      "[ 1.77429968e+00 -2.94593855e-01 -5.65852958e-01  7.27517787e-04\n",
      "  2.61747002e-01  1.69805244e-01  2.31782038e-01 -2.33620508e-02\n",
      " -9.88196742e-02 -1.93024127e-01]\n",
      "------\n",
      "[ 1.77429968e+00  3.47142159e-01 -4.89186580e+00  7.17157310e-11\n",
      "  3.83935790e+00  1.11844360e+00  2.95967978e+01  1.48870146e-06\n",
      " -3.48155568e-01  7.17985980e+02]\n"
     ]
    }
   ],
   "source": [
    "import numpy as np\n",
    "arr1 = np.random.randn(10)\n",
    "arr2 = np.arange(1,11)\n",
    "print(np.add(arr1, arr2))\n",
    "print(\"------\")\n",
    "print(np.subtract(arr1, arr2))\n",
    "print(\"------\")\n",
    "print(np.multiply(arr1, arr2))\n",
    "print(\"------\")\n",
    "print(np.divide(arr1, arr2))\n",
    "print(\"------\")\n",
    "print(np.power(arr1, arr2))"
   ]
  },
  {
   "cell_type": "code",
   "execution_count": 19,
   "metadata": {},
   "outputs": [
    {
     "name": "stdout",
     "output_type": "stream",
     "text": [
      "------\n",
      "[-0.05461459  0.97898722  0.22759959 -0.55343932 -0.19777515 -0.07339399\n",
      "  0.96386566  0.56532014  2.47111046  1.43797001]\n",
      "------\n",
      "[-1.0813688  -0.44443643 -0.60747112 -0.70850751 -1.50711618 -0.99015043\n",
      "  0.22368403 -0.76930228  2.40342464 -1.44987291]\n",
      "------\n",
      "[-0.04369163  0.53455078  0.07532766 -0.15506818 -0.12269013 -0.03602854\n",
      "  0.22368403  0.361338    0.06768582  1.42606711]\n"
     ]
    }
   ],
   "source": [
    "import numpy as np\n",
    "arr1 = np.random.randn(10)\n",
    "arr2 = np.random.randn(10)\n",
    "print(\"------\")\n",
    "print(np.maximum(arr1, arr2))\n",
    "print(\"------\")\n",
    "print(np.minimum(arr1, arr2))\n",
    "print(\"------\")\n",
    "print(np.mod(arr1, arr2))\n",
    "\n"
   ]
  },
  {
   "cell_type": "markdown",
   "metadata": {},
   "source": [
    "## 条件逻辑用于数组运算\n",
    "\n",
    "- numpy.where 函数是三元表达式 x if condition else y 的矢量化版本。\n",
    "- np.where 的第二个和第三个参数不必是数组，它们都可以是标量值。\n"
   ]
  },
  {
   "cell_type": "code",
   "execution_count": 20,
   "metadata": {},
   "outputs": [
    {
     "name": "stdout",
     "output_type": "stream",
     "text": [
      "[1.1 2.2 1.3 1.4 2.5]\n",
      "------\n",
      "[[ 2 -2  2  2]\n",
      " [ 2 -2 -2 -2]\n",
      " [ 2 -2  2 -2]\n",
      " [ 2  2 -2  2]]\n"
     ]
    }
   ],
   "source": [
    "import numpy as np\n",
    "xarr = np.array([1.1, 1.2, 1.3, 1.4, 1.5])\n",
    "\n",
    "yarr = np.array([2.1, 2.2, 2.3, 2.4, 2.5])\n",
    "\n",
    "cond = np.array([True, False, True, True, False])\n",
    "\n",
    "result = np.where(cond, xarr, yarr)\n",
    "\n",
    "print(result)\n",
    "\n",
    "print(\"------\")\n",
    "arr = np.random.randn(4, 4)\n",
    "carr = np.where(arr > 0, 2, -2)\n",
    "print(carr)"
   ]
  },
  {
   "cell_type": "markdown",
   "metadata": {},
   "source": [
    "## 数学统计方法\n",
    "\n",
    "- sum:对全部或轴向元素求和\n",
    "- mean:求算数平均数\n",
    "- std,var:标准差和方差\n",
    "- min,max:求最小最大值\n",
    "- argmin,argmax:最小最大值的索引\n"
   ]
  },
  {
   "cell_type": "code",
   "execution_count": 21,
   "metadata": {},
   "outputs": [
    {
     "name": "stdout",
     "output_type": "stream",
     "text": [
      "-0.12332114716253899\n",
      "------\n",
      "-0.12332114716253899\n",
      "------\n",
      "-2.46642294325078\n",
      "------\n",
      "1.0936827403565896\n",
      "------\n",
      "1.1961419365538997\n"
     ]
    }
   ],
   "source": [
    "import numpy as np\n",
    "arr = np.random.randn(5, 4)\n",
    "print(arr.mean())\n",
    "print(\"------\")\n",
    "print(np.mean(arr))#两者等价，其他函数均成立\n",
    "print(\"------\")\n",
    "print(arr.sum())\n",
    "print(\"------\")\n",
    "print(arr.std())\n",
    "print(\"------\")\n",
    "print(np.var(arr))"
   ]
  },
  {
   "cell_type": "markdown",
   "metadata": {},
   "source": [
    "- mean 和 sum 这类的函数可以接受一个 axis 选项参数，用于计算该轴向上的统计值\n"
   ]
  },
  {
   "cell_type": "code",
   "execution_count": 22,
   "metadata": {},
   "outputs": [
    {
     "name": "stdout",
     "output_type": "stream",
     "text": [
      "[ 0.52742768  0.58661049  1.00921804 -0.92746349  0.09065176]\n",
      "------\n",
      "[ 2.18401076 -0.22186826  2.98184619  0.20178927]\n"
     ]
    }
   ],
   "source": [
    "import numpy as np\n",
    "arr = np.random.randn(5, 4)\n",
    "print(arr.mean(axis=1))\n",
    "print(\"------\")\n",
    "print(arr.sum(axis=0))\n",
    "#arr.mean(1)是“计算行的平均值”，arr.sum(0)是“计算每列的和”。"
   ]
  },
  {
   "cell_type": "markdown",
   "metadata": {},
   "source": [
    "- 对于布尔型数组，sum 可以求出一共有多少个 True\n",
    "- any()可以判断是否有 1 个以上的 True\n",
    "- all()判断是否全是 True"
   ]
  },
  {
   "cell_type": "code",
   "execution_count": 23,
   "metadata": {},
   "outputs": [
    {
     "name": "stdout",
     "output_type": "stream",
     "text": [
      "[-0.22460788 -0.00605158  0.17240232 -0.69347657  0.29671648  1.72072883\n",
      " -1.33600706  1.32051225 -0.2541522   1.50274899]\n",
      "------\n",
      "[False False  True False  True  True False  True False  True]\n",
      "------\n",
      "5\n",
      "------\n",
      "True\n",
      "------\n",
      "False\n"
     ]
    }
   ],
   "source": [
    "import numpy as np\n",
    "arr = np.random.randn(10)\n",
    "print(arr)\n",
    "print(\"------\")\n",
    "print(arr > 0) #对numpy数组进行布尔操作，返回一个布尔值数组\n",
    "print(\"------\")\n",
    "print((arr > 0).sum())#对布尔值数组进行求和操作，True会被强制转换为1\n",
    "print(\"------\")\n",
    "print((arr > 0).any())#检查数组中是否存在True\n",
    "print(\"------\")\n",
    "print((arr > 0).all())#检查数组中是否全为True"
   ]
  },
  {
   "cell_type": "markdown",
   "metadata": {},
   "source": [
    "## 排序\n",
    "\n",
    "- 跟 Python 内置的列表类型一样，NumPy 数组也可以通过 sort 方法就地排序：\n"
   ]
  },
  {
   "cell_type": "code",
   "execution_count": 24,
   "metadata": {},
   "outputs": [
    {
     "name": "stdout",
     "output_type": "stream",
     "text": [
      "[-0.17575168  0.06326241  0.21812904 -1.56514112 -0.02603464  0.12745094]\n",
      "------\n",
      "[-1.56514112 -0.17575168 -0.02603464  0.06326241  0.12745094  0.21812904]\n"
     ]
    }
   ],
   "source": [
    "import numpy as np\n",
    "arr = np.random.randn(6)\n",
    "print(arr)\n",
    "print(\"------\")\n",
    "arr.sort()\n",
    "print(arr)"
   ]
  },
  {
   "cell_type": "markdown",
   "metadata": {},
   "source": [
    "- 多维数组可以在任何一个轴向上进行排序，只需将轴编号传给 sort 即可：\n",
    "- np.sort 返回的是数组的已排序副本\n"
   ]
  },
  {
   "cell_type": "code",
   "execution_count": 25,
   "metadata": {},
   "outputs": [
    {
     "name": "stdout",
     "output_type": "stream",
     "text": [
      "[[ 0.36393124  0.20329197  0.38529846]\n",
      " [-0.70724014 -0.79569232  0.21092763]\n",
      " [-0.08389907 -0.48908423 -1.69110451]\n",
      " [-0.34279289 -0.5322621   0.18334688]]\n",
      "------\n",
      "[[-0.70724014 -0.79569232 -1.69110451]\n",
      " [-0.34279289 -0.5322621   0.18334688]\n",
      " [-0.08389907 -0.48908423  0.21092763]\n",
      " [ 0.36393124  0.20329197  0.38529846]]\n",
      "------\n",
      "[[-1.69110451 -0.79569232 -0.70724014]\n",
      " [-0.5322621  -0.34279289  0.18334688]\n",
      " [-0.48908423 -0.08389907  0.21092763]\n",
      " [ 0.20329197  0.36393124  0.38529846]]\n",
      "------\n"
     ]
    }
   ],
   "source": [
    "arr = np.random.randn(4, 3)\n",
    "print(arr)\n",
    "print(\"------\")\n",
    "arr.sort(0) #沿着行的方向进行排序，也就是对列排序\n",
    "print(arr)\n",
    "print(\"------\")\n",
    "print(np.sort(arr,axis=1))#沿着列的方向进行排序，也就是对行排序\n",
    "print(\"------\")\n"
   ]
  },
  {
   "cell_type": "code",
   "execution_count": 26,
   "metadata": {},
   "outputs": [
    {
     "name": "stdout",
     "output_type": "stream",
     "text": [
      "0.4678172207890958\n"
     ]
    }
   ],
   "source": [
    "import numpy as np\n",
    "arr = np.random.randn(10)\n",
    "#对排好序的数组进行切片操作，可以得到指定大小的数组\n",
    "np.sort(arr)\n",
    "print(arr[int(0.05 * len(arr))]) #求5%分位数"
   ]
  },
  {
   "cell_type": "markdown",
   "metadata": {},
   "source": [
    "## 数组的集合运算\n",
    "\n",
    "- unique(x):计算 x 中的唯一元素，并返回排序结果\n",
    "- intersect1d(x,y):计算 x 和 y 中的公共元素并返回有序结果\n",
    "- union1d(x,y):计算 x 和 y 的并集，并返回有序结果\n",
    "- isin(x,y):得到一个表示 x 的元素是否存在于 y 中的布尔型数组\n",
    "- setdiff1d(x,y):集合的差：元素在 x 而不在 y 中\n",
    "- setxor1d(x,y):存在于一个数组但不同时存在于两个数组的元素\n"
   ]
  },
  {
   "cell_type": "code",
   "execution_count": 27,
   "metadata": {},
   "outputs": [
    {
     "name": "stdout",
     "output_type": "stream",
     "text": [
      "[0 1 2 3 5]\n",
      "------\n",
      "[1 2 3 5]\n",
      "------\n",
      "[0 1 2 3 4 5]\n",
      "------\n",
      "[ True False  True  True  True]\n",
      "------\n",
      "[0]\n",
      "------\n",
      "[0 4]\n"
     ]
    }
   ],
   "source": [
    "import numpy as np;\n",
    "arr1 = np.array([5, 0, 1, 3, 2])\n",
    "arr2 = np.array([1, 2, 3, 4, 5])\n",
    "print(np.unique(arr1))\n",
    "print(\"------\")\n",
    "print(np.intersect1d(arr1, arr2))\n",
    "print(\"------\")\n",
    "print(np.union1d(arr1, arr2))\n",
    "print(\"------\")\n",
    "print(np.isin(arr1, arr2))\n",
    "print(\"------\")\n",
    "print(np.setdiff1d(arr1, arr2))\n",
    "print(\"------\")\n",
    "print(np.setxor1d(arr1, arr2))"
   ]
  },
  {
   "cell_type": "markdown",
   "metadata": {},
   "source": [
    "## numpy文件输入输出\n",
    "* save函数将numpy数组保存为npy文件\n",
    "* load函数将npy文件加载为数组"
   ]
  },
  {
   "cell_type": "code",
   "execution_count": 28,
   "metadata": {},
   "outputs": [
    {
     "name": "stdout",
     "output_type": "stream",
     "text": [
      "[0 1 2 3 4 5 6 7 8 9]\n"
     ]
    }
   ],
   "source": [
    "import numpy as np\n",
    "arr = np.arange(10)\n",
    "np.save('some_array.npy', arr)\n",
    "\n",
    "print(np.load('some_array.npy'))"
   ]
  },
  {
   "cell_type": "markdown",
   "metadata": {},
   "source": [
    "* savez函数将多个数组保存到npz文件中\n",
    "* load函数加载npz时，得到字典对象，通过索引进行访问"
   ]
  },
  {
   "cell_type": "code",
   "execution_count": 29,
   "metadata": {},
   "outputs": [
    {
     "name": "stdout",
     "output_type": "stream",
     "text": [
      "[-0.65253928 -0.1880723   1.4824981   0.93602751  0.65357564 -0.21804689\n",
      "  1.22517786 -1.49442295  1.31046451  2.05192841]\n"
     ]
    }
   ],
   "source": [
    "import numpy as np\n",
    "arr1 = np.arange(10)\n",
    "arr2 = np.random.randn(10)\n",
    "np.savez('array_archive.npz', a=arr1, c=arr2)\n",
    "arch = np.load('array_archive.npz')\n",
    "print(arch['c'])"
   ]
  },
  {
   "cell_type": "markdown",
   "metadata": {},
   "source": [
    "## 线性代数\n",
    "* 矩阵乘法dot函数"
   ]
  },
  {
   "cell_type": "code",
   "execution_count": 30,
   "metadata": {},
   "outputs": [
    {
     "name": "stdout",
     "output_type": "stream",
     "text": [
      "[[ 28.  64.]\n",
      " [ 67. 181.]]\n",
      "------\n",
      "[[ 28.  64.]\n",
      " [ 67. 181.]]\n",
      "------\n",
      "[ 6. 15.]\n"
     ]
    }
   ],
   "source": [
    "import numpy as np\n",
    "x= np.array([[1., 2., 3.], [4., 5., 6.]])\n",
    "y = np.array([[6., 23.], [-1, 7], [8, 9]])\n",
    "\n",
    "print(x.dot(y))\n",
    "print(\"------\")\n",
    "print(np.dot(x,y))\n",
    "\n",
    "print(\"------\")\n",
    "a = x @ np.ones(3) # at也可以进行矩阵乘法\n",
    "print(a)"
   ]
  },
  {
   "cell_type": "markdown",
   "metadata": {},
   "source": [
    "### numpy.linalg中的矩阵运算函数\n",
    "* diag:以一维数组返回方阵对角线元素，或者将一维数组转换为方阵，非对角为0\n",
    "* dot:矩阵乘法\n",
    "* trace:求对角线元素的和\n",
    "* det:求行列式\n",
    "* eig：求本征值和本征向量\n",
    "* inv:求矩阵的逆\n",
    "* qr:求矩阵的qr分解\n",
    "* svd:计算矩阵的奇异值分解\n",
    "* solve：解线性方程组Ax=b，A为方阵\n",
    "* lstsq:求Ax=b的最小二乘解"
   ]
  },
  {
   "cell_type": "code",
   "execution_count": 31,
   "metadata": {},
   "outputs": [
    {
     "name": "stdout",
     "output_type": "stream",
     "text": [
      "[ 0.62023284  0.33888607  1.22224588 -0.09904399 -0.74079361]\n",
      "------\n",
      "[[ 3.34372467 -2.25297679  0.85674921  0.23000075  0.34098885]\n",
      " [-2.25297679 15.1240768  -4.37091365 -0.11562437 -2.58630153]\n",
      " [ 0.85674921 -4.37091365  4.33711158 -1.15408962 -0.82641313]\n",
      " [ 0.23000075 -0.11562437 -1.15408962  0.54265253  0.80891524]\n",
      " [ 0.34098885 -2.58630153 -0.82641313  0.80891524  2.3545381 ]]\n",
      "------\n",
      "1.3415271902895598\n",
      "------\n",
      "-2.027908248299899\n",
      "------\n",
      "[[ 0.51291387 -0.30157995 -0.2256135   0.50842439  0.06333775]\n",
      " [ 0.13872011  0.38234252  0.3607173  -0.08185226  0.0814483 ]\n",
      " [-0.58192107  1.55134797  1.11877688 -0.1702987  -0.41090061]\n",
      " [-2.96541418  5.0566957   1.69449138 -0.15151589 -0.39137249]\n",
      " [ 1.16816484 -0.48035434 -0.1156068  -0.42002618 -0.2440936 ]]\n",
      "------\n",
      "q:[[-0.80719234 -0.58213387  0.038167    0.03037721  0.08474195]\n",
      " [ 0.54388019 -0.77919328 -0.14609154 -0.27504726 -0.00764477]\n",
      " [-0.20682367  0.17746108 -0.80702175 -0.47704367 -0.21651043]\n",
      " [-0.05552336 -0.0434303   0.33634016 -0.1395923  -0.92866585]\n",
      " [-0.08231646  0.1435248   0.46129354 -0.8224169   0.28890023]]\n",
      "r:[[ -4.1424138   11.16759478  -3.83372572  -0.10656454  -1.7496909 ]\n",
      " [  0.         -11.61488877   3.60822399  -0.15607164   1.97287463]\n",
      " [  0.           0.          -3.59827604   1.51270882   2.41598858]\n",
      " [  0.           0.           0.          -0.15167559  -0.93338168]\n",
      " [  0.           0.           0.           0.           0.15660943]]\n"
     ]
    }
   ],
   "source": [
    "import numpy as np\n",
    "import numpy.linalg as LA\n",
    "\n",
    "X = np.random.randn(5, 5)\n",
    "print(np.diag(X))\n",
    "print(\"------\")\n",
    "mat = X.T.dot(X)\n",
    "print(mat)\n",
    "print(\"------\")\n",
    "print(LA.trace(X))\n",
    "print(\"------\")\n",
    "print(LA.det(X))\n",
    "print(\"------\")\n",
    "print(LA.inv(X))\n",
    "print(\"------\")\n",
    "q, r = LA.qr(mat)\n",
    "print(f\"q:{q}\")\n",
    "print(f\"r:{r}\")\n"
   ]
  },
  {
   "cell_type": "markdown",
   "metadata": {},
   "source": [
    "## numpy random下的函数\n",
    "* seed:确定随机数生成器的种子\n",
    "* permutation：返回一个序列的随机排列或者随机排列范围\n",
    "* shuffle:对序列仅随机排序\n",
    "* rand:产生均匀分布的样本值\n",
    "* randint:从给定的上下限范围内随机取整数\n",
    "* randn:产生正态分布（均值为1，标准差为1）的样本值\n",
    "* binomial:产生二项分布的样本值\n",
    "* normal:产生正态分布的样本值\n",
    "* beta:产生beta分布样本值\n",
    "* chisquare:产生卡方分布的样本值\n",
    "* gamma:产生Gamma分别样本值\n",
    "* uniform:产生[0,1)中均匀分布的样本值"
   ]
  },
  {
   "cell_type": "code",
   "execution_count": 32,
   "metadata": {},
   "outputs": [
    {
     "name": "stdout",
     "output_type": "stream",
     "text": [
      "[0.5488135  0.71518937 0.60276338 0.54488318 0.4236548 ]\n",
      "------\n",
      "[0.19151945 0.62210877 0.43772774 0.78535858 0.77997581 0.27259261]\n",
      "------\n",
      "[3 1 8 7 9 0 6 4 2 5]\n",
      "------\n",
      "[5 2 3 4 1 0 9 8 7 6]\n"
     ]
    }
   ],
   "source": [
    "import numpy as np\n",
    "\n",
    "np.random.seed(0)  # 设置种子为 0 这是全局的随机数生成器\n",
    "print(np.random.rand(5))  # 每次运行结果相同\n",
    "print(\"------\")\n",
    "rng = np.random.RandomState(1234)  # 创建一个随机数生成器，隔离的随机数生成器\n",
    "print(rng.rand(6))  # 生成随机数\n",
    "print(\"------\")\n",
    "arr = np.arange(10)\n",
    "print(np.random.permutation(arr))  # 随机排列数组\n",
    "print(\"------\")\n",
    "np.random.shuffle(arr)  # 对数组进行随机排序，原地操作，不会返回新数组\n",
    "print(arr)"
   ]
  },
  {
   "cell_type": "code",
   "execution_count": 33,
   "metadata": {},
   "outputs": [
    {
     "name": "stdout",
     "output_type": "stream",
     "text": [
      "[0.33739616 0.64817187 0.36824154 0.95715516 0.14035078]\n",
      "------\n",
      "[1 3 4 9 2]\n",
      "------\n",
      "[[3 3 3]\n",
      " [0 1 1]]\n",
      "[1 0]\n",
      "------\n",
      "[-2.55298982  0.6536186   0.8644362  -0.74216502  2.26975462]\n",
      "------\n",
      "[[2 5 5]\n",
      " [5 7 6]]\n",
      "9\n"
     ]
    }
   ],
   "source": [
    "import numpy as np\n",
    "a = np.random.rand(5)  # 生成一个 5*5 的随机数组\n",
    "print(a)\n",
    "print(\"------\")\n",
    "b = np.random.randint(1, 10, 5) # 从 [1, 10) 中随机取 5 个整数\n",
    "print(b)\n",
    "print(\"------\")\n",
    "c = np.random.randint(0, 5, (2, 3))  # 从 [0, 5) 中随机取 2x3 的整数数组 形状未指定则返回单个样本值\n",
    "print(c)\n",
    "c = np.random.randint(0, 5, 2) \n",
    "print(c)\n",
    "print(\"------\")\n",
    "d = np.random.randn(5)  # 生成一个 5 个标准正态分布的随机数组\n",
    "print(d)\n",
    "print(\"------\")\n",
    "print(np.random.binomial(10, 0.5, (2,3))) # 10次试验，每次成功概率0.5, 产生 2x3 的样本值数组 形状未指定则返回单个样本值，每个值表示实验的期望\n",
    "print(np.random.binomial(100, 0.1))\n"
   ]
  },
  {
   "cell_type": "code",
   "execution_count": 34,
   "metadata": {},
   "outputs": [
    {
     "name": "stdout",
     "output_type": "stream",
     "text": [
      "[[2.09126865 8.57496809 3.86096547]\n",
      " [5.35077307 4.07498892 2.82839881]]\n",
      "------\n",
      "[0.02181378 0.04213945 0.03945283 0.18136743 0.03122086 0.06434116\n",
      " 0.23349983 0.22589519 0.07811415 0.10256618]\n",
      "------\n",
      "[0.13259479 2.35837905 1.67219509 0.61682968 1.4815179  0.19730063\n",
      " 1.71579128 5.29851185 0.76712042 2.20169184]\n",
      "------\n",
      "[5.5909002  3.33812332 4.02547279 4.78905223 2.57506077 6.89570345\n",
      " 5.74662421 2.07252225 7.70437751 4.28867572]\n",
      "------\n",
      "[0.81379782 0.39650574 0.8811032  0.58127287 0.88173536]\n",
      "[[ 0.38506318  0.45050856  0.00264876]\n",
      " [ 0.91216727  0.2879804  -0.1522899 ]]\n"
     ]
    }
   ],
   "source": [
    "import numpy as np\n",
    "\n",
    "print(np.random.normal(5, 2, (2, 3)))  # 均值为 5，标准差为 2，产生 2x3 的样本值数组 形状未指定则返回单个样本值\n",
    "print(\"------\")\n",
    "print(np.random.beta(1, 5, 10)) #参数a=1,b=5,生成10个样本\n",
    "print(\"------\")\n",
    "print(np.random.chisquare(2, 10)) #自由度为2，生成10个样本\n",
    "print(\"------\")\n",
    "print(np.random.gamma(5, 1, 10)) #形状参数为5，尺度参数为1，生成10个样本\n",
    "print(\"------\")\n",
    "print(np.random.uniform(0, 1, 5))  # 产生 5 个 [0, 1) 之间的均匀分布样本值\n",
    "print(np.random.uniform(-1, 1, (2, 3)))  # 产生 2x3 的 [-1, 1) 之间的均匀分布样本值数组"
   ]
  }
 ],
 "metadata": {
  "kernelspec": {
   "display_name": "Python 3",
   "language": "python",
   "name": "python3"
  },
  "language_info": {
   "codemirror_mode": {
    "name": "ipython",
    "version": 3
   },
   "file_extension": ".py",
   "mimetype": "text/x-python",
   "name": "python",
   "nbconvert_exporter": "python",
   "pygments_lexer": "ipython3",
   "version": "3.9.6"
  }
 },
 "nbformat": 4,
 "nbformat_minor": 2
}
