{
 "cells": [
  {
   "cell_type": "markdown",
   "metadata": {},
   "source": [
    "# pandas学习笔记"
   ]
  },
  {
   "cell_type": "markdown",
   "metadata": {},
   "source": [
    "## pandas数据结构\n",
    "### Series  \n",
    "1. Series是一种类似于一维数组的对象，它由一组数据（各种NumPy数据类型）以及一组与之相关的数据标签（即索引）组成  \n",
    "   即：数组+标签索引  \n",
    "   Series对象本身及其索引都有一个name属性,可以在任意时刻赋值定义"
   ]
  },
  {
   "cell_type": "code",
   "execution_count": null,
   "metadata": {},
   "outputs": [],
   "source": [
    "import pandas as pd\n",
    "import numpy as np\n",
    "obj = pd.Series([4, 7, -5, 3], index=['d', 'b', 'a', 'c'])\n",
    "print(obj)\n",
    "print(\"---------\")\n",
    "print(obj.values)  #分别用obj.values和obj.index来获取其数组表示形式和索引对象\n",
    "print(\"---------\")\n",
    "print(obj.index)\n",
    "print(\"---------\")\n",
    "obj.name = 'my_data'\n",
    "obj.index.name = 'my_index' #可以通过赋值obj.name和obj.index.name来为其指定一个名字。可以用rename方法来修改\n",
    "print(obj)  #若有名字，则会被显示出来"
   ]
  },
  {
   "cell_type": "markdown",
   "metadata": {},
   "source": [
    "2. Series的初始化\n",
    "   * 使用各种类型的python列表创建\n",
    "   * 使用numpy数组创建\n",
    "   * 使用字典创建"
   ]
  },
  {
   "cell_type": "code",
   "execution_count": null,
   "metadata": {},
   "outputs": [],
   "source": [
    "import pandas as pd\n",
    "import numpy as np\n",
    "#1.使用列表创建Series\n",
    "obj1 = pd.Series([4, 7, -5, 3], index=['d', 'b', 'a', 'c'])  #可以使用数组指定索引\n",
    "print(obj1)\n",
    "print(\"---------\")\n",
    "\n",
    "#2.使用numpy数组创建Series\n",
    "a = np.arange(1,10,2)\n",
    "obj2 = pd.Series(a)  #默认索引为0,1,2,3,4\n",
    "print(obj2)\n",
    "print(\"---------\")\n",
    "\n",
    "#3.使用字典创建Series\n",
    "dict = {'a':1,'b':2,'c':3,'d':4}\n",
    "obj3 = pd.Series(dict)  #默认索引为字典的键\n",
    "print(obj3)\n",
    "print(\"---------\")\n",
    "\n",
    "#4.使用字典创建Series，并指定索引\n",
    "dict = {'a':1,'b':2,'c':3,'d':4}\n",
    "index = ['b','c','d','e']           #指定索引时，只有指定的索引的值会出现在最终的Series中\n",
    "obj4 = pd.Series(dict,index=index)  #字典中没有的索引，其值为NaN\n",
    "print(obj4)"
   ]
  },
  {
   "cell_type": "markdown",
   "metadata": {},
   "source": [
    "3. 访问series元素\n",
    "   * 通过索引访问值 如obj['a'],obj[1]\n",
    "   * 也可以通过索引对值进行修改"
   ]
  },
  {
   "cell_type": "code",
   "execution_count": null,
   "metadata": {},
   "outputs": [],
   "source": [
    "import pandas as pd\n",
    "import numpy as np\n",
    "obj1 = pd.Series([4, 7, -5, 3], index=['d', 'b', 'a', 'c'])\n",
    "print(obj1['a'])\n",
    "print(\"---------\")\n",
    "print(obj1[['a','b','c']])\n",
    "print(\"---------\")\n",
    "obj1['a'] = 10  #通过索引修改值\n",
    "print(obj1['a'])"
   ]
  },
  {
   "cell_type": "markdown",
   "metadata": {},
   "source": [
    "* 可以通过对obj.index赋值，达成对索引的修改"
   ]
  },
  {
   "cell_type": "code",
   "execution_count": null,
   "metadata": {},
   "outputs": [],
   "source": [
    "import pandas as pd\n",
    "import numpy as np\n",
    "obj1 = pd.Series([4, 7, -5, 3], index=['d', 'b', 'a', 'c'])\n",
    "obj1.index = ['A','B','C','D']  #通过赋值的方式修改索引\n",
    "print(obj1)"
   ]
  },
  {
   "cell_type": "markdown",
   "metadata": {},
   "source": [
    "4. Series运算\n",
    "   * Series支持类似numpy的运算\n",
    "   * Series会根据运算的索引标签自动对齐数据"
   ]
  },
  {
   "cell_type": "code",
   "execution_count": null,
   "metadata": {},
   "outputs": [],
   "source": [
    "import pandas as pd\n",
    "import numpy as np\n",
    "obj1 = pd.Series([4, 7, -5, 3], index=['d', 'b', 'a', 'c'])\n",
    "\n",
    "a = np.arange(1,10,2)\n",
    "obj2 = pd.Series(a)\n",
    "\n",
    "dict = {'a':1,'b':2,'c':3,'d':4}\n",
    "obj3 = pd.Series(dict)\n",
    "\n",
    "print(obj1[obj1>0])  #通过布尔数组进行过滤\n",
    "print(\"---------\")\n",
    "\n",
    "print(obj2*2)  #Series支持按位运算\n",
    "print(\"---------\")\n",
    "\n",
    "print(np.exp(obj3))  #Series支持numpy的函数\n",
    "print(\"---------\")\n",
    "\n",
    "print('b' in obj3)  #类似字典，判断索引是否存在\n",
    "print('e' in obj3)\n",
    "\n"
   ]
  },
  {
   "cell_type": "code",
   "execution_count": null,
   "metadata": {},
   "outputs": [],
   "source": [
    "import pandas as pd\n",
    "import numpy as np\n",
    "\n",
    "dict = {'a':1,'b':2,'c':3,'d':4}\n",
    "index = ['b','c','d','e']\n",
    "obj4 = pd.Series(dict,index=index) \n",
    "print(obj4)\n",
    "print(\"---------\")\n",
    "\n",
    "print(pd.isnull(obj4))  #判断是否为空值\n",
    "print(\"---------\")\n",
    "\n",
    "print(pd.isna(obj4))  #判断是否为NaN\n",
    "print(obj4.isna())  #或者直接使用Series的isna方法，上述及其他函数都可以这样使用"
   ]
  },
  {
   "cell_type": "code",
   "execution_count": null,
   "metadata": {},
   "outputs": [],
   "source": [
    "import pandas as pd\n",
    "import numpy as np\n",
    "obj1 = pd.Series([4, 7, -5, 3], index=['a', 'b', 'c', 'd'])\n",
    "obj2 = pd.Series([0, -3, 7, 4], index=['b', 'a', 'c', 'e'])\n",
    "print(obj1+obj2)  #索引不同的Series相加，相同索引的值相加，不同索引的值为NaN,无论索引顺序如何都会自动对齐，类似于数据库的join操作"
   ]
  },
  {
   "cell_type": "markdown",
   "metadata": {},
   "source": [
    "### DataFrame\n",
    "DataFrame是一个表格型的数据结构，它含有一组有序的列，每列可以是不同的值类型（数值、字符串、布尔值等）。  \n",
    "DataFrame既有行索引也有列索引，它可以被看做由Series组成的字典（共用同一个索引）"
   ]
  },
  {
   "cell_type": "markdown",
   "metadata": {},
   "source": [
    "1. DataFrame的初始化\n",
    "   * 传入一个由等长列表或NumPy数组组成的字典\n",
    "   * 传入一个嵌套字典"
   ]
  },
  {
   "cell_type": "code",
   "execution_count": null,
   "metadata": {},
   "outputs": [],
   "source": [
    "#初始化方法一：传入一个由等长列表或NumPy数组组成的字典\n",
    "import pandas as pd\n",
    "import numpy as np\n",
    "#键为标签，值为Series或者其他数组，这个Series和数组可以是不同数据类型的，但长度必须相同\n",
    "data = {'state': ['Ohio', 'Ohio', 'Ohio', 'Nevada', 'Nevada', 'Nevada'],\n",
    "        'year': [2000, 2001, 2002, 2001, 2002, 2003],\n",
    "        'pop': [1.5, 1.7, 3.6, 2.4, 2.9, 3.2]}\n",
    "frame = pd.DataFrame(data)\n",
    "print(frame)\n",
    "\n",
    "#在结果中，每一列的名称即为字典的键（也就是Series的索引/标签），每一行的索引是从0开始的整数，可以通过index参数来指定索引"
   ]
  },
  {
   "cell_type": "code",
   "execution_count": null,
   "metadata": {},
   "outputs": [],
   "source": [
    "#初始化方法二：传入一个嵌套字典\n",
    "import pandas as pd\n",
    "import numpy as np\n",
    "\n",
    "pop = {'Nevada': {2001: 2.4, 2002: 2.9},\n",
    "        'Ohio': {2000: 1.5, 2001: 1.7, 2002: 3.6}}\n",
    "frame2 = pd.DataFrame(pop)  #如果嵌套字典传给DataFrame，pandas就会被解释为：外层字典的键作为列，内层键则作为行索引：\n",
    "print(frame2)"
   ]
  },
  {
   "cell_type": "markdown",
   "metadata": {},
   "source": [
    "* 对于特别大的DataFrame，可以用head方法查看前五行"
   ]
  },
  {
   "cell_type": "code",
   "execution_count": null,
   "metadata": {},
   "outputs": [],
   "source": [
    "import pandas as pd\n",
    "import numpy as np\n",
    "data = {'state': ['Ohio', 'Ohio', 'Ohio', 'Nevada', 'Nevada', 'Nevada'],\n",
    "        'year': [2000, 2001, 2002, 2001, 2002, 2003],\n",
    "        'pop': [1.5, 1.7, 3.6, 2.4, 2.9, 3.2]}\n",
    "frame = pd.DataFrame(data)\n",
    "print(frame.head())"
   ]
  },
  {
   "cell_type": "markdown",
   "metadata": {},
   "source": [
    "* 如果指定了列序列，则DataFrame的列就会按照指定顺序进行排列："
   ]
  },
  {
   "cell_type": "code",
   "execution_count": null,
   "metadata": {},
   "outputs": [],
   "source": [
    "import pandas as pd\n",
    "import numpy as np\n",
    "data = {'state': ['Ohio', 'Ohio', 'Ohio', 'Nevada', 'Nevada', 'Nevada'],\n",
    "        'year': [2000, 2001, 2002, 2001, 2002, 2003],\n",
    "        'pop': [1.5, 1.7, 3.6, 2.4, 2.9, 3.2]}\n",
    "frame = pd.DataFrame(data,columns=['year', 'state', 'pop'])\n",
    "print(frame)"
   ]
  },
  {
   "cell_type": "markdown",
   "metadata": {},
   "source": [
    "* 默认索引是从0开始，可以对索引进行指定\n",
    "* 同时，如果传入的列在数据中找不到，就会在结果中产生缺失值："
   ]
  },
  {
   "cell_type": "code",
   "execution_count": null,
   "metadata": {},
   "outputs": [],
   "source": [
    "import pandas as pd\n",
    "import numpy as np\n",
    "data = {'state': ['Ohio', 'Ohio', 'Ohio', 'Nevada', 'Nevada', 'Nevada'],\n",
    "        'year': [2000, 2001, 2002, 2001, 2002, 2003],\n",
    "        'pop': [1.5, 1.7, 3.6, 2.4, 2.9, 3.2]}\n",
    "frame = pd.DataFrame(data,columns=['year', 'state', 'pop','debt'],index=['one', 'two', 'three', 'four', 'five', 'six'])\n",
    "print(frame)\n",
    "print(\"---------\")\n",
    "frame.index = ['first', 'second', 'third', 'fourth', 'fifth', 'sixth']  #通过赋值的方式修改索引\n",
    "print(frame)\n"
   ]
  },
  {
   "cell_type": "markdown",
   "metadata": {},
   "source": [
    "2. 获取DataFrame的数据  \n",
    "   1. 通过类似字典标记的方式或属性的方式，可以将DataFrame的列获取为一个Series：\n",
    "   2. 通过通过位置或名称的方式进行获取行数据"
   ]
  },
  {
   "cell_type": "code",
   "execution_count": null,
   "metadata": {},
   "outputs": [],
   "source": [
    "import pandas as pd\n",
    "import numpy as np\n",
    "data = {'state': ['Ohio', 'Ohio', 'Ohio', 'Nevada', 'Nevada', 'Nevada'],\n",
    "        'year': [2000, 2001, 2002, 2001, 2002, 2003],\n",
    "        'pop': [1.5, 1.7, 3.6, 2.4, 2.9, 3.2]}\n",
    "frame = pd.DataFrame(data,columns=['year', 'state', 'pop','debt'],index=['one', 'two', 'three', 'four', 'five', 'six'])\n",
    "\n",
    "print(frame['state'])  #通过列名获取列\n",
    "print(\"---------\")\n",
    "print(frame.year)  #通过属性的方式获取列"
   ]
  },
  {
   "cell_type": "code",
   "execution_count": null,
   "metadata": {},
   "outputs": [],
   "source": [
    "import pandas as pd\n",
    "import numpy as np\n",
    "data = {'state': ['Ohio', 'Ohio', 'Ohio', 'Nevada', 'Nevada', 'Nevada'],\n",
    "        'year': [2000, 2001, 2002, 2001, 2002, 2003],\n",
    "        'pop': [1.5, 1.7, 3.6, 2.4, 2.9, 3.2]}\n",
    "frame = pd.DataFrame(data,columns=['year', 'state', 'pop','debt'],index=['one', 'two', 'three', 'four', 'five', 'six'])\n",
    "\n",
    "print(frame.loc['three'])  #通过行索引获取行  这里的three需要是行索引\n",
    "print(\"---------\")\n",
    "print(frame.iloc[2])  #通过行号获取行  这里的2需要是行号, 行号是从0开始"
   ]
  },
  {
   "cell_type": "markdown",
   "metadata": {},
   "source": [
    "3. DataFrame的值的修改"
   ]
  },
  {
   "cell_type": "code",
   "execution_count": null,
   "metadata": {},
   "outputs": [],
   "source": [
    "import pandas as pd\n",
    "import numpy as np\n",
    "data = {'state': ['Ohio', 'Ohio', 'Ohio', 'Nevada', 'Nevada', 'Nevada'],\n",
    "        'year': [2000, 2001, 2002, 2001, 2002, 2003],\n",
    "        'pop': [1.5, 1.7, 3.6, 2.4, 2.9, 3.2]}\n",
    "frame = pd.DataFrame(data,columns=['year', 'state', 'pop','debt'],index=['one', 'two', 'three', 'four', 'five', 'six'])\n",
    "frame2 = frame.copy()\n",
    "\n",
    "print(frame)\n",
    "print(\"---------\")\n",
    "frame.debt = 10  #通过赋值的方式修改列的值 ,传入单个值则所有值都会被设置为该值，传入数组则会被设置为数组的值\n",
    "print(frame)\n",
    "print(\"---------\")\n",
    "val = pd.Series([-1.2, -1.5, -1.7], index=['two', 'four', 'five'])  #传入Series则会根据索引对齐,又验证了Series的索引对齐\n",
    "frame2['debt'] = val\n",
    "print(frame2)"
   ]
  },
  {
   "cell_type": "code",
   "execution_count": null,
   "metadata": {},
   "outputs": [],
   "source": [
    "import pandas as pd\n",
    "import numpy as np\n",
    "data = {'state': ['Ohio', 'Ohio', 'Ohio', 'Nevada', 'Nevada', 'Nevada'],\n",
    "        'year': [2000, 2001, 2002, 2001, 2002, 2003],\n",
    "        'pop': [1.5, 1.7, 3.6, 2.4, 2.9, 3.2]}\n",
    "frame = pd.DataFrame(data,columns=['year', 'state', 'pop'],index=['one', 'two', 'three', 'four', 'five', 'six'])\n",
    "frame2 = frame.copy()\n",
    "\n",
    "frame['eastern'] = frame2.state == 'Ohio' #如果赋值的列不存在，则会创建一个新的列，这里添加了一个boolean列\n",
    "print(frame)                                #注意：不能用frame.eastern创建新的列。\n",
    "print(\"---------\")\n",
    "del frame['eastern'] #del方法 删除列\n",
    "print(frame)"
   ]
  },
  {
   "cell_type": "markdown",
   "metadata": {},
   "source": [
    "4. 对DataFrame的操作"
   ]
  },
  {
   "cell_type": "code",
   "execution_count": null,
   "metadata": {},
   "outputs": [],
   "source": [
    "#对DataFrame进行转置（交换行和列）：\n",
    "import pandas as pd\n",
    "import numpy as np\n",
    "\n",
    "pop = {'Nevada': {2001: 2.4, 2002: 2.9},\n",
    "        'Ohio': {2000: 1.5, 2001: 1.7, 2002: 3.6}}\n",
    "frame2 = pd.DataFrame(pop)\n",
    "\n",
    "print(frame2.T)  #转置,不是在原DataFrame上进行转置，而是返回一个新的DataFrame\n",
    "print(\"---------\")\n",
    "\n",
    "#设置DataFrame的名称和索引\n",
    "frame2.index.name = 'year'; frame2.columns.name = 'state'\n",
    "print(frame2)\n",
    "print(\"---------\")\n",
    "#values属性也会以二维ndarray的形式返回DataFrame中的数据\n",
    "print(frame2.values)"
   ]
  }
 ],
 "metadata": {
  "kernelspec": {
   "display_name": "Python 3",
   "language": "python",
   "name": "python3"
  },
  "language_info": {
   "codemirror_mode": {
    "name": "ipython",
    "version": 3
   },
   "file_extension": ".py",
   "mimetype": "text/x-python",
   "name": "python",
   "nbconvert_exporter": "python",
   "pygments_lexer": "ipython3",
   "version": "3.9.6"
  }
 },
 "nbformat": 4,
 "nbformat_minor": 2
}
