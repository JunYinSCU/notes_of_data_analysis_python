{
 "cells": [
  {
   "cell_type": "markdown",
   "metadata": {},
   "source": [
    "# pandas学习笔记"
   ]
  },
  {
   "cell_type": "markdown",
   "metadata": {},
   "source": [
    "## pandas数据结构\n",
    "### Series  \n",
    "1. Series是一种类似于一维数组的对象，它由一组数据（各种NumPy数据类型）以及一组与之相关的数据标签（即索引）组成  \n",
    "   即：数组+标签索引  \n",
    "   Series对象本身及其索引都有一个name属性,可以在任意时刻赋值定义"
   ]
  },
  {
   "cell_type": "code",
   "execution_count": null,
   "metadata": {},
   "outputs": [],
   "source": [
    "import pandas as pd\n",
    "import numpy as np\n",
    "obj = pd.Series([4, 7, -5, 3], index=['d', 'b', 'a', 'c'])\n",
    "print(obj)\n",
    "print(\"---------\")\n",
    "print(obj.values)  #分别用obj.values和obj.index来获取其数组表示形式和索引对象\n",
    "print(\"---------\")\n",
    "print(obj.index)\n",
    "print(\"---------\")\n",
    "obj.name = 'my_data'\n",
    "obj.index.name = 'my_index' #可以通过赋值obj.name和obj.index.name来为其指定一个名字。可以用rename方法来修改\n",
    "print(obj)  #若有名字，则会被显示出来"
   ]
  },
  {
   "cell_type": "markdown",
   "metadata": {},
   "source": [
    "2. Series的初始化\n",
    "   * 使用各种类型的python列表创建\n",
    "   * 使用numpy数组创建\n",
    "   * 使用字典创建"
   ]
  },
  {
   "cell_type": "code",
   "execution_count": null,
   "metadata": {},
   "outputs": [],
   "source": [
    "import pandas as pd\n",
    "import numpy as np\n",
    "#1.使用列表创建Series\n",
    "obj1 = pd.Series([4, 7, -5, 3], index=['d', 'b', 'a', 'c'])  #可以使用数组指定索引\n",
    "print(obj1)\n",
    "print(\"---------\")\n",
    "\n",
    "#2.使用numpy数组创建Series\n",
    "a = np.arange(1,10,2)\n",
    "obj2 = pd.Series(a)  #默认索引为0,1,2,3,4\n",
    "print(obj2)\n",
    "print(\"---------\")\n",
    "\n",
    "#3.使用字典创建Series\n",
    "dict = {'a':1,'b':2,'c':3,'d':4}\n",
    "obj3 = pd.Series(dict)  #默认索引为字典的键\n",
    "print(obj3)\n",
    "print(\"---------\")\n",
    "\n",
    "#4.使用字典创建Series，并指定索引\n",
    "dict = {'a':1,'b':2,'c':3,'d':4}\n",
    "index = ['b','c','d','e']           #指定索引时，只有指定的索引的值会出现在最终的Series中\n",
    "obj4 = pd.Series(dict,index=index)  #字典中没有的索引，其值为NaN\n",
    "print(obj4)"
   ]
  },
  {
   "cell_type": "markdown",
   "metadata": {},
   "source": [
    "3. 访问series元素\n",
    "   * 通过索引访问值 如obj['a'],obj[1]\n",
    "   * 也可以通过索引对值进行修改"
   ]
  },
  {
   "cell_type": "code",
   "execution_count": null,
   "metadata": {},
   "outputs": [],
   "source": [
    "import pandas as pd\n",
    "import numpy as np\n",
    "obj1 = pd.Series([4, 7, -5, 3], index=['d', 'b', 'a', 'c'])\n",
    "print(obj1['a'])\n",
    "print(\"---------\")\n",
    "print(obj1[['a','b','c']])\n",
    "print(\"---------\")\n",
    "obj1['a'] = 10  #通过索引修改值\n",
    "print(obj1['a'])"
   ]
  },
  {
   "cell_type": "markdown",
   "metadata": {},
   "source": [
    "* 可以通过对obj.index赋值，达成对索引的修改"
   ]
  },
  {
   "cell_type": "code",
   "execution_count": null,
   "metadata": {},
   "outputs": [],
   "source": [
    "import pandas as pd\n",
    "import numpy as np\n",
    "obj1 = pd.Series([4, 7, -5, 3], index=['d', 'b', 'a', 'c'])\n",
    "obj1.index = ['A','B','C','D']  #通过赋值的方式修改索引\n",
    "print(obj1)"
   ]
  },
  {
   "cell_type": "markdown",
   "metadata": {},
   "source": [
    "4. Series运算\n",
    "   * Series支持类似numpy的运算\n",
    "   * Series会根据运算的索引标签自动对齐数据"
   ]
  },
  {
   "cell_type": "code",
   "execution_count": null,
   "metadata": {},
   "outputs": [],
   "source": [
    "import pandas as pd\n",
    "import numpy as np\n",
    "obj1 = pd.Series([4, 7, -5, 3], index=['d', 'b', 'a', 'c'])\n",
    "\n",
    "a = np.arange(1,10,2)\n",
    "obj2 = pd.Series(a)\n",
    "\n",
    "dict = {'a':1,'b':2,'c':3,'d':4}\n",
    "obj3 = pd.Series(dict)\n",
    "\n",
    "print(obj1[obj1>0])  #通过布尔数组进行过滤\n",
    "print(\"---------\")\n",
    "\n",
    "print(obj2*2)  #Series支持按位运算\n",
    "print(\"---------\")\n",
    "\n",
    "print(np.exp(obj3))  #Series支持numpy的函数\n",
    "print(\"---------\")\n",
    "\n",
    "print('b' in obj3)  #类似字典，判断索引是否存在\n",
    "print('e' in obj3)\n",
    "\n"
   ]
  },
  {
   "cell_type": "code",
   "execution_count": null,
   "metadata": {},
   "outputs": [],
   "source": [
    "import pandas as pd\n",
    "import numpy as np\n",
    "\n",
    "dict = {'a':1,'b':2,'c':3,'d':4}\n",
    "index = ['b','c','d','e']\n",
    "obj4 = pd.Series(dict,index=index) \n",
    "print(obj4)\n",
    "print(\"---------\")\n",
    "\n",
    "print(pd.isnull(obj4))  #判断是否为空值\n",
    "print(\"---------\")\n",
    "\n",
    "print(pd.isna(obj4))  #判断是否为NaN\n",
    "print(obj4.isna())  #或者直接使用Series的isna方法，上述及其他函数都可以这样使用"
   ]
  },
  {
   "cell_type": "code",
   "execution_count": null,
   "metadata": {},
   "outputs": [],
   "source": [
    "import pandas as pd\n",
    "import numpy as np\n",
    "obj1 = pd.Series([4, 7, -5, 3], index=['a', 'b', 'c', 'd'])\n",
    "obj2 = pd.Series([0, -3, 7, 4], index=['b', 'a', 'c', 'e'])\n",
    "print(obj1+obj2)  #索引不同的Series相加，相同索引的值相加，不同索引的值为NaN,无论索引顺序如何都会自动对齐，类似于数据库的join操作"
   ]
  },
  {
   "cell_type": "markdown",
   "metadata": {},
   "source": [
    "### DataFrame\n",
    "DataFrame是一个表格型的数据结构，它含有一组有序的列，每列可以是不同的值类型（数值、字符串、布尔值等）。  \n",
    "DataFrame既有行索引也有列索引，它可以被看做由Series组成的字典（共用同一个索引）"
   ]
  },
  {
   "cell_type": "markdown",
   "metadata": {},
   "source": [
    "1. DataFrame的初始化\n",
    "   * 传入一个由等长列表或NumPy数组组成的字典\n",
    "   * 传入一个嵌套字典"
   ]
  },
  {
   "cell_type": "code",
   "execution_count": null,
   "metadata": {},
   "outputs": [],
   "source": [
    "#初始化方法一：传入一个由等长列表或NumPy数组组成的字典\n",
    "import pandas as pd\n",
    "import numpy as np\n",
    "#键为标签，值为Series或者其他数组，这个Series和数组可以是不同数据类型的，但长度必须相同\n",
    "data = {'state': ['Ohio', 'Ohio', 'Ohio', 'Nevada', 'Nevada', 'Nevada'],\n",
    "        'year': [2000, 2001, 2002, 2001, 2002, 2003],\n",
    "        'pop': [1.5, 1.7, 3.6, 2.4, 2.9, 3.2]}\n",
    "frame = pd.DataFrame(data)\n",
    "print(frame)\n",
    "\n",
    "#在结果中，每一列的名称即为字典的键（也就是Series的索引/标签），每一行的索引是从0开始的整数，可以通过index参数来指定索引"
   ]
  },
  {
   "cell_type": "code",
   "execution_count": null,
   "metadata": {},
   "outputs": [],
   "source": [
    "#初始化方法二：传入一个嵌套字典\n",
    "import pandas as pd\n",
    "import numpy as np\n",
    "\n",
    "pop = {'Nevada': {2001: 2.4, 2002: 2.9},\n",
    "        'Ohio': {2000: 1.5, 2001: 1.7, 2002: 3.6}}\n",
    "frame2 = pd.DataFrame(pop)  #如果嵌套字典传给DataFrame，pandas就会被解释为：外层字典的键作为列，内层键则作为行索引：\n",
    "print(frame2)"
   ]
  },
  {
   "cell_type": "markdown",
   "metadata": {},
   "source": [
    "* 对于特别大的DataFrame，可以用head方法查看前五行"
   ]
  },
  {
   "cell_type": "code",
   "execution_count": null,
   "metadata": {},
   "outputs": [],
   "source": [
    "import pandas as pd\n",
    "import numpy as np\n",
    "data = {'state': ['Ohio', 'Ohio', 'Ohio', 'Nevada', 'Nevada', 'Nevada'],\n",
    "        'year': [2000, 2001, 2002, 2001, 2002, 2003],\n",
    "        'pop': [1.5, 1.7, 3.6, 2.4, 2.9, 3.2]}\n",
    "frame = pd.DataFrame(data)\n",
    "print(frame.head())"
   ]
  },
  {
   "cell_type": "markdown",
   "metadata": {},
   "source": [
    "* 如果指定了列序列，则DataFrame的列就会按照指定顺序进行排列："
   ]
  },
  {
   "cell_type": "code",
   "execution_count": null,
   "metadata": {},
   "outputs": [],
   "source": [
    "import pandas as pd\n",
    "import numpy as np\n",
    "data = {'state': ['Ohio', 'Ohio', 'Ohio', 'Nevada', 'Nevada', 'Nevada'],\n",
    "        'year': [2000, 2001, 2002, 2001, 2002, 2003],\n",
    "        'pop': [1.5, 1.7, 3.6, 2.4, 2.9, 3.2]}\n",
    "frame = pd.DataFrame(data,columns=['year', 'state', 'pop'])\n",
    "print(frame)"
   ]
  },
  {
   "cell_type": "markdown",
   "metadata": {},
   "source": [
    "* 默认索引是从0开始，可以对索引进行指定\n",
    "* 同时，如果传入的列在数据中找不到，就会在结果中产生缺失值："
   ]
  },
  {
   "cell_type": "code",
   "execution_count": null,
   "metadata": {},
   "outputs": [],
   "source": [
    "import pandas as pd\n",
    "import numpy as np\n",
    "data = {'state': ['Ohio', 'Ohio', 'Ohio', 'Nevada', 'Nevada', 'Nevada'],\n",
    "        'year': [2000, 2001, 2002, 2001, 2002, 2003],\n",
    "        'pop': [1.5, 1.7, 3.6, 2.4, 2.9, 3.2]}\n",
    "frame = pd.DataFrame(data,columns=['year', 'state', 'pop','debt'],index=['one', 'two', 'three', 'four', 'five', 'six'])\n",
    "print(frame)\n",
    "print(\"---------\")\n",
    "frame.index = ['first', 'second', 'third', 'fourth', 'fifth', 'sixth']  #通过赋值的方式修改索引\n",
    "print(frame)\n"
   ]
  },
  {
   "cell_type": "markdown",
   "metadata": {},
   "source": [
    "2. 获取DataFrame的数据  \n",
    "   1. 通过类似字典标记的方式或属性的方式，可以将DataFrame的列获取为一个Series：\n",
    "   2. 通过通过位置或名称的方式进行获取行数据"
   ]
  },
  {
   "cell_type": "code",
   "execution_count": null,
   "metadata": {},
   "outputs": [],
   "source": [
    "import pandas as pd\n",
    "import numpy as np\n",
    "data = {'state': ['Ohio', 'Ohio', 'Ohio', 'Nevada', 'Nevada', 'Nevada'],\n",
    "        'year': [2000, 2001, 2002, 2001, 2002, 2003],\n",
    "        'pop': [1.5, 1.7, 3.6, 2.4, 2.9, 3.2]}\n",
    "frame = pd.DataFrame(data,columns=['year', 'state', 'pop','debt'],index=['one', 'two', 'three', 'four', 'five', 'six'])\n",
    "\n",
    "print(frame['state'])  #通过列名获取列\n",
    "print(\"---------\")\n",
    "print(frame.year)  #通过属性的方式获取列"
   ]
  },
  {
   "cell_type": "code",
   "execution_count": null,
   "metadata": {},
   "outputs": [],
   "source": [
    "import pandas as pd\n",
    "import numpy as np\n",
    "data = {'state': ['Ohio', 'Ohio', 'Ohio', 'Nevada', 'Nevada', 'Nevada'],\n",
    "        'year': [2000, 2001, 2002, 2001, 2002, 2003],\n",
    "        'pop': [1.5, 1.7, 3.6, 2.4, 2.9, 3.2]}\n",
    "frame = pd.DataFrame(data,columns=['year', 'state', 'pop','debt'],index=['one', 'two', 'three', 'four', 'five', 'six'])\n",
    "\n",
    "print(frame.loc['three'])  #通过行索引获取行  这里的three需要是行索引\n",
    "print(\"---------\")\n",
    "print(frame.iloc[2])  #通过行号获取行  这里的2需要是行号, 行号是从0开始"
   ]
  },
  {
   "cell_type": "markdown",
   "metadata": {},
   "source": [
    "3. DataFrame的值的修改"
   ]
  },
  {
   "cell_type": "code",
   "execution_count": null,
   "metadata": {},
   "outputs": [],
   "source": [
    "import pandas as pd\n",
    "import numpy as np\n",
    "data = {'state': ['Ohio', 'Ohio', 'Ohio', 'Nevada', 'Nevada', 'Nevada'],\n",
    "        'year': [2000, 2001, 2002, 2001, 2002, 2003],\n",
    "        'pop': [1.5, 1.7, 3.6, 2.4, 2.9, 3.2]}\n",
    "frame = pd.DataFrame(data,columns=['year', 'state', 'pop','debt'],index=['one', 'two', 'three', 'four', 'five', 'six'])\n",
    "frame2 = frame.copy()\n",
    "\n",
    "print(frame)\n",
    "print(\"---------\")\n",
    "frame.debt = 10  #通过赋值的方式修改列的值 ,传入单个值则所有值都会被设置为该值，传入数组则会被设置为数组的值\n",
    "print(frame)\n",
    "print(\"---------\")\n",
    "val = pd.Series([-1.2, -1.5, -1.7], index=['two', 'four', 'five'])  #传入Series则会根据索引对齐,又验证了Series的索引对齐\n",
    "frame2['debt'] = val\n",
    "print(frame2)"
   ]
  },
  {
   "cell_type": "code",
   "execution_count": null,
   "metadata": {},
   "outputs": [],
   "source": [
    "import pandas as pd\n",
    "import numpy as np\n",
    "data = {'state': ['Ohio', 'Ohio', 'Ohio', 'Nevada', 'Nevada', 'Nevada'],\n",
    "        'year': [2000, 2001, 2002, 2001, 2002, 2003],\n",
    "        'pop': [1.5, 1.7, 3.6, 2.4, 2.9, 3.2]}\n",
    "frame = pd.DataFrame(data,columns=['year', 'state', 'pop'],index=['one', 'two', 'three', 'four', 'five', 'six'])\n",
    "frame2 = frame.copy()\n",
    "\n",
    "frame['eastern'] = frame2.state == 'Ohio' #如果赋值的列不存在，则会创建一个新的列，这里添加了一个boolean列\n",
    "print(frame)                                #注意：不能用frame.eastern创建新的列。\n",
    "print(\"---------\")\n",
    "del frame['eastern'] #del方法 删除列\n",
    "print(frame)"
   ]
  },
  {
   "cell_type": "markdown",
   "metadata": {},
   "source": [
    "4. 对DataFrame的操作"
   ]
  },
  {
   "cell_type": "code",
   "execution_count": null,
   "metadata": {},
   "outputs": [],
   "source": [
    "#对DataFrame进行转置（交换行和列）：\n",
    "import pandas as pd\n",
    "import numpy as np\n",
    "\n",
    "pop = {'Nevada': {2001: 2.4, 2002: 2.9},\n",
    "        'Ohio': {2000: 1.5, 2001: 1.7, 2002: 3.6}}\n",
    "frame2 = pd.DataFrame(pop)\n",
    "\n",
    "print(frame2.T)  #转置,不是在原DataFrame上进行转置，而是返回一个新的DataFrame\n",
    "print(\"---------\")\n",
    "\n",
    "#设置DataFrame的名称和索引\n",
    "frame2.index.name = 'year'; frame2.columns.name = 'state'\n",
    "print(frame2)\n",
    "print(\"---------\")\n",
    "#values属性也会以二维ndarray的形式返回DataFrame中的数据\n",
    "print(frame2.values)"
   ]
  },
  {
   "cell_type": "markdown",
   "metadata": {},
   "source": [
    "## pandas基本功能\n",
    "\n",
    "### 重新索引\n",
    "* pandas对象的一个重要方法是reindex，其作用是创建一个**新对象**，它的数据符合新的索引"
   ]
  },
  {
   "cell_type": "code",
   "execution_count": null,
   "metadata": {},
   "outputs": [],
   "source": [
    "import pandas as pd\n",
    "import numpy as np\n",
    "obj = pd.Series([4, 7, -5, 3], index=['d', 'b', 'a', 'c'])\n",
    "print(obj)\n",
    "print(\"---------\")\n",
    "obj2 = obj.reindex(['a', 'b', 'c', 'd','e'])  #reindex方法，重新索引，如果某个索引值当前不存在，就引入缺失值\n",
    "print(obj2)"
   ]
  },
  {
   "cell_type": "markdown",
   "metadata": {},
   "source": [
    "* 对于像时间序列这样的有序数据，重索引时可能需要插值处理。\n",
    "* 在method选项中，填入ffill即可完成前向插入"
   ]
  },
  {
   "cell_type": "code",
   "execution_count": null,
   "metadata": {},
   "outputs": [],
   "source": [
    "import pandas as pd\n",
    "import numpy as np\n",
    "\n",
    "obj3 = pd.Series(['blue', 'purple', 'yellow'], index=[0, 2, 4])\n",
    "print(obj3)\n",
    "print(\"---------\")\n",
    "obj4 = obj3.reindex(range(6), method='ffill')  #method选项可以指定填充方法，ffill表示前向填充,即：缺失值用前一个非缺失值填充\n",
    "print(obj4)"
   ]
  },
  {
   "cell_type": "markdown",
   "metadata": {},
   "source": [
    "* 对于DataFrame，reindex也可修改行索引和列名"
   ]
  },
  {
   "cell_type": "code",
   "execution_count": null,
   "metadata": {},
   "outputs": [],
   "source": [
    "import pandas as pd\n",
    "import numpy as np\n",
    "\n",
    "frame = pd.DataFrame(np.arange(9).reshape((3, 3)),\n",
    "                    index=['a', 'c', 'd'],\n",
    "                    columns=['Ohio', 'Texas', 'California'])\n",
    "print(frame)\n",
    "print(\"---------\")\n",
    "frame2 = frame.reindex(['a', 'b', 'c', 'd'])  #reindex方法可以重新索引行或列，如果只传入一个序列，则重新索引行\n",
    "print(frame2)\n",
    "print(\"---------\")\n",
    "states = ['Texas', 'Utah', 'California']\n",
    "frame3 = frame.reindex(columns=states)  #如果使用columns关键字，则重新索引列,\n",
    "print(frame3)"
   ]
  },
  {
   "cell_type": "markdown",
   "metadata": {},
   "source": [
    "* reindex其他常见关键字参数\n",
    "  * index:用作新索引\n",
    "  * method:插值方法\n",
    "  * fill_value:重索引，引入的缺失值\n",
    "  * limit：前向或者后向填充的最大填充量\n",
    "  * copy：默认为true，返回新的对象，false则在原对象上进行重索引"
   ]
  },
  {
   "cell_type": "markdown",
   "metadata": {},
   "source": [
    "### 丢弃指定轴上的数据\n",
    "* drop方法返回的是一个在指定轴上删除了指定值的新对象"
   ]
  },
  {
   "cell_type": "code",
   "execution_count": null,
   "metadata": {},
   "outputs": [],
   "source": [
    "import pandas as pd\n",
    "import numpy as np\n",
    "\n",
    "obj = pd.Series(np.arange(5.), index=['a', 'b', 'c', 'd', 'e'])\n",
    "print(obj)\n",
    "print(\"---------\")\n",
    "new_obj = obj.drop('c')  #drop方法返回一个在指定轴上删除了指定值的新对象\n",
    "print(new_obj)\n",
    "print(\"---------\")\n",
    "new_obj2 = obj.drop(['d', 'c'])  #传入一个列表可以删除多个轴\n",
    "print(new_obj2)\n"
   ]
  },
  {
   "cell_type": "code",
   "execution_count": null,
   "metadata": {},
   "outputs": [],
   "source": [
    "import pandas as pd\n",
    "import numpy as np\n",
    "\n",
    "data = pd.DataFrame(np.arange(16).reshape((4, 4)),\n",
    "                    index=['Ohio', 'Colorado', 'Utah', 'New York'],\n",
    "                    columns=['one', 'two', 'three', 'four'])\n",
    "print(data)\n",
    "print(\"---------\")\n",
    "data2 = data.drop(['Colorado', 'Ohio'])  #传入行名删除行\n",
    "print(data2)\n",
    "print(\"---------\")\n",
    "data3 = data.drop('two', axis=1)  #传入axis=列索引，需要索引和列名称对应\n",
    "print(data3)\n",
    "print(\"---------\")\n",
    "data4 = data.drop(['two', 'four'], axis='columns')  #axis关键字可以指定删除行还是列,columns或者列索引都可以\n",
    "print(data4)"
   ]
  },
  {
   "cell_type": "markdown",
   "metadata": {},
   "source": [
    "* 如果需要原地修改，可以使用inplace关键字"
   ]
  },
  {
   "cell_type": "code",
   "execution_count": null,
   "metadata": {},
   "outputs": [],
   "source": [
    "import pandas as pd\n",
    "import numpy as np\n",
    "\n",
    "obj = pd.Series(np.arange(4.), index=['a', 'b', 'c', 'd'])\n",
    "print(obj)\n",
    "print(\"---------\")\n",
    "obj.drop('c',inplace=True)  #inplace=True可以直接在原对象上操作\n",
    "print(obj)"
   ]
  },
  {
   "cell_type": "markdown",
   "metadata": {},
   "source": [
    "### 索引\n",
    "1. 对Series进行索引"
   ]
  },
  {
   "cell_type": "code",
   "execution_count": null,
   "metadata": {},
   "outputs": [],
   "source": [
    "import pandas as pd\n",
    "import numpy as np\n",
    "obj = pd.Series(np.arange(4), index=['a', 'b', 'c', 'd'])\n",
    "print(obj)\n",
    "print(\"---------\")\n",
    "print(obj['b'])     #索引既可以是标签也可以是位置，也可以是python切片\n",
    "print(\"---------\")\n",
    "print(obj.iloc[1])\n",
    "print(\"---------\")\n",
    "print(obj[2:4])"
   ]
  },
  {
   "cell_type": "markdown",
   "metadata": {},
   "source": [
    "* 可以对标签进行切片，但与python切片不同，标签切片包含末端"
   ]
  },
  {
   "cell_type": "code",
   "execution_count": null,
   "metadata": {},
   "outputs": [],
   "source": [
    "import pandas as pd\n",
    "import numpy as np\n",
    "\n",
    "obj = pd.Series(np.arange(4), index=['a', 'b', 'c', 'd'])\n",
    "print(obj['b':'c'])  #标签切片包含末端"
   ]
  },
  {
   "cell_type": "markdown",
   "metadata": {},
   "source": [
    "2. 对DataFrame进行索引\n",
    "   * 对DataFrame进行标签索引其实就是在获取列（series对象）"
   ]
  },
  {
   "cell_type": "code",
   "execution_count": null,
   "metadata": {},
   "outputs": [],
   "source": [
    "import pandas as pd\n",
    "import numpy as np\n",
    "data = pd.DataFrame(np.arange(16).reshape((4, 4)),\n",
    "                    index=['Ohio', 'Colorado', 'Utah', 'New York'],\n",
    "                    columns=['one', 'two', 'three', 'four'])\n",
    "print(data)\n",
    "print(\"---------\")\n",
    "print(data['two'])  #获取列\n",
    "print(\"---------\")\n",
    "print(data[['three', 'one']])\n",
    "print(\"---------\")\n",
    "print(isinstance(data['two'],pd.Series))  #获取列是Series类型"
   ]
  },
  {
   "cell_type": "markdown",
   "metadata": {},
   "source": [
    "* 对DataFrame选取行"
   ]
  },
  {
   "cell_type": "code",
   "execution_count": null,
   "metadata": {},
   "outputs": [],
   "source": [
    "import pandas as pd\n",
    "import numpy as np\n",
    "data = pd.DataFrame(np.arange(16).reshape((4, 4)),\n",
    "                    index=['Ohio', 'Colorado', 'Utah', 'New York'],\n",
    "                    columns=['one', 'two', 'three', 'four'])\n",
    "print(data)\n",
    "print(\"---------\")\n",
    "print(data[:2])  #获取行"
   ]
  },
  {
   "cell_type": "markdown",
   "metadata": {},
   "source": [
    "* 布尔类型索引"
   ]
  },
  {
   "cell_type": "code",
   "execution_count": null,
   "metadata": {},
   "outputs": [],
   "source": [
    "import pandas as pd\n",
    "import numpy as np\n",
    "data = pd.DataFrame(np.arange(16).reshape((4, 4)),\n",
    "                    index=['Ohio', 'Colorado', 'Utah', 'New York'],\n",
    "                    columns=['one', 'two', 'three', 'four'])\n",
    "print(data)\n",
    "print(\"---------\")\n",
    "print(data[data['three'] > 5])  #布尔索引"
   ]
  },
  {
   "cell_type": "markdown",
   "metadata": {},
   "source": [
    "### 用loc和iloc进行选取行\n",
    "* 用loc时用标签进行索引\n",
    "* 用iloc和整数进行选取"
   ]
  },
  {
   "cell_type": "code",
   "execution_count": null,
   "metadata": {},
   "outputs": [],
   "source": [
    "import pandas as pd\n",
    "import numpy as np\n",
    "data = pd.DataFrame(np.arange(16).reshape((4, 4)),\n",
    "                    index=['Ohio', 'Colorado', 'Utah', 'New York'],\n",
    "                    columns=['one', 'two', 'three', 'four'])\n",
    "print(data)\n",
    "print(\"---------\")\n",
    "\n",
    "print(data.loc['Colorado', ['two', 'three']])\n",
    "print(\"---------\")\n",
    "print(data.iloc[[1,2]]) #获取多行\n",
    "print(\"---------\")\n",
    "print(data.iloc[[1,2], [1,2]]) #获取多行多列,或者一行多列\n",
    "print(\"---------\")\n",
    "print(f\"单个元素:{data.iloc[1,2]}\") #获取单个元素\n",
    "print(f\"单个元素：{data.at['Colorado','three']}\")  #at方法获取单个元素\n",
    "print(f\"单个元素：{data.iat[1,2]}\")  #iat方法获取单个元素"
   ]
  },
  {
   "cell_type": "markdown",
   "metadata": {},
   "source": [
    "### 算术运算和数据对齐\n",
    "* series进行相加时，会自动对齐标签\n",
    "* 自动的数据对齐操作在不重叠的索引处引入了NA值。缺失值会在算术运算过程中传播。"
   ]
  },
  {
   "cell_type": "code",
   "execution_count": null,
   "metadata": {},
   "outputs": [],
   "source": [
    "import pandas as pd\n",
    "import numpy as np\n",
    "s1 = pd.Series([7.3, -2.5, 3.4, 1.5], index=['a', 'c', 'd', 'e'])\n",
    "s2 = pd.Series([-2.1, 3.6, -1.5, 4, 3.1], index=['a', 'c', 'e', 'f', 'g'])\n",
    "print(s1+s2)"
   ]
  },
  {
   "cell_type": "markdown",
   "metadata": {},
   "source": [
    "* 对于DataFrame，对齐操作会同时发生在行和列上\n",
    "* 把它们相加后将会返回一个新的DataFrame，其索引和列为原来那两个DataFrame的并集"
   ]
  },
  {
   "cell_type": "code",
   "execution_count": null,
   "metadata": {},
   "outputs": [],
   "source": [
    "import pandas as pd\n",
    "import numpy as np\n",
    "df1 = pd.DataFrame(np.arange(9.).reshape((3, 3)), columns=list('bcd'),\n",
    "                    index=['Ohio', 'Texas', 'Colorado'])\n",
    "df2 = pd.DataFrame(np.arange(12.).reshape((4, 3)), columns=list('bde'),\n",
    "                    index=['Utah', 'Ohio', 'Texas', 'Oregon'])\n",
    "\n",
    "print(df1+df2)  #DataFrame相加，没有重叠的位置就会产生NA值\n"
   ]
  },
  {
   "cell_type": "markdown",
   "metadata": {},
   "source": [
    "* 使用add方法，可以设置相加时遇到缺失值的填充值"
   ]
  },
  {
   "cell_type": "code",
   "execution_count": null,
   "metadata": {},
   "outputs": [],
   "source": [
    "import pandas as pd\n",
    "import numpy as np\n",
    "df1 = pd.DataFrame(np.arange(9.).reshape((3, 3)), columns=list('bcd'),\n",
    "                    index=['Ohio', 'Texas', 'Colorado'])\n",
    "df2 = pd.DataFrame(np.arange(12.).reshape((4, 3)), columns=list('bde'),\n",
    "                    index=['Utah', 'Ohio', 'Texas', 'Oregon'])\n",
    "\n",
    "df1.add(df2, fill_value=0)  #使用add方法，fill_value参数可以指定填充值"
   ]
  },
  {
   "cell_type": "markdown",
   "metadata": {},
   "source": [
    "* 其他方法：(以字母r开头，它会翻转参数；如：r1.sub(r2) = r1 - r2; r1.rsub(r2) = r2 - r1)\n",
    "  * add,radd\n",
    "  * sub,rsub\n",
    "  * div,rdiv\n",
    "  * floordiv,rfloordiv\n",
    "  * mul,rmul\n",
    "  * pow,rpow"
   ]
  },
  {
   "cell_type": "markdown",
   "metadata": {},
   "source": [
    "### DataFrame和Series 的运算\n",
    "* DataFrame和Series 的运算会进行广播操作，即对每一行都会应用相关运算"
   ]
  },
  {
   "cell_type": "code",
   "execution_count": null,
   "metadata": {},
   "outputs": [],
   "source": [
    "import pandas as pd\n",
    "import numpy as np\n",
    "frame = pd.DataFrame(np.arange(12.).reshape((4, 3)),\n",
    "                    columns=list('bde'),\n",
    "                    index=['Utah', 'Ohio', 'Texas', 'Oregon'])\n",
    "series = frame.iloc[0]\n",
    "print(frame - series)  #DataFrame和Series相减，会广播到每一行\n",
    "\n",
    "print(\"--------------------\")\n",
    "series2 = pd.Series(range(3), index=['b', 'e', 'f'])\n",
    "print(frame + series2)  #如果一个索引值在DataFrame的列或Series的索引找不到，则参与运算的两个对象就会被重新索引以形成并集"
   ]
  },
  {
   "cell_type": "markdown",
   "metadata": {},
   "source": [
    "* 如果想要在列上广播，需要使用算数运算方法"
   ]
  },
  {
   "cell_type": "code",
   "execution_count": null,
   "metadata": {},
   "outputs": [],
   "source": [
    "import pandas as pd\n",
    "import numpy as np\n",
    "frame = pd.DataFrame(np.arange(12).reshape((4, 3)),\n",
    "                    columns=list('bde'),\n",
    "                    index=['Utah', 'Ohio', 'Texas', 'Oregon'])\n",
    "s3 = frame['d']\n",
    "print(frame.sub(s3, axis=0) ) #sub方法，指定轴，按行广播"
   ]
  },
  {
   "cell_type": "markdown",
   "metadata": {},
   "source": [
    "### 函数应用\n",
    "* NumPy的ufuncs（元素级数组方法）也可用于操作pandas对象："
   ]
  },
  {
   "cell_type": "code",
   "execution_count": null,
   "metadata": {},
   "outputs": [],
   "source": [
    "import pandas as pd\n",
    "import numpy as np\n",
    "frame = pd.DataFrame(np.random.randn(4, 3), columns=list('bde'),\n",
    "                    index=['Utah', 'Ohio', 'Texas', 'Oregon'])\n",
    "print(frame)\n",
    "print(\"---------\")\n",
    "print(np.abs(frame))  #numpy的ufunc函数也可以用于DataFrame\n"
   ]
  },
  {
   "cell_type": "markdown",
   "metadata": {},
   "source": [
    "### 排序\n",
    "* 用sort_index方法对标签或者列进行排序\n",
    "* 用sort_values方法对值进行排序\n",
    "* 在排序时，任何缺失值默认都会被放到Series的末尾："
   ]
  },
  {
   "cell_type": "code",
   "execution_count": null,
   "metadata": {},
   "outputs": [],
   "source": [
    "import pandas as pd\n",
    "import numpy as np\n",
    "obj = pd.Series(range(4), index=['d', 'a', 'b', 'c'])\n",
    "\n",
    "obj2 = obj.sort_index()  #sort_index方法，按索引排序\n",
    "print(obj2)\n",
    "print(\"---------\")\n",
    "frame = pd.DataFrame(np.arange(8).reshape((2, 4)), index=['three', 'one'],\n",
    "                    columns=['d', 'a', 'b', 'c'])\n",
    "frame2 = frame.sort_index()  #DataFrame按行或列排序\n",
    "print(frame2)\n",
    "print(\"---------\")\n",
    "frame3 = frame.sort_index(axis=1) #axis关键字，指定按列排序\n",
    "print(frame3)"
   ]
  },
  {
   "cell_type": "markdown",
   "metadata": {},
   "source": [
    "* 对Series的值排序"
   ]
  },
  {
   "cell_type": "code",
   "execution_count": null,
   "metadata": {},
   "outputs": [],
   "source": [
    "import pandas as pd\n",
    "import numpy as np\n",
    "obj = pd.Series([4, 7, -3, 2])\n",
    "print(obj.sort_values())  #sort_values方法，按值排序"
   ]
  },
  {
   "cell_type": "markdown",
   "metadata": {},
   "source": [
    "* 对DataFrame的值排序\n",
    "* 当排序一个DataFrame时，你可能希望根据一个或多个列中的值进行排序。将一个或多个列的名字传递给sort_values的by选项即可达到该目的"
   ]
  },
  {
   "cell_type": "code",
   "execution_count": null,
   "metadata": {},
   "outputs": [],
   "source": [
    "import pandas as pd\n",
    "import numpy as np\n",
    "frame = pd.DataFrame({'b': [4, 7, -3, 2], 'a': [0, 1, 0, 1]})\n",
    "print(frame.sort_values(by=['a', 'b'])) #同时对多个列排序，优先对第一个列排序，如果相同则再以下一个列的值排序"
   ]
  },
  {
   "cell_type": "markdown",
   "metadata": {},
   "source": [
    "## 汇总和计算描述统计"
   ]
  },
  {
   "cell_type": "markdown",
   "metadata": {},
   "source": [
    "### 计算方法\n",
    "* 调用DataFrame的sum方法将会返回一个含有列的和的Series："
   ]
  },
  {
   "cell_type": "code",
   "execution_count": null,
   "metadata": {},
   "outputs": [],
   "source": [
    "import pandas as pd\n",
    "import numpy as np\n",
    "df = pd.DataFrame([[1.4, np.nan], [7.1, -4.5],\n",
    "                [np.nan, np.nan], [0.75, -1.3]],\n",
    "                index=['a', 'b', 'c', 'd'],\n",
    "                columns=['one', 'two'])\n",
    "print(df)\n",
    "print(\"---------\")\n",
    "print(df.sum())"
   ]
  },
  {
   "cell_type": "markdown",
   "metadata": {},
   "source": [
    "* 传入axis='columns'或axis=1将会按行进行求和运算："
   ]
  },
  {
   "cell_type": "code",
   "execution_count": null,
   "metadata": {},
   "outputs": [],
   "source": [
    "import pandas as pd\n",
    "import numpy as np\n",
    "df = pd.DataFrame([[1.4, np.nan], [7.1, -4.5],\n",
    "                [np.nan, np.nan], [0.75, -1.3]],\n",
    "                index=['a', 'b', 'c', 'd'],\n",
    "                columns=['one', 'two'])\n",
    "print(df)\n",
    "print(\"---------\")\n",
    "df.sum(axis=1)"
   ]
  }
 ],
 "metadata": {
  "kernelspec": {
   "display_name": "Python 3",
   "language": "python",
   "name": "python3"
  },
  "language_info": {
   "codemirror_mode": {
    "name": "ipython",
    "version": 3
   },
   "file_extension": ".py",
   "mimetype": "text/x-python",
   "name": "python",
   "nbconvert_exporter": "python",
   "pygments_lexer": "ipython3",
   "version": "3.9.6"
  }
 },
 "nbformat": 4,
 "nbformat_minor": 2
}
