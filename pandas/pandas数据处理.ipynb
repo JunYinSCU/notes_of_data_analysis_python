{
 "cells": [
  {
   "cell_type": "markdown",
   "metadata": {},
   "source": [
    "# pandas数据处理\n",
    "\n",
    "## 读取文本数据\n",
    "\n",
    "1. read_csv()和read_table函数可以从文件、url、文件型对象中获取数据转为DataFrame对象；\n",
    "   * read_csv()默认分隔符为,    read_table()默认分隔符为\\t"
   ]
  },
  {
   "cell_type": "code",
   "execution_count": null,
   "metadata": {},
   "outputs": [],
   "source": [
    "import pandas as pd\n",
    "df = pd.read_csv('examples/ex1.csv')\n",
    "print(df)"
   ]
  },
  {
   "cell_type": "markdown",
   "metadata": {},
   "source": [
    "2. read_csv和read_table函数中常用关键参数\n",
    "   * sep或者delimiter：分隔符或者正则表达式\n",
    "   * header:用作列名的行号，默认为0（即第一行），如果没有header，应该设置为None"
   ]
  },
  {
   "cell_type": "code",
   "execution_count": null,
   "metadata": {},
   "outputs": [],
   "source": [
    "# sep参数示例\n",
    "import pandas as pd\n",
    "df = pd.read_table('examples/ex1.csv',sep = ',')\n",
    "print(df)\n",
    "print(\"--\" * 10)\n",
    "df = pd.read_table('examples/ex2.csv',delimiter='\\s+')  # 使用正则表达式匹配分隔符\n",
    "print(df)\n",
    "print(\"--\" * 10)\n",
    "# header参数示例\n",
    "df = pd.read_csv('examples/ex1.csv', header=0)  # 第一行作为表头\n",
    "print(df)\n",
    "print(\"--\" * 10)\n",
    "df = pd.read_csv('examples/ex3.csv', header=None)  # 没有表头,使用默认的整数索引作为列名\n",
    "print(df)"
   ]
  },
  {
   "cell_type": "markdown",
   "metadata": {},
   "source": [
    "2. 关键参数\n",
    "   * names :结合header = None，配置列名，也可修改原有列名\n",
    "   * index_col:用作行索引的列编号或者列名，可以是单个数字/名称或列表，如果是列表则为层次索引"
   ]
  },
  {
   "cell_type": "code",
   "execution_count": null,
   "metadata": {},
   "outputs": [],
   "source": [
    "import pandas as pd\n",
    "\n",
    "#names参数示例\n",
    "names = ['A', 'B', 'C', 'D', 'Message'] # 自定义列名\n",
    "df = pd.read_csv('examples/ex3.csv', header=None,names=names)  # 没有表头,使用自定义的列名\n",
    "print(df)\n",
    "print(\"--\" * 10)\n",
    "df = pd.read_csv('examples/ex1.csv', names=names)  # 使用默认的列名\n",
    "print(df)  # 此时会覆盖原有的表头\n",
    "print(\"--\" * 10)\n",
    "\n",
    "#index_col参数示例\n",
    "df = pd.read_csv('examples/ex3.csv', names=names, index_col='Message')\n",
    "print(df)   #此时Message列已经变成了索引，Message成为了索引名\n",
    "print(\"--\" * 10)\n",
    "#层次化索引\n",
    "df = pd.read_csv('examples/ex4.csv', index_col=[0, 1])  # 使用多列作为索引\n",
    "print(df)  # 此时第一列和第二列已经变成了索引"
   ]
  },
  {
   "cell_type": "markdown",
   "metadata": {},
   "source": [
    "2. 关键参数\n",
    "   * skiprows:需要忽略的行数\n",
    "   * na_values:用于指定哪些字符串应该被识别为缺失值"
   ]
  },
  {
   "cell_type": "code",
   "execution_count": null,
   "metadata": {},
   "outputs": [],
   "source": [
    "import pandas as pd\n",
    "# skiprows参数示例\n",
    "# 跳过前3行\n",
    "df = pd.read_csv('examples/ex5.csv', skiprows=[0, 2, 3])  # 跳过第0,2，3行 \n",
    "print(df)\n",
    "print(\"--\" * 10)\n",
    "\n",
    "#na_values参数示例\n",
    "df = pd.read_csv('examples/ex6.csv') # 默认会将空字符串、'NA'、'NaN'等识别为缺失值，以NaN显示\n",
    "print(df)\n",
    "print(\"--\" * 10)\n",
    "\n",
    "result = pd.read_csv('examples/ex6.csv',na_values=['one'])\n",
    "print(result)  # 除默认的外，将'one'也识别为缺失值\n",
    "print(\"--\" * 10)\n",
    "\n",
    "sentinels = {'message': ['foo', 'NA'], 'something': ['two']}\n",
    "# 使用字典指定不同列的缺失值\n",
    "result = pd.read_csv('examples/ex6.csv', na_values=sentinels)\n",
    "print(result)  # 除默认的外，将message列中的'foo'和'NA'，something列中的'two'也识别为缺失值"
   ]
  },
  {
   "cell_type": "markdown",
   "metadata": {},
   "source": [
    "2. 关键参数\n",
    "   * nrows:需要读取的行数\n",
    "   * chunksize： 文件块的大小（用于迭代）"
   ]
  },
  {
   "cell_type": "code",
   "execution_count": null,
   "metadata": {},
   "outputs": [],
   "source": [
    "import pandas as pd\n",
    "# nrows参数示例\n",
    "# 只读取前3行\n",
    "df = pd.read_csv('examples/ex6.csv', nrows=3)  # 只读取前3行\n",
    "print(df)  # 只显示前3行\n",
    "print(\"--\" * 10)\n",
    "\n",
    "# chunksize参数示例\n",
    "# 逐块读取数据，每块1000行\n",
    "chunkReader = pd.read_csv('examples/ex6.csv', chunksize=1000)\n",
    "for piece in chunkReader:  # chunker是一个迭代器，每次迭代返回1000行\n",
    "    print(\"Chunk shape:\", piece.shape)  # 打印当前块的形状\n",
    "    # 可以在这里对每个块进行处理，例如计算某些统计信息等\n",
    "    # 这里只打印块的形状，实际使用中可以根据需求进行处理"
   ]
  },
  {
   "cell_type": "markdown",
   "metadata": {},
   "source": [
    "## 将DataFrame对象写出到文件"
   ]
  },
  {
   "cell_type": "markdown",
   "metadata": {},
   "source": [
    "* to_csv()方法写出到csv文件中，默认为逗号分隔符可以使用sep进行定义分隔符"
   ]
  },
  {
   "cell_type": "code",
   "execution_count": null,
   "metadata": {},
   "outputs": [],
   "source": [
    "import pandas as pd\n",
    "import sys\n",
    "data = pd.read_csv('examples/ex1.csv')\n",
    "# 使用to_csv方法将DataFrame保存为CSV文件\n",
    "data.to_csv('examples/output.csv', index=False)  # 保存为CSV文件，不包含索引\n",
    "\n",
    "data.to_csv(sys.stdout, sep='|') # 将DataFrame输出到标准输出，使用'|'作为分隔符"
   ]
  },
  {
   "cell_type": "markdown",
   "metadata": {},
   "source": [
    "1. to_csv()等相关参数\n",
    "   * sep：定义分隔符\n",
    "   * na_rep：缺失值替换值\n",
    "   * header:是否写出标题行\n",
    "   * columns:需要输出的列和顺序"
   ]
  },
  {
   "cell_type": "code",
   "execution_count": null,
   "metadata": {},
   "outputs": [],
   "source": [
    "from email import header\n",
    "import pandas as pd\n",
    "import sys\n",
    "\n",
    "#na_rep参数示例\n",
    "data = pd.read_csv('examples/ex6.csv') #含有缺失值\n",
    "data.to_csv(sys.stdout, na_rep='NULL',index = False)  # 将缺失值替换为'NULL'并保存为CSV文件,默认为空字符串\n",
    "print(\"--\" * 10)\n",
    "\n",
    "#header参数示例\n",
    "data.to_csv(sys.stdout, na_rep='NULL',index = False,header=False)  # 不输出表头\n",
    "print(\"--\" * 10)\n",
    "\n",
    "#columns参数示例\n",
    "data.to_csv(sys.stdout, na_rep='NaN', index=False, columns=['a', 'b', 'd', 'c'])  # 按顺序输出a, b, d, c列"
   ]
  },
  {
   "cell_type": "markdown",
   "metadata": {},
   "source": [
    "## 读取JSON数据"
   ]
  },
  {
   "cell_type": "markdown",
   "metadata": {},
   "source": [
    "1. JSON简介\n",
    "   * json.loads方法可以将json对象转为python对象\n",
    "   * json.dumps则将Python对象转换成JSON格式："
   ]
  },
  {
   "cell_type": "code",
   "execution_count": null,
   "metadata": {},
   "outputs": [],
   "source": [
    "import pandas as pd\n",
    "import json\n",
    "\n",
    "obj = \"\"\"\n",
    "{\"name\": \"Wes\",\n",
    " \"places_lived\": [\"United States\", \"Spain\", \"Germany\"],\n",
    " \"pet\": null,\n",
    " \"siblings\": [{\"name\": \"Scott\", \"age\": 30, \"pets\": [\"Zeus\", \"Zuko\"]},\n",
    "              {\"name\": \"Katie\", \"age\": 38,\n",
    "               \"pets\": [\"Sixes\", \"Stache\", \"Cisco\"]}]\n",
    "}\n",
    "\"\"\"\n",
    "\n",
    "result = json.loads(obj)\n",
    "print(result)  # 将JSON字符串解析为Python字典\n",
    "print(\"--\" * 10)\n",
    "asjson = json.dumps(result)\n",
    "print(asjson)  # 将Python字典转换为JSON字符串"
   ]
  },
  {
   "cell_type": "markdown",
   "metadata": {},
   "source": [
    "2. 使用pandas的read_json加载json对象为DataFrame  \n",
    "   使用to_json方法将DataFrame对象转为json"
   ]
  },
  {
   "cell_type": "code",
   "execution_count": null,
   "metadata": {},
   "outputs": [],
   "source": [
    "import pandas as pd\n",
    "import json\n",
    "data = pd.read_json('examples/ex7.json')\n",
    "print(data)  # 将JSON文件解析为DataFrame\n",
    "print(\"--\" * 10)\n",
    "json_str = data.to_json()  # 将DataFrame转换为JSON字符串\n",
    "print(json_str)"
   ]
  }
 ],
 "metadata": {
  "kernelspec": {
   "display_name": "Python 3",
   "language": "python",
   "name": "python3"
  },
  "language_info": {
   "codemirror_mode": {
    "name": "ipython",
    "version": 3
   },
   "file_extension": ".py",
   "mimetype": "text/x-python",
   "name": "python",
   "nbconvert_exporter": "python",
   "pygments_lexer": "ipython3",
   "version": "3.9.6"
  }
 },
 "nbformat": 4,
 "nbformat_minor": 2
}
