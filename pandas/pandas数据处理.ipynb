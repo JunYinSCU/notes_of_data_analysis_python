{
 "cells": [
  {
   "cell_type": "markdown",
   "metadata": {},
   "source": [
    "# pandas数据处理\n",
    "\n",
    "## 读取文本数据\n",
    "\n",
    "1. read_csv()和read_table函数可以从文件、url、文件型对象中获取数据转为DataFrame对象；\n",
    "   * read_csv()默认分隔符为,    read_table()默认分隔符为\\t"
   ]
  },
  {
   "cell_type": "code",
   "execution_count": 34,
   "metadata": {},
   "outputs": [
    {
     "name": "stdout",
     "output_type": "stream",
     "text": [
      "   a   b   c   d message\n",
      "0  1   2   3   4   hello\n",
      "1  5   6   7   8   world\n",
      "2  9  10  11  12     foo\n"
     ]
    }
   ],
   "source": [
    "import pandas as pd\n",
    "df = pd.read_csv('examples/ex1.csv')\n",
    "print(df)"
   ]
  },
  {
   "cell_type": "markdown",
   "metadata": {},
   "source": [
    "2. read_csv和read_table函数中常用关键参数\n",
    "   * sep或者delimiter：分隔符或者正则表达式\n",
    "   * header:用作列名的行号，默认为0（即第一行），如果没有header，应该设置为None"
   ]
  },
  {
   "cell_type": "code",
   "execution_count": 35,
   "metadata": {},
   "outputs": [
    {
     "name": "stdout",
     "output_type": "stream",
     "text": [
      "   a   b   c   d message\n",
      "0  1   2   3   4   hello\n",
      "1  5   6   7   8   world\n",
      "2  9  10  11  12     foo\n",
      "--------------------\n",
      "   a   b   c   d message\n",
      "0  1   2   3   4   hello\n",
      "1  5   6   7   8   world\n",
      "2  9  10  11  12     foo\n",
      "--------------------\n",
      "   a   b   c   d message\n",
      "0  1   2   3   4   hello\n",
      "1  5   6   7   8   world\n",
      "2  9  10  11  12     foo\n",
      "--------------------\n",
      "   0   1   2   3      4\n",
      "0  1   2   3   4  hello\n",
      "1  5   6   7   8  world\n",
      "2  9  10  11  12    foo\n"
     ]
    }
   ],
   "source": [
    "# sep参数示例\n",
    "import pandas as pd\n",
    "df = pd.read_table('examples/ex1.csv',sep = ',')\n",
    "print(df)\n",
    "print(\"--\" * 10)\n",
    "df = pd.read_table('examples/ex2.csv',delimiter='\\s+')  # 使用正则表达式匹配分隔符\n",
    "print(df)\n",
    "print(\"--\" * 10)\n",
    "# header参数示例\n",
    "df = pd.read_csv('examples/ex1.csv', header=0)  # 第一行作为表头\n",
    "print(df)\n",
    "print(\"--\" * 10)\n",
    "df = pd.read_csv('examples/ex3.csv', header=None)  # 没有表头,使用默认的整数索引作为列名\n",
    "print(df)"
   ]
  },
  {
   "cell_type": "markdown",
   "metadata": {},
   "source": [
    "2. 关键参数\n",
    "   * names :结合header = None，配置列名，也可修改原有列名\n",
    "   * index_col:用作行索引的列编号或者列名，可以是单个数字/名称或列表，如果是列表则为层次索引"
   ]
  },
  {
   "cell_type": "code",
   "execution_count": 36,
   "metadata": {},
   "outputs": [
    {
     "name": "stdout",
     "output_type": "stream",
     "text": [
      "   A   B   C   D Message\n",
      "0  1   2   3   4   hello\n",
      "1  5   6   7   8   world\n",
      "2  9  10  11  12     foo\n",
      "--------------------\n",
      "   A   B   C   D  Message\n",
      "0  a   b   c   d  message\n",
      "1  1   2   3   4    hello\n",
      "2  5   6   7   8    world\n",
      "3  9  10  11  12      foo\n",
      "--------------------\n",
      "         A   B   C   D\n",
      "Message               \n",
      "hello    1   2   3   4\n",
      "world    5   6   7   8\n",
      "foo      9  10  11  12\n",
      "--------------------\n",
      "           value1  value2\n",
      "key1 key2                \n",
      "one  a          1       2\n",
      "     b          3       4\n",
      "     c          5       6\n",
      "     d          7       8\n",
      "two  a          9      10\n",
      "     b         11      12\n",
      "     c         13      14\n",
      "     d         15      16\n"
     ]
    }
   ],
   "source": [
    "import pandas as pd\n",
    "\n",
    "#names参数示例\n",
    "names = ['A', 'B', 'C', 'D', 'Message'] # 自定义列名\n",
    "df = pd.read_csv('examples/ex3.csv', header=None,names=names)  # 没有表头,使用自定义的列名\n",
    "print(df)\n",
    "print(\"--\" * 10)\n",
    "df = pd.read_csv('examples/ex1.csv', names=names)  # 使用默认的列名\n",
    "print(df)  # 此时会覆盖原有的表头\n",
    "print(\"--\" * 10)\n",
    "\n",
    "#index_col参数示例\n",
    "df = pd.read_csv('examples/ex3.csv', names=names, index_col='Message')\n",
    "print(df)   #此时Message列已经变成了索引，Message成为了索引名\n",
    "print(\"--\" * 10)\n",
    "#层次化索引\n",
    "df = pd.read_csv('examples/ex4.csv', index_col=[0, 1])  # 使用多列作为索引\n",
    "print(df)  # 此时第一列和第二列已经变成了索引"
   ]
  },
  {
   "cell_type": "markdown",
   "metadata": {},
   "source": [
    "2. 关键参数\n",
    "   * skiprows:需要忽略的行数\n",
    "   * na_values:用于指定哪些字符串应该被识别为缺失值"
   ]
  },
  {
   "cell_type": "code",
   "execution_count": 37,
   "metadata": {},
   "outputs": [
    {
     "name": "stdout",
     "output_type": "stream",
     "text": [
      "   a   b   c   d message\n",
      "0  1   2   3   4   hello\n",
      "1  5   6   7   8   world\n",
      "2  9  10  11  12     foo\n",
      "--------------------\n",
      "  something   a   b     c   d message\n",
      "0       one   1   2   3.0   4     NaN\n",
      "1       two   5   6   NaN   8   world\n",
      "2     three   9  10  11.0  12     foo\n",
      "3      four  13  14  15.0  16     bar\n",
      "4      five  17  18  19.0  20     baz\n",
      "--------------------\n",
      "  something   a   b     c   d message\n",
      "0       NaN   1   2   3.0   4     NaN\n",
      "1       two   5   6   NaN   8   world\n",
      "2     three   9  10  11.0  12     foo\n",
      "3      four  13  14  15.0  16     bar\n",
      "4      five  17  18  19.0  20     baz\n",
      "--------------------\n",
      "  something   a   b     c   d message\n",
      "0       one   1   2   3.0   4     NaN\n",
      "1       NaN   5   6   NaN   8   world\n",
      "2     three   9  10  11.0  12     NaN\n",
      "3      four  13  14  15.0  16     bar\n",
      "4      five  17  18  19.0  20     baz\n"
     ]
    }
   ],
   "source": [
    "import pandas as pd\n",
    "# skiprows参数示例\n",
    "# 跳过前3行\n",
    "df = pd.read_csv('examples/ex5.csv', skiprows=[0, 2, 3])  # 跳过第0,2，3行 \n",
    "print(df)\n",
    "print(\"--\" * 10)\n",
    "\n",
    "#na_values参数示例\n",
    "df = pd.read_csv('examples/ex6.csv') # 默认会将空字符串、'NA'、'NaN'等识别为缺失值，以NaN显示\n",
    "print(df)\n",
    "print(\"--\" * 10)\n",
    "\n",
    "result = pd.read_csv('examples/ex6.csv',na_values=['one'])\n",
    "print(result)  # 除默认的外，将'one'也识别为缺失值\n",
    "print(\"--\" * 10)\n",
    "\n",
    "sentinels = {'message': ['foo', 'NA'], 'something': ['two']}\n",
    "# 使用字典指定不同列的缺失值\n",
    "result = pd.read_csv('examples/ex6.csv', na_values=sentinels)\n",
    "print(result)  # 除默认的外，将message列中的'foo'和'NA'，something列中的'two'也识别为缺失值"
   ]
  },
  {
   "cell_type": "markdown",
   "metadata": {},
   "source": [
    "2. 关键参数\n",
    "   * nrows:需要读取的行数\n",
    "   * chunksize： 文件块的大小（用于迭代）"
   ]
  },
  {
   "cell_type": "code",
   "execution_count": 38,
   "metadata": {},
   "outputs": [
    {
     "name": "stdout",
     "output_type": "stream",
     "text": [
      "  something  a   b     c   d message\n",
      "0       one  1   2   3.0   4     NaN\n",
      "1       two  5   6   NaN   8   world\n",
      "2     three  9  10  11.0  12     foo\n",
      "--------------------\n",
      "Chunk shape: (5, 6)\n"
     ]
    }
   ],
   "source": [
    "import pandas as pd\n",
    "# nrows参数示例\n",
    "# 只读取前3行\n",
    "df = pd.read_csv('examples/ex6.csv', nrows=3)  # 只读取前3行\n",
    "print(df)  # 只显示前3行\n",
    "print(\"--\" * 10)\n",
    "\n",
    "# chunksize参数示例\n",
    "# 逐块读取数据，每块1000行\n",
    "chunkReader = pd.read_csv('examples/ex6.csv', chunksize=1000)\n",
    "for piece in chunkReader:  # chunker是一个迭代器，每次迭代返回1000行\n",
    "    print(\"Chunk shape:\", piece.shape)  # 打印当前块的形状\n",
    "    # 可以在这里对每个块进行处理，例如计算某些统计信息等\n",
    "    # 这里只打印块的形状，实际使用中可以根据需求进行处理"
   ]
  },
  {
   "cell_type": "markdown",
   "metadata": {},
   "source": [
    "## 将DataFrame对象写出到文件"
   ]
  },
  {
   "cell_type": "markdown",
   "metadata": {},
   "source": [
    "* to_csv()方法写出到csv文件中，默认为逗号分隔符可以使用sep进行定义分隔符"
   ]
  },
  {
   "cell_type": "code",
   "execution_count": 39,
   "metadata": {},
   "outputs": [
    {
     "name": "stdout",
     "output_type": "stream",
     "text": [
      "|a|b|c|d|message\n",
      "0|1|2|3|4|hello\n",
      "1|5|6|7|8|world\n",
      "2|9|10|11|12|foo\n"
     ]
    }
   ],
   "source": [
    "import pandas as pd\n",
    "import sys\n",
    "data = pd.read_csv('examples/ex1.csv')\n",
    "# 使用to_csv方法将DataFrame保存为CSV文件\n",
    "data.to_csv('examples/output.csv', index=False)  # 保存为CSV文件，不包含索引\n",
    "\n",
    "data.to_csv(sys.stdout, sep='|') # 将DataFrame输出到标准输出，使用'|'作为分隔符"
   ]
  },
  {
   "cell_type": "markdown",
   "metadata": {},
   "source": [
    "1. to_csv()等相关参数\n",
    "   * sep：定义分隔符\n",
    "   * na_rep：缺失值替换值\n",
    "   * header:是否写出标题行\n",
    "   * columns:需要输出的列和顺序"
   ]
  },
  {
   "cell_type": "code",
   "execution_count": 40,
   "metadata": {},
   "outputs": [
    {
     "name": "stdout",
     "output_type": "stream",
     "text": [
      "something,a,b,c,d,message\n",
      "one,1,2,3.0,4,NULL\n",
      "two,5,6,NULL,8,world\n",
      "three,9,10,11.0,12,foo\n",
      "four,13,14,15.0,16,bar\n",
      "five,17,18,19.0,20,baz\n",
      "--------------------\n",
      "one,1,2,3.0,4,NULL\n",
      "two,5,6,NULL,8,world\n",
      "three,9,10,11.0,12,foo\n",
      "four,13,14,15.0,16,bar\n",
      "five,17,18,19.0,20,baz\n",
      "--------------------\n",
      "a,b,d,c\n",
      "1,2,4,3.0\n",
      "5,6,8,NaN\n",
      "9,10,12,11.0\n",
      "13,14,16,15.0\n",
      "17,18,20,19.0\n"
     ]
    }
   ],
   "source": [
    "from email import header\n",
    "import pandas as pd\n",
    "import sys\n",
    "\n",
    "#na_rep参数示例\n",
    "data = pd.read_csv('examples/ex6.csv') #含有缺失值\n",
    "data.to_csv(sys.stdout, na_rep='NULL',index = False)  # 将缺失值替换为'NULL'并保存为CSV文件,默认为空字符串\n",
    "print(\"--\" * 10)\n",
    "\n",
    "#header参数示例\n",
    "data.to_csv(sys.stdout, na_rep='NULL',index = False,header=False)  # 不输出表头\n",
    "print(\"--\" * 10)\n",
    "\n",
    "#columns参数示例\n",
    "data.to_csv(sys.stdout, na_rep='NaN', index=False, columns=['a', 'b', 'd', 'c'])  # 按顺序输出a, b, d, c列"
   ]
  },
  {
   "cell_type": "markdown",
   "metadata": {},
   "source": [
    "## 读取JSON数据"
   ]
  },
  {
   "cell_type": "markdown",
   "metadata": {},
   "source": [
    "1. JSON简介\n",
    "   * json.loads方法可以将json对象转为python对象\n",
    "   * json.dumps则将Python对象转换成JSON格式："
   ]
  },
  {
   "cell_type": "code",
   "execution_count": 41,
   "metadata": {},
   "outputs": [
    {
     "name": "stdout",
     "output_type": "stream",
     "text": [
      "{'name': 'Wes', 'places_lived': ['United States', 'Spain', 'Germany'], 'pet': None, 'siblings': [{'name': 'Scott', 'age': 30, 'pets': ['Zeus', 'Zuko']}, {'name': 'Katie', 'age': 38, 'pets': ['Sixes', 'Stache', 'Cisco']}]}\n",
      "--------------------\n",
      "{\"name\": \"Wes\", \"places_lived\": [\"United States\", \"Spain\", \"Germany\"], \"pet\": null, \"siblings\": [{\"name\": \"Scott\", \"age\": 30, \"pets\": [\"Zeus\", \"Zuko\"]}, {\"name\": \"Katie\", \"age\": 38, \"pets\": [\"Sixes\", \"Stache\", \"Cisco\"]}]}\n"
     ]
    }
   ],
   "source": [
    "import pandas as pd\n",
    "import json\n",
    "\n",
    "obj = \"\"\"\n",
    "{\"name\": \"Wes\",\n",
    " \"places_lived\": [\"United States\", \"Spain\", \"Germany\"],\n",
    " \"pet\": null,\n",
    " \"siblings\": [{\"name\": \"Scott\", \"age\": 30, \"pets\": [\"Zeus\", \"Zuko\"]},\n",
    "              {\"name\": \"Katie\", \"age\": 38,\n",
    "               \"pets\": [\"Sixes\", \"Stache\", \"Cisco\"]}]\n",
    "}\n",
    "\"\"\"\n",
    "\n",
    "result = json.loads(obj)\n",
    "print(result)  # 将JSON字符串解析为Python字典\n",
    "print(\"--\" * 10)\n",
    "asjson = json.dumps(result)\n",
    "print(asjson)  # 将Python字典转换为JSON字符串"
   ]
  },
  {
   "cell_type": "markdown",
   "metadata": {},
   "source": [
    "2. 使用pandas的read_json加载json对象为DataFrame  \n",
    "   使用to_json方法将DataFrame对象转为json"
   ]
  },
  {
   "cell_type": "code",
   "execution_count": 42,
   "metadata": {},
   "outputs": [
    {
     "name": "stdout",
     "output_type": "stream",
     "text": [
      "   a  b  c\n",
      "0  1  2  3\n",
      "1  4  5  6\n",
      "2  7  8  9\n",
      "--------------------\n",
      "{\"a\":{\"0\":1,\"1\":4,\"2\":7},\"b\":{\"0\":2,\"1\":5,\"2\":8},\"c\":{\"0\":3,\"1\":6,\"2\":9}}\n"
     ]
    }
   ],
   "source": [
    "import pandas as pd\n",
    "import json\n",
    "data = pd.read_json('examples/ex7.json')\n",
    "print(data)  # 将JSON文件解析为DataFrame\n",
    "print(\"--\" * 10)\n",
    "json_str = data.to_json()  # 将DataFrame转换为JSON字符串\n",
    "print(json_str)"
   ]
  },
  {
   "cell_type": "markdown",
   "metadata": {},
   "source": [
    "## 缺失值处理"
   ]
  },
  {
   "cell_type": "markdown",
   "metadata": {},
   "source": [
    "### pandas中处理缺失数据的方法"
   ]
  },
  {
   "cell_type": "markdown",
   "metadata": {},
   "source": [
    "属性方法：\n",
    "1. dropna(axis = 0/1):若axis为0，则删除有缺失值的行，若axis为1，则删除有缺失值的列,默认为0；\n",
    "2. fillna(value=,axis=);value为填充值\n",
    "   1. 变种方法 ffill()为前向填充，bfill()为后向填充\n",
    "3. isnull():返回布尔类型DataFrame\n",
    "4. notnull():与isnull相反"
   ]
  },
  {
   "cell_type": "code",
   "execution_count": 43,
   "metadata": {},
   "outputs": [
    {
     "name": "stdout",
     "output_type": "stream",
     "text": [
      "   col1  col2  col3\n",
      "3   4.0   8.0   9.0\n",
      "--------------------\n",
      "Empty DataFrame\n",
      "Columns: []\n",
      "Index: [0, 1, 2, 3]\n"
     ]
    }
   ],
   "source": [
    "import pandas as pd\n",
    "import numpy as np\n",
    "\n",
    "data = {'col1': [1, 2, np.nan, 4], \n",
    "        'col2': [5, np.nan, 7, 8], \n",
    "        'col3': [np.nan, np.nan, np.nan, 9]}\n",
    "df = pd.DataFrame(data)\n",
    "\n",
    "df_dropna_rows = df.dropna()  # 删除包含缺失值的行\n",
    "print(df_dropna_rows)  # 打印删除缺失值后的DataFrame\n",
    "print(\"--\" * 10)\n",
    "\n",
    "df_dropna_cols = df.dropna(axis=1)  # 删除包含缺失值的列\n",
    "print(df_dropna_cols)  # 打印删除缺失值后的DataFrame\n",
    "\n"
   ]
  },
  {
   "cell_type": "code",
   "execution_count": 44,
   "metadata": {},
   "outputs": [
    {
     "name": "stdout",
     "output_type": "stream",
     "text": [
      "   col1  col2  col3\n",
      "0   1.0   5.0   0.0\n",
      "1   2.0   0.0   0.0\n",
      "2   0.0   7.0   0.0\n",
      "3   4.0   8.0   9.0\n",
      "--------------------\n",
      "   col1  col2  col3\n",
      "0   1.0   5.0   NaN\n",
      "1   2.0   1.0   NaN\n",
      "2   0.0   7.0   NaN\n",
      "3   4.0   8.0   9.0\n",
      "--------------------\n",
      "   col1  col2  col3\n",
      "0   1.0   5.0   NaN\n",
      "1   2.0   5.0   NaN\n",
      "2   2.0   7.0   NaN\n",
      "3   4.0   8.0   9.0\n"
     ]
    }
   ],
   "source": [
    "import pandas as pd\n",
    "import numpy as np\n",
    "\n",
    "data = {'col1': [1, 2, np.nan, 4], \n",
    "        'col2': [5, np.nan, 7, 8], \n",
    "        'col3': [np.nan, np.nan, np.nan, 9]}\n",
    "df = pd.DataFrame(data)\n",
    "df_fillna_value = df.fillna(0)  # 用0填充缺失值\n",
    "print(df_fillna_value)  # 打印填充缺失值后的DataFrame\n",
    "print(\"--\" * 10)\n",
    "#如果传入一个字典，则可以指定不同列的填充值\n",
    "df_fillna_dict = df.fillna({'col1': 0, 'col2': 1})  # 用字典指定不同列的填充值\n",
    "print(df_fillna_dict)  # 打印填充缺失值后的DataFrame\n",
    "print(\"--\" * 10)\n",
    "df_ffill = df.ffill()  # 用前一个值填充缺失值\n",
    "print(df_ffill)  # 打印填充缺失值后的DataFrame"
   ]
  },
  {
   "cell_type": "code",
   "execution_count": 45,
   "metadata": {},
   "outputs": [
    {
     "name": "stdout",
     "output_type": "stream",
     "text": [
      "    col1   col2   col3\n",
      "0  False  False   True\n",
      "1  False   True   True\n",
      "2   True  False   True\n",
      "3  False  False  False\n",
      "--------------------\n",
      "    col1   col2   col3\n",
      "0   True   True  False\n",
      "1   True  False  False\n",
      "2  False   True  False\n",
      "3   True   True   True\n"
     ]
    }
   ],
   "source": [
    "import pandas as pd\n",
    "import numpy as np\n",
    "\n",
    "data = {'col1': [1, 2, np.nan, 4], \n",
    "        'col2': [5, np.nan, 7, 8], \n",
    "        'col3': [np.nan, np.nan, np.nan, 9]}\n",
    "df = pd.DataFrame(data)\n",
    "\n",
    "print(df.isnull())  # 检查缺失值\n",
    "print(\"--\" * 10)\n",
    "print(df.notnull())  # 检查非缺失值"
   ]
  },
  {
   "cell_type": "markdown",
   "metadata": {},
   "source": [
    "## 数据转换"
   ]
  },
  {
   "cell_type": "markdown",
   "metadata": {},
   "source": [
    "### 移除重复数据\n",
    "1. 属性方法duplicated，返回一个布尔Series，可以判断各行是否是重复行\n",
    "2. 属性方法drop_duplicates()返回一个DataFrame对象，删除重复的行"
   ]
  },
  {
   "cell_type": "code",
   "execution_count": 46,
   "metadata": {},
   "outputs": [
    {
     "name": "stdout",
     "output_type": "stream",
     "text": [
      "    k1  k2\n",
      "0  one   1\n",
      "1  two   1\n",
      "2  one   2\n",
      "3  two   1\n",
      "4  one   3\n",
      "5  two   4\n",
      "6  two   4\n",
      "--------------------\n",
      "0    False\n",
      "1    False\n",
      "2    False\n",
      "3     True\n",
      "4    False\n",
      "5    False\n",
      "6     True\n",
      "dtype: bool\n"
     ]
    }
   ],
   "source": [
    "import pandas as pd\n",
    "import numpy as np\n",
    "\n",
    "data = pd.DataFrame({'k1': ['one', 'two'] * 3 + ['two'],\n",
    "                   'k2': [1, 1, 2, 1, 3, 4, 4]})\n",
    "print(data)  # 打印原始数据\n",
    "print(\"--\" * 10)\n",
    "\n",
    "print(data.duplicated())  # 检查重复行"
   ]
  },
  {
   "cell_type": "code",
   "execution_count": 47,
   "metadata": {},
   "outputs": [
    {
     "name": "stdout",
     "output_type": "stream",
     "text": [
      "    k1  k2\n",
      "0  one   1\n",
      "1  two   1\n",
      "2  one   2\n",
      "3  two   1\n",
      "4  one   3\n",
      "5  two   4\n",
      "6  two   4\n",
      "--------------------\n",
      "    k1  k2\n",
      "0  one   1\n",
      "1  two   1\n",
      "2  one   2\n",
      "4  one   3\n",
      "5  two   4\n"
     ]
    }
   ],
   "source": [
    "import pandas as pd\n",
    "import numpy as np\n",
    "\n",
    "data = pd.DataFrame({'k1': ['one', 'two'] * 3 + ['two'],\n",
    "                   'k2': [1, 1, 2, 1, 3, 4, 4]})\n",
    "print(data)  # 打印原始数据\n",
    "print(\"--\" * 10)\n",
    "\n",
    "print(data.drop_duplicates())  # 删除重复行"
   ]
  },
  {
   "cell_type": "markdown",
   "metadata": {},
   "source": [
    "* duplicated()和drop_duplicates()默认判断全部列是否重复（即只有全部列的值都相同的行才会被判定为相同）\n",
    "* 可以指定需要判断的列"
   ]
  },
  {
   "cell_type": "code",
   "execution_count": 48,
   "metadata": {},
   "outputs": [
    {
     "name": "stdout",
     "output_type": "stream",
     "text": [
      "    k1  k2\n",
      "0  one   1\n",
      "1  two   1\n",
      "2  one   2\n",
      "3  two   1\n",
      "4  one   3\n",
      "5  two   4\n",
      "6  two   4\n",
      "--------------------\n",
      "    k1  k2\n",
      "0  one   1\n",
      "1  two   1\n"
     ]
    }
   ],
   "source": [
    "import pandas as pd\n",
    "import numpy as np\n",
    "\n",
    "data = pd.DataFrame({'k1': ['one', 'two'] * 3 + ['two'],\n",
    "                   'k2': [1, 1, 2, 1, 3, 4, 4]})\n",
    "print(data)  # 打印原始数据\n",
    "print(\"--\" * 10)\n",
    "\n",
    "print(data.drop_duplicates(['k1']))  # 删除重复行"
   ]
  },
  {
   "cell_type": "markdown",
   "metadata": {},
   "source": [
    "### 利用函数或映射进行数据转换\n",
    "\n",
    "* 考虑以下情形：如果我们要添加一列表示肉类的来源。我们可定义一个映射或者函数，来实现。\n",
    "* 对某列使用属性方法map()，传入映射字典或者函数即可完成。"
   ]
  },
  {
   "cell_type": "code",
   "execution_count": 49,
   "metadata": {},
   "outputs": [
    {
     "name": "stdout",
     "output_type": "stream",
     "text": [
      "          food  ounces\n",
      "0        bacon       4\n",
      "1  pulled pork       3\n",
      "2        bacon      12\n",
      "3     pastrami       6\n",
      "4  corned beef       4\n",
      "5        bacon       5\n",
      "6     pastrami      10\n",
      "--------------------\n",
      "          food  ounces animal\n",
      "0        bacon       4    pig\n",
      "1  pulled pork       3    pig\n",
      "2        bacon      12    pig\n",
      "3     pastrami       6    cow\n",
      "4  corned beef       4    cow\n",
      "5        bacon       5    pig\n",
      "6     pastrami      10    cow\n"
     ]
    }
   ],
   "source": [
    "import pandas as pd\n",
    "import numpy as np\n",
    "data = pd.DataFrame({'food': ['bacon', 'pulled pork', 'bacon', 'pastrami', 'corned beef', 'bacon', 'pastrami'],\n",
    "                     'ounces': [4, 3, 12, 6, 4, 5, 10]})\n",
    "\n",
    "print(data)  # 打印原始数据\n",
    "print(\"--\" * 10)\n",
    "\n",
    "#定义一个字典，将食物名称映射到动物名称\n",
    "meat_to_animal = {\n",
    "  'bacon': 'pig',\n",
    "  'pulled pork': 'pig',\n",
    "  'pastrami': 'cow',\n",
    "  'corned beef': 'cow',\n",
    "  'honey ham': 'pig',\n",
    "  'nova lox': 'salmon'\n",
    "}\n",
    "# 使用map方法将食物名称映射到动物名称\n",
    "data['animal'] = data['food'].map(meat_to_animal)  # 添加新列'animal'\n",
    "print(data)  # 打印添加新列后的数据"
   ]
  },
  {
   "cell_type": "markdown",
   "metadata": {},
   "source": [
    "### 替换值\n",
    "* 使用属性方法replace()完成对DataFrame中值的替换"
   ]
  },
  {
   "cell_type": "code",
   "execution_count": 50,
   "metadata": {},
   "outputs": [
    {
     "name": "stdout",
     "output_type": "stream",
     "text": [
      "0       1.0\n",
      "1    -999.0\n",
      "2       2.0\n",
      "3    -999.0\n",
      "4   -1000.0\n",
      "5       3.0\n",
      "dtype: float64\n",
      "--------------------\n",
      "0       1.0\n",
      "1       NaN\n",
      "2       2.0\n",
      "3       NaN\n",
      "4   -1000.0\n",
      "5       3.0\n",
      "dtype: float64\n",
      "--------------------\n",
      "0    1.0\n",
      "1    NaN\n",
      "2    2.0\n",
      "3    NaN\n",
      "4    0.0\n",
      "5    3.0\n",
      "dtype: float64\n",
      "--------------------\n",
      "0    1.0\n",
      "1    NaN\n",
      "2    2.0\n",
      "3    NaN\n",
      "4    0.0\n",
      "5    3.0\n",
      "dtype: float64\n"
     ]
    }
   ],
   "source": [
    "from math import nan\n",
    "import pandas as pd\n",
    "import numpy as np\n",
    "\n",
    "data = pd.Series([1., -999., 2., -999., -1000., 3.])\n",
    "print(data)  # 打印原始数据\n",
    "print(\"--\" * 10)\n",
    "\n",
    "# 使用replace方法替换值\n",
    "data1 = data.replace(-999,np.nan)  # 将-999替换为NaN    如果定义关键字inplace=True可以直接在原数据上进行替换\n",
    "print(data1)  # 打印替换后的数据\n",
    "print(\"--\" * 10)\n",
    "\n",
    "data2 = data.replace([-999, -1000], [np.nan, 0])  # 也可以传递列表，一一对应转换将-999替换为NaN，-1000替换为0\n",
    "print(data2)  # 打印替换后的数据\n",
    "print(\"--\" * 10)\n",
    "\n",
    "data3 = data.replace({-999: np.nan, -1000: 0})  # 也可以传递字典，指定要替换的值和对应的替换值\n",
    "print(data3)  # 打印替换后的数据"
   ]
  },
  {
   "cell_type": "code",
   "execution_count": 51,
   "metadata": {},
   "outputs": [
    {
     "name": "stdout",
     "output_type": "stream",
     "text": [
      "          food  ounces\n",
      "0        bacon       4\n",
      "1  pulled pork       3\n",
      "2        bacon      12\n",
      "3     pastrami       6\n",
      "4  corned beef       4\n",
      "5        bacon       5\n",
      "6     pastrami      10\n",
      "--------------------\n",
      "          food  ounces\n",
      "0         beef       4\n",
      "1  pulled pork       3\n",
      "2         beef      12\n",
      "3     pastrami       6\n",
      "4  corned beef       4\n",
      "5         beef       5\n",
      "6     pastrami      10\n"
     ]
    }
   ],
   "source": [
    "import pandas as pd\n",
    "import numpy as np\n",
    "data = pd.DataFrame({'food': ['bacon', 'pulled pork', 'bacon', 'pastrami', 'corned beef', 'bacon', 'pastrami'],\n",
    "                     'ounces': [4, 3, 12, 6, 4, 5, 10]})\n",
    "\n",
    "data1 = data.replace('bacon1', 'beef')  # 将所有'bacon'替换为'beef'\n",
    "print(data1)  # 打印替换后的数据\n",
    "print(\"--\" * 10)\n",
    "\n",
    "data2 = data.replace({'food': 'bacon'}, 'beef')  # 如果只想对某一列进行替换，可以传入一个字典将'food'列中的'bacon'替换为'beef'\n",
    "print(data2)  # 打印替换后的数据"
   ]
  },
  {
   "cell_type": "markdown",
   "metadata": {},
   "source": [
    "### 重命名轴索引\n",
    "* 用data.index获取索引后，可以用之前的map方法进行映射"
   ]
  },
  {
   "cell_type": "code",
   "execution_count": 52,
   "metadata": {},
   "outputs": [
    {
     "name": "stdout",
     "output_type": "stream",
     "text": [
      "          one  two  three  four\n",
      "Ohio        0    1      2     3\n",
      "Colorado    4    5      6     7\n",
      "New York    8    9     10    11\n",
      "--------------------\n",
      "      one  two  three  four\n",
      "OHIO    0    1      2     3\n",
      "COLO    4    5      6     7\n",
      "NEW     8    9     10    11\n"
     ]
    }
   ],
   "source": [
    "import pandas as pd\n",
    "import numpy as np\n",
    "data = pd.DataFrame(np.arange(12).reshape((3, 4)),\n",
    "                     index=['Ohio', 'Colorado', 'New York'],\n",
    "                     columns=['one', 'two', 'three', 'four'])\n",
    "print(data)  # 打印原始数据\n",
    "print(\"--\" * 10)\n",
    "transform = lambda x: x[:4].upper()\n",
    "data.index = data.index.map(transform)\n",
    "print(data)  # 打印转换后的数据\n"
   ]
  },
  {
   "cell_type": "markdown",
   "metadata": {},
   "source": [
    "* 使用上述方法会使原始数据被修改，可以用属性方法rename()进行修改，会返回新的对象而不修改源数据"
   ]
  },
  {
   "cell_type": "code",
   "execution_count": 53,
   "metadata": {},
   "outputs": [
    {
     "name": "stdout",
     "output_type": "stream",
     "text": [
      "          one  two  three  four\n",
      "Ohio        0    1      2     3\n",
      "Colorado    4    5      6     7\n",
      "New York    8    9     10    11\n",
      "--------------------\n",
      "          ONE  TWO  THREE  FOUR\n",
      "Ohio        0    1      2     3\n",
      "Colorado    4    5      6     7\n",
      "New York    8    9     10    11\n",
      "--------------------\n",
      "          ONE  TWO  three  four\n",
      "OHIO        0    1      2     3\n",
      "COLORADO    4    5      6     7\n",
      "New York    8    9     10    11\n"
     ]
    }
   ],
   "source": [
    "import pandas as pd\n",
    "import numpy as np\n",
    "data = pd.DataFrame(np.arange(12).reshape((3, 4)),\n",
    "                     index=['Ohio', 'Colorado', 'New York'],\n",
    "                     columns=['one', 'two', 'three', 'four'])\n",
    "print(data)  # 打印原始数据\n",
    "print(\"--\" * 10)\n",
    "\n",
    "data2 = data.rename(index=str.title, columns=str.upper) #index和columns参数都可以传入函数，函数会作用于索引名或者列名\n",
    "# 这里使用str.title函数将索引名转换为标题格式，使用str.upper函数将列名转换为大写\n",
    "print(data2)  # 打印转换后的数据\n",
    "print(\"--\" * 10)\n",
    "\n",
    "data3 = data.rename(index={'Ohio': 'OHIO', 'Colorado': 'COLORADO'}, columns={'one': 'ONE', 'two': 'TWO'}) #也可以传入字典，实现对索引名或者列名的部分替换\n",
    "print(data3)  # 打印转换后的数据"
   ]
  },
  {
   "cell_type": "markdown",
   "metadata": {},
   "source": [
    "### 离散化和面元划分\n",
    "* 即：将数据拆分分组\n"
   ]
  },
  {
   "cell_type": "markdown",
   "metadata": {},
   "source": [
    "1. 用pandas方法cut()将数据进行分组，返回一个特殊对象categories，展示每个数据的分组情况\n",
    "* cut()方法默认左开右闭，若要将分组改为左闭右开，可以使用right关键字"
   ]
  },
  {
   "cell_type": "code",
   "execution_count": 54,
   "metadata": {},
   "outputs": [
    {
     "name": "stdout",
     "output_type": "stream",
     "text": [
      "[(18, 25], (18, 25], (18, 25], (25, 35], (18, 25], ..., (25, 35], (60, 100], (35, 60], (35, 60], (25, 35]]\n",
      "Length: 12\n",
      "Categories (4, interval[int64, right]): [(18, 25] < (25, 35] < (35, 60] < (60, 100]]\n",
      "--------------------\n",
      "[[18, 25), [18, 25), [25, 35), [25, 35), [18, 25), ..., [25, 35), [60, 100), [35, 60), [35, 60), [25, 35)]\n",
      "Length: 12\n",
      "Categories (4, interval[int64, left]): [[18, 25) < [25, 35) < [35, 60) < [60, 100)]\n"
     ]
    }
   ],
   "source": [
    "import pandas as pd\n",
    "import numpy as np\n",
    "ages = [20, 22, 25, 27, 21, 23, 37, 31, 61, 45, 41, 32]\n",
    "bins = [18, 25, 35, 60, 100]#五个数，四个分组\n",
    "#分组为18-25, 26-35, 36-60, 61-100,默认左开右闭\n",
    "\n",
    "cats = pd.cut(ages, bins)\n",
    "print(cats)  # 打印分组结果\n",
    "print(\"--\" * 10)\n",
    "\n",
    "cats = pd.cut(ages, bins,right=False) #左闭右开，False表示右开\n",
    "print(cats)  # 打印分组结果"
   ]
  },
  {
   "cell_type": "markdown",
   "metadata": {},
   "source": [
    "* 若要对分组的结果进行统计数据，可以使用pandas.Series方法value_counts(),传入一个categories对象"
   ]
  },
  {
   "cell_type": "code",
   "execution_count": 55,
   "metadata": {},
   "outputs": [
    {
     "name": "stdout",
     "output_type": "stream",
     "text": [
      "(18, 25]     5\n",
      "(25, 35]     3\n",
      "(35, 60]     3\n",
      "(60, 100]    1\n",
      "Name: count, dtype: int64\n"
     ]
    }
   ],
   "source": [
    "import pandas as pd\n",
    "import numpy as np\n",
    "ages = [20, 22, 25, 27, 21, 23, 37, 31, 61, 45, 41, 32]\n",
    "bins = [18, 25, 35, 60, 100]\n",
    "#分组为18-25, 26-35, 36-60, 61-100\n",
    "cats = pd.cut(ages, bins)\n",
    "print(pd.Series.value_counts(cats))"
   ]
  },
  {
   "cell_type": "markdown",
   "metadata": {},
   "source": [
    "* 如果想要为每个区间设置一个名称，可以使用labels关键字传入一个列表"
   ]
  },
  {
   "cell_type": "code",
   "execution_count": 56,
   "metadata": {},
   "outputs": [
    {
     "name": "stdout",
     "output_type": "stream",
     "text": [
      "Youth         5\n",
      "YoungAdult    3\n",
      "MiddleAged    3\n",
      "Senior        1\n",
      "Name: count, dtype: int64\n"
     ]
    }
   ],
   "source": [
    "import pandas as pd\n",
    "import numpy as np\n",
    "ages = [20, 22, 25, 27, 21, 23, 37, 31, 61, 45, 41, 32]\n",
    "bins = [18, 25, 35, 60, 100]    #五个数，四个分组\n",
    "#分组为18-25, 26-35, 36-60, 61-100,默认左开右闭\n",
    "group_names = ['Youth', 'YoungAdult', 'MiddleAged', 'Senior']   #列表个数一定要和分组个数一致\n",
    "cats = pd.cut(ages, bins,labels=group_names) #  \n",
    "print(pd.Series.value_counts(cats))  # 打印分组结果"
   ]
  },
  {
   "cell_type": "markdown",
   "metadata": {},
   "source": [
    "* 如果传入cut的不是分组列表，而是一个数x，则会根据数据最值自动计算并分成x个分组"
   ]
  },
  {
   "cell_type": "code",
   "execution_count": 57,
   "metadata": {},
   "outputs": [
    {
     "name": "stdout",
     "output_type": "stream",
     "text": [
      "[(0.27, 0.5], (0.72, 0.95], (0.27, 0.5], (0.27, 0.5], (0.048, 0.27], ..., (0.72, 0.95], (0.72, 0.95], (0.5, 0.72], (0.72, 0.95], (0.72, 0.95]]\n",
      "Length: 20\n",
      "Categories (4, interval[float64, right]): [(0.048, 0.27] < (0.27, 0.5] < (0.5, 0.72] < (0.72, 0.95]]\n"
     ]
    }
   ],
   "source": [
    "import pandas as pd\n",
    "import numpy as np\n",
    "data = np.random.rand(20)\n",
    "cats = pd.cut(data, 4,precision=2)  # 将数据分为4组 选项precision=2，限定小数只有两位。\n",
    "print(cats)  # 打印分组结果"
   ]
  },
  {
   "cell_type": "markdown",
   "metadata": {},
   "source": [
    "2. qcut()函数可以根据分位数将数据分组  \n",
    "    cut可能无法使各个分组中含有相同数量的数据点。而qcut由于使用的是样本分位数，因此可以得到大小基本相等的分组："
   ]
  },
  {
   "cell_type": "code",
   "execution_count": 58,
   "metadata": {},
   "outputs": [
    {
     "name": "stdout",
     "output_type": "stream",
     "text": [
      "['Q3', 'Q1', 'Q3', 'Q3', 'Q3', ..., 'Q2', 'Q1', 'Q2', 'Q4', 'Q1']\n",
      "Length: 1000\n",
      "Categories (4, object): ['Q1' < 'Q2' < 'Q3' < 'Q4']\n",
      "--------------------\n",
      "Q1    250\n",
      "Q2    250\n",
      "Q3    250\n",
      "Q4    250\n",
      "Name: count, dtype: int64\n"
     ]
    }
   ],
   "source": [
    "import pandas as pd\n",
    "import numpy as np\n",
    "\n",
    "data = np.random.randn(1000)\n",
    "\n",
    "cats = pd.qcut(data, 4, labels=['Q1', 'Q2', 'Q3', 'Q4'])  # 将数据分为4组，并指定标签\n",
    "print(cats)  # 打印分组结果\n",
    "print(\"--\" * 10)\n",
    "print(pd.Series.value_counts(cats))"
   ]
  },
  {
   "cell_type": "markdown",
   "metadata": {},
   "source": [
    "### 检测和过滤异常值"
   ]
  },
  {
   "cell_type": "markdown",
   "metadata": {},
   "source": [
    "* 过滤或变换异常值（outlier）在很大程度上就是运用数组运算。对数据进行处理"
   ]
  },
  {
   "cell_type": "code",
   "execution_count": 59,
   "metadata": {},
   "outputs": [],
   "source": [
    "import pandas as pd\n",
    "import numpy as np\n",
    "data = pd.DataFrame(np.random.randn(1000, 4))\n",
    "\n",
    "data[np.abs(data) > 3] = np.sign(data) * 3 #将大于3的值替换为3，小于-3的值替换为-3\n",
    "#根据数据的值是正还是负，np.sign(data)可以生成1和-1"
   ]
  },
  {
   "cell_type": "markdown",
   "metadata": {},
   "source": [
    "### 排列和随机采样"
   ]
  },
  {
   "cell_type": "markdown",
   "metadata": {},
   "source": [
    "1. 重排列\n",
    "* 利用numpy.random.permutation函数，传入一个数，可以返回一个表示新顺序的整数数组\n",
    "* 随后使用属性方法take进行重排列\n",
    "2. 随机采样\n",
    "   * 使用属性方法sample函数进行随机采样，传入一个整数x，获得随机x行数据"
   ]
  },
  {
   "cell_type": "code",
   "execution_count": 60,
   "metadata": {},
   "outputs": [
    {
     "name": "stdout",
     "output_type": "stream",
     "text": [
      "[0 3 1 4 2]\n",
      "--------------------\n",
      "    0   1   2   3\n",
      "0   0   1   2   3\n",
      "1   4   5   6   7\n",
      "2   8   9  10  11\n",
      "3  12  13  14  15\n",
      "4  16  17  18  19\n",
      "--------------------\n",
      "    0   1   2   3\n",
      "0   0   1   2   3\n",
      "3  12  13  14  15\n",
      "1   4   5   6   7\n",
      "4  16  17  18  19\n",
      "2   8   9  10  11\n",
      "--------------------\n",
      "   0  1   2   3\n",
      "0  0  1   2   3\n",
      "1  4  5   6   7\n",
      "2  8  9  10  11\n"
     ]
    }
   ],
   "source": [
    "import pandas as pd\n",
    "import numpy as np\n",
    "\n",
    "df = pd.DataFrame(np.arange(5 * 4).reshape((5, 4)))\n",
    "\n",
    "sampler = np.random.permutation(5)  # 随机排列0-4的整数\n",
    "print(sampler)  # 打印随机排列的整数\n",
    "print(\"--\" * 10)\n",
    "\n",
    "print(df)\n",
    "print(\"--\" * 10)\n",
    "\n",
    "df1 = df.take(sampler) #take函数返回给定位置的元素的方法。\n",
    "print(df1)  # 打印原始数据\n",
    "print(\"--\" * 10)\n",
    "\n",
    "df2 = df.sample(n=3)  # 随机抽取3行\n",
    "print(df2)  # 打印随机抽取的3行"
   ]
  },
  {
   "cell_type": "markdown",
   "metadata": {},
   "source": [
    "### pandas独热编码"
   ]
  },
  {
   "cell_type": "markdown",
   "metadata": {},
   "source": [
    "* 机器学习中常将分类变量转换为哑变量/指标矩阵(独热编码)\n",
    "* 如果DataFrame的某一列中含有k个不同的值，则可以派生出一个k列矩阵或DataFrame\n",
    "* pandas方法get_dummies可以实现，用于对某一列转换为独热编码"
   ]
  },
  {
   "cell_type": "code",
   "execution_count": 61,
   "metadata": {},
   "outputs": [
    {
     "name": "stdout",
     "output_type": "stream",
     "text": [
      "       a      b      c\n",
      "0  False   True  False\n",
      "1  False   True  False\n",
      "2   True  False  False\n",
      "3  False  False   True\n",
      "4   True  False  False\n",
      "5  False   True  False\n"
     ]
    }
   ],
   "source": [
    "import pandas as pd\n",
    "import numpy as np\n",
    "df = pd.DataFrame({'key': ['b', 'b', 'a', 'c', 'a', 'b'],\n",
    "                     'value': range(6)})\n",
    "\n",
    "df1 = pd.get_dummies(df['key'])  # 使用get_dummies方法进行独热编码，可以传入DataFrame或者Series\n",
    "print(df1)  # 打印独热编码后的数据"
   ]
  },
  {
   "cell_type": "code",
   "execution_count": 62,
   "metadata": {},
   "outputs": [
    {
     "name": "stdout",
     "output_type": "stream",
     "text": [
      "   颜色 尺寸\n",
      "0  红色  大\n",
      "1  蓝色  小\n",
      "2  绿色  中\n",
      "3  红色  大\n",
      "--------------------\n",
      "   颜色_红色  颜色_绿色  颜色_蓝色  尺寸_中  尺寸_大  尺寸_小\n",
      "0      1      0      0     0     1     0\n",
      "1      0      0      1     0     0     1\n",
      "2      0      1      0     1     0     0\n",
      "3      1      0      0     0     1     0\n"
     ]
    }
   ],
   "source": [
    "import pandas as pd\n",
    "import numpy as np\n",
    "data = {'颜色': ['红色', '蓝色', '绿色', '红色'],\n",
    "        '尺寸': ['大', '小', '中', '大']}\n",
    "df = pd.DataFrame(data)\n",
    "print(df)\n",
    "print(\"--\" * 10)\n",
    "# 使用 get_dummies 进行独热编码\n",
    "df_dummies = pd.get_dummies(df).astype(int) # 将独热编码后的数据转换为整数类型\n",
    "print(df_dummies)"
   ]
  },
  {
   "cell_type": "markdown",
   "metadata": {},
   "source": [
    "## 字符串操作"
   ]
  },
  {
   "cell_type": "markdown",
   "metadata": {},
   "source": [
    "### 字符串对象方法"
   ]
  },
  {
   "cell_type": "markdown",
   "metadata": {},
   "source": [
    "### 正则表达式"
   ]
  },
  {
   "cell_type": "markdown",
   "metadata": {},
   "source": [
    "### pandas矢量化字符串函数"
   ]
  }
 ],
 "metadata": {
  "kernelspec": {
   "display_name": "Python 3",
   "language": "python",
   "name": "python3"
  },
  "language_info": {
   "codemirror_mode": {
    "name": "ipython",
    "version": 3
   },
   "file_extension": ".py",
   "mimetype": "text/x-python",
   "name": "python",
   "nbconvert_exporter": "python",
   "pygments_lexer": "ipython3",
   "version": "3.9.6"
  }
 },
 "nbformat": 4,
 "nbformat_minor": 2
}
